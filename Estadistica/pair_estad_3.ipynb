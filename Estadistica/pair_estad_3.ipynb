{
 "cells": [
  {
   "cell_type": "code",
   "execution_count": 1,
   "metadata": {},
   "outputs": [],
   "source": [
    "import pandas as pd\n",
    "import numpy as np\n",
    "import seaborn as sns\n",
    "from scipy.stats import skew\n",
    "import matplotlib.pyplot as plt\n",
    "import scipy.stats as st"
   ]
  },
  {
   "cell_type": "code",
   "execution_count": 2,
   "metadata": {},
   "outputs": [
    {
     "data": {
      "text/html": [
       "<div>\n",
       "<style scoped>\n",
       "    .dataframe tbody tr th:only-of-type {\n",
       "        vertical-align: middle;\n",
       "    }\n",
       "\n",
       "    .dataframe tbody tr th {\n",
       "        vertical-align: top;\n",
       "    }\n",
       "\n",
       "    .dataframe thead th {\n",
       "        text-align: right;\n",
       "    }\n",
       "</style>\n",
       "<table border=\"1\" class=\"dataframe\">\n",
       "  <thead>\n",
       "    <tr style=\"text-align: right;\">\n",
       "      <th></th>\n",
       "      <th>Name</th>\n",
       "      <th>Author</th>\n",
       "      <th>User Rating</th>\n",
       "      <th>Reviews</th>\n",
       "      <th>Price</th>\n",
       "      <th>Year</th>\n",
       "      <th>Genre</th>\n",
       "    </tr>\n",
       "  </thead>\n",
       "  <tbody>\n",
       "    <tr>\n",
       "      <th>0</th>\n",
       "      <td>10-Day Green Smoothie Cleanse</td>\n",
       "      <td>JJ Smith</td>\n",
       "      <td>4.7</td>\n",
       "      <td>17350</td>\n",
       "      <td>8</td>\n",
       "      <td>2016</td>\n",
       "      <td>Non Fiction</td>\n",
       "    </tr>\n",
       "    <tr>\n",
       "      <th>1</th>\n",
       "      <td>11/22/63: A Novel</td>\n",
       "      <td>Stephen King</td>\n",
       "      <td>4.6</td>\n",
       "      <td>2052</td>\n",
       "      <td>22</td>\n",
       "      <td>2011</td>\n",
       "      <td>Fiction</td>\n",
       "    </tr>\n",
       "  </tbody>\n",
       "</table>\n",
       "</div>"
      ],
      "text/plain": [
       "                            Name        Author  User Rating  Reviews  Price  \\\n",
       "0  10-Day Green Smoothie Cleanse      JJ Smith          4.7    17350      8   \n",
       "1              11/22/63: A Novel  Stephen King          4.6     2052     22   \n",
       "\n",
       "   Year        Genre  \n",
       "0  2016  Non Fiction  \n",
       "1  2011      Fiction  "
      ]
     },
     "execution_count": 2,
     "metadata": {},
     "output_type": "execute_result"
    }
   ],
   "source": [
    "df = pd.read_csv(\"books.csv\")\n",
    "df.head(2)"
   ]
  },
  {
   "cell_type": "markdown",
   "metadata": {},
   "source": [
    "Hacemos una copia de nuestro df para utilizarlo en algunos ejercicios."
   ]
  },
  {
   "cell_type": "code",
   "execution_count": 3,
   "metadata": {},
   "outputs": [],
   "source": [
    "df_copia = df.copy()"
   ]
  },
  {
   "cell_type": "markdown",
   "metadata": {},
   "source": [
    "# Ejercicio 1"
   ]
  },
  {
   "cell_type": "markdown",
   "metadata": {},
   "source": [
    "- Tablas de contigencia"
   ]
  },
  {
   "cell_type": "code",
   "execution_count": 4,
   "metadata": {},
   "outputs": [
    {
     "data": {
      "text/plain": [
       "3.3"
      ]
     },
     "execution_count": 4,
     "metadata": {},
     "output_type": "execute_result"
    }
   ],
   "source": [
    "min = df[\"User Rating\"].describe()[3]\n",
    "min"
   ]
  },
  {
   "cell_type": "code",
   "execution_count": 5,
   "metadata": {},
   "outputs": [
    {
     "data": {
      "text/plain": [
       "4.8"
      ]
     },
     "execution_count": 5,
     "metadata": {},
     "output_type": "execute_result"
    }
   ],
   "source": [
    "max = df[\"User Rating\"].describe()[6]\n",
    "max"
   ]
  },
  {
   "cell_type": "markdown",
   "metadata": {},
   "source": [
    "Obtengo el valor mín y max de mi columna para saber el rango en el que varía los datos y así calcular los diferentes intervalos de datos (bins)"
   ]
  },
  {
   "cell_type": "code",
   "execution_count": 6,
   "metadata": {},
   "outputs": [
    {
     "data": {
      "text/plain": [
       "array([2.8, 3.3, 3.8, 4.3, 4.8, 5.3])"
      ]
     },
     "execution_count": 6,
     "metadata": {},
     "output_type": "execute_result"
    }
   ],
   "source": [
    "bins = np.arange(min-0.5,max+1, 0.50)\n",
    "bins"
   ]
  },
  {
   "cell_type": "code",
   "execution_count": 125,
   "metadata": {},
   "outputs": [
    {
     "data": {
      "text/plain": [
       "array('Diagnostic and Statistical Manual of Mental Disorders, 5th Edition: DSM-5',\n",
       "      dtype='<U121')"
      ]
     },
     "execution_count": 125,
     "metadata": {},
     "output_type": "execute_result"
    }
   ],
   "source": [
    "np.select(df[\"Price\"] == 105, df[\"Name\"])"
   ]
  },
  {
   "cell_type": "code",
   "execution_count": 7,
   "metadata": {},
   "outputs": [
    {
     "data": {
      "text/html": [
       "<div>\n",
       "<style scoped>\n",
       "    .dataframe tbody tr th:only-of-type {\n",
       "        vertical-align: middle;\n",
       "    }\n",
       "\n",
       "    .dataframe tbody tr th {\n",
       "        vertical-align: top;\n",
       "    }\n",
       "\n",
       "    .dataframe thead th {\n",
       "        text-align: right;\n",
       "    }\n",
       "</style>\n",
       "<table border=\"1\" class=\"dataframe\">\n",
       "  <thead>\n",
       "    <tr style=\"text-align: right;\">\n",
       "      <th></th>\n",
       "      <th>Name</th>\n",
       "      <th>Author</th>\n",
       "      <th>User Rating</th>\n",
       "      <th>Reviews</th>\n",
       "      <th>Price</th>\n",
       "      <th>Year</th>\n",
       "      <th>Genre</th>\n",
       "      <th>User_rating_group</th>\n",
       "    </tr>\n",
       "  </thead>\n",
       "  <tbody>\n",
       "    <tr>\n",
       "      <th>424</th>\n",
       "      <td>The Life-Changing Magic of Tidying Up: The Jap...</td>\n",
       "      <td>Marie Kondō</td>\n",
       "      <td>4.5</td>\n",
       "      <td>22641</td>\n",
       "      <td>11</td>\n",
       "      <td>2016</td>\n",
       "      <td>Non Fiction</td>\n",
       "      <td>(4.3, 4.8]</td>\n",
       "    </tr>\n",
       "    <tr>\n",
       "      <th>535</th>\n",
       "      <td>Where the Wild Things Are</td>\n",
       "      <td>Maurice Sendak</td>\n",
       "      <td>4.8</td>\n",
       "      <td>9967</td>\n",
       "      <td>13</td>\n",
       "      <td>2009</td>\n",
       "      <td>Fiction</td>\n",
       "      <td>(4.3, 4.8]</td>\n",
       "    </tr>\n",
       "  </tbody>\n",
       "</table>\n",
       "</div>"
      ],
      "text/plain": [
       "                                                  Name          Author  \\\n",
       "424  The Life-Changing Magic of Tidying Up: The Jap...     Marie Kondō   \n",
       "535                          Where the Wild Things Are  Maurice Sendak   \n",
       "\n",
       "     User Rating  Reviews  Price  Year        Genre User_rating_group  \n",
       "424          4.5    22641     11  2016  Non Fiction        (4.3, 4.8]  \n",
       "535          4.8     9967     13  2009      Fiction        (4.3, 4.8]  "
      ]
     },
     "execution_count": 7,
     "metadata": {},
     "output_type": "execute_result"
    }
   ],
   "source": [
    "df_copia[\"User_rating_group\"] = pd.cut(df[\"User Rating\"], bins = bins)\n",
    "df_copia.sample(2)"
   ]
  },
  {
   "cell_type": "markdown",
   "metadata": {},
   "source": [
    "Hemos creado una columna nueva *'User_rating_group'* asignando a nuestra columna *'User rating'* un intervalo u otro dependiendo de su valor (bins). Observamos cuántos registros se han clasificado en cada uno de los intervalos. Por simple curiosidad."
   ]
  },
  {
   "cell_type": "code",
   "execution_count": 8,
   "metadata": {},
   "outputs": [
    {
     "data": {
      "text/plain": [
       "(4.3, 4.8]    438\n",
       "(3.8, 4.3]     56\n",
       "(4.8, 5.3]     52\n",
       "(3.3, 3.8]      3\n",
       "(2.8, 3.3]      1\n",
       "Name: User_rating_group, dtype: int64"
      ]
     },
     "execution_count": 8,
     "metadata": {},
     "output_type": "execute_result"
    }
   ],
   "source": [
    "df_copia[\"User_rating_group\"].value_counts()"
   ]
  },
  {
   "cell_type": "markdown",
   "metadata": {},
   "source": [
    "Creamos la tabla de contingencia"
   ]
  },
  {
   "cell_type": "code",
   "execution_count": 9,
   "metadata": {},
   "outputs": [
    {
     "data": {
      "text/html": [
       "<div>\n",
       "<style scoped>\n",
       "    .dataframe tbody tr th:only-of-type {\n",
       "        vertical-align: middle;\n",
       "    }\n",
       "\n",
       "    .dataframe tbody tr th {\n",
       "        vertical-align: top;\n",
       "    }\n",
       "\n",
       "    .dataframe thead th {\n",
       "        text-align: right;\n",
       "    }\n",
       "</style>\n",
       "<table border=\"1\" class=\"dataframe\">\n",
       "  <thead>\n",
       "    <tr style=\"text-align: right;\">\n",
       "      <th>Genre</th>\n",
       "      <th>Fiction</th>\n",
       "      <th>Non Fiction</th>\n",
       "      <th>All</th>\n",
       "    </tr>\n",
       "    <tr>\n",
       "      <th>User_rating_group</th>\n",
       "      <th></th>\n",
       "      <th></th>\n",
       "      <th></th>\n",
       "    </tr>\n",
       "  </thead>\n",
       "  <tbody>\n",
       "    <tr>\n",
       "      <th>(2.8, 3.3]</th>\n",
       "      <td>1</td>\n",
       "      <td>0</td>\n",
       "      <td>1</td>\n",
       "    </tr>\n",
       "    <tr>\n",
       "      <th>(3.3, 3.8]</th>\n",
       "      <td>3</td>\n",
       "      <td>0</td>\n",
       "      <td>3</td>\n",
       "    </tr>\n",
       "    <tr>\n",
       "      <th>(3.8, 4.3]</th>\n",
       "      <td>26</td>\n",
       "      <td>30</td>\n",
       "      <td>56</td>\n",
       "    </tr>\n",
       "    <tr>\n",
       "      <th>(4.3, 4.8]</th>\n",
       "      <td>169</td>\n",
       "      <td>269</td>\n",
       "      <td>438</td>\n",
       "    </tr>\n",
       "    <tr>\n",
       "      <th>(4.8, 5.3]</th>\n",
       "      <td>41</td>\n",
       "      <td>11</td>\n",
       "      <td>52</td>\n",
       "    </tr>\n",
       "    <tr>\n",
       "      <th>All</th>\n",
       "      <td>240</td>\n",
       "      <td>310</td>\n",
       "      <td>550</td>\n",
       "    </tr>\n",
       "  </tbody>\n",
       "</table>\n",
       "</div>"
      ],
      "text/plain": [
       "Genre              Fiction  Non Fiction  All\n",
       "User_rating_group                           \n",
       "(2.8, 3.3]               1            0    1\n",
       "(3.3, 3.8]               3            0    3\n",
       "(3.8, 4.3]              26           30   56\n",
       "(4.3, 4.8]             169          269  438\n",
       "(4.8, 5.3]              41           11   52\n",
       "All                    240          310  550"
      ]
     },
     "execution_count": 9,
     "metadata": {},
     "output_type": "execute_result"
    }
   ],
   "source": [
    "contig_num= pd.crosstab(df_copia[\"User_rating_group\"], df_copia[\"Genre\"], margins =True )\n",
    "contig_num"
   ]
  },
  {
   "cell_type": "markdown",
   "metadata": {},
   "source": [
    "Hemos hecho nuestra tabla de contigencia con una variable numérica y una categórica. \n",
    "Observamos que los libros del género **Non Fiction** tiene una frecuencia mayor en altas valoraciones (ratings) de l@s usuria@s.\n",
    "\n",
    "También vemos que la frecuencia de valoraciones media-altas (de 4.3 a 4.8) es muy superior tanto para el género **Fiction** como **Non Fiction** respecto a las de valores bajas o medias-bajas (2.8, 3.3 hasta 3.8, 4.3 ). Esto tiene sentido porque nuestros datos son los libros más vendidos (mejor valorados -> más se venden)"
   ]
  },
  {
   "cell_type": "code",
   "execution_count": 10,
   "metadata": {},
   "outputs": [
    {
     "data": {
      "text/html": [
       "<div>\n",
       "<style scoped>\n",
       "    .dataframe tbody tr th:only-of-type {\n",
       "        vertical-align: middle;\n",
       "    }\n",
       "\n",
       "    .dataframe tbody tr th {\n",
       "        vertical-align: top;\n",
       "    }\n",
       "\n",
       "    .dataframe thead th {\n",
       "        text-align: right;\n",
       "    }\n",
       "</style>\n",
       "<table border=\"1\" class=\"dataframe\">\n",
       "  <thead>\n",
       "    <tr style=\"text-align: right;\">\n",
       "      <th>Author</th>\n",
       "      <th>Abraham Verghese</th>\n",
       "      <th>Adam Gasiewski</th>\n",
       "      <th>Adam Mansbach</th>\n",
       "      <th>Adir Levy</th>\n",
       "      <th>Admiral William H. McRaven</th>\n",
       "      <th>Adult Coloring Book Designs</th>\n",
       "      <th>Alan Moore</th>\n",
       "      <th>Alex Michaelides</th>\n",
       "      <th>Alice Schertle</th>\n",
       "      <th>Allie Brosh</th>\n",
       "      <th>...</th>\n",
       "      <th>Todd Burpo</th>\n",
       "      <th>Tony Hsieh</th>\n",
       "      <th>Tucker Carlson</th>\n",
       "      <th>Veronica Roth</th>\n",
       "      <th>W. Cleon Skousen</th>\n",
       "      <th>Walter Isaacson</th>\n",
       "      <th>William Davis</th>\n",
       "      <th>William P. Young</th>\n",
       "      <th>Wizards RPG Team</th>\n",
       "      <th>Zhi Gang Sha</th>\n",
       "    </tr>\n",
       "    <tr>\n",
       "      <th>Genre</th>\n",
       "      <th></th>\n",
       "      <th></th>\n",
       "      <th></th>\n",
       "      <th></th>\n",
       "      <th></th>\n",
       "      <th></th>\n",
       "      <th></th>\n",
       "      <th></th>\n",
       "      <th></th>\n",
       "      <th></th>\n",
       "      <th></th>\n",
       "      <th></th>\n",
       "      <th></th>\n",
       "      <th></th>\n",
       "      <th></th>\n",
       "      <th></th>\n",
       "      <th></th>\n",
       "      <th></th>\n",
       "      <th></th>\n",
       "      <th></th>\n",
       "      <th></th>\n",
       "    </tr>\n",
       "  </thead>\n",
       "  <tbody>\n",
       "    <tr>\n",
       "      <th>Fiction</th>\n",
       "      <td>2</td>\n",
       "      <td>0</td>\n",
       "      <td>1</td>\n",
       "      <td>1</td>\n",
       "      <td>0</td>\n",
       "      <td>0</td>\n",
       "      <td>1</td>\n",
       "      <td>1</td>\n",
       "      <td>1</td>\n",
       "      <td>0</td>\n",
       "      <td>...</td>\n",
       "      <td>0</td>\n",
       "      <td>0</td>\n",
       "      <td>0</td>\n",
       "      <td>4</td>\n",
       "      <td>0</td>\n",
       "      <td>0</td>\n",
       "      <td>0</td>\n",
       "      <td>2</td>\n",
       "      <td>3</td>\n",
       "      <td>0</td>\n",
       "    </tr>\n",
       "    <tr>\n",
       "      <th>Non Fiction</th>\n",
       "      <td>0</td>\n",
       "      <td>1</td>\n",
       "      <td>0</td>\n",
       "      <td>0</td>\n",
       "      <td>1</td>\n",
       "      <td>1</td>\n",
       "      <td>0</td>\n",
       "      <td>0</td>\n",
       "      <td>0</td>\n",
       "      <td>1</td>\n",
       "      <td>...</td>\n",
       "      <td>2</td>\n",
       "      <td>1</td>\n",
       "      <td>1</td>\n",
       "      <td>0</td>\n",
       "      <td>1</td>\n",
       "      <td>3</td>\n",
       "      <td>2</td>\n",
       "      <td>0</td>\n",
       "      <td>0</td>\n",
       "      <td>2</td>\n",
       "    </tr>\n",
       "  </tbody>\n",
       "</table>\n",
       "<p>2 rows × 248 columns</p>\n",
       "</div>"
      ],
      "text/plain": [
       "Author       Abraham Verghese  Adam Gasiewski  Adam Mansbach  Adir Levy  \\\n",
       "Genre                                                                     \n",
       "Fiction                     2               0              1          1   \n",
       "Non Fiction                 0               1              0          0   \n",
       "\n",
       "Author       Admiral William H. McRaven  Adult Coloring Book Designs  \\\n",
       "Genre                                                                  \n",
       "Fiction                               0                            0   \n",
       "Non Fiction                           1                            1   \n",
       "\n",
       "Author       Alan Moore  Alex Michaelides  Alice Schertle  Allie Brosh  ...  \\\n",
       "Genre                                                                   ...   \n",
       "Fiction               1                 1               1            0  ...   \n",
       "Non Fiction           0                 0               0            1  ...   \n",
       "\n",
       "Author       Todd Burpo  Tony Hsieh  Tucker Carlson  Veronica Roth  \\\n",
       "Genre                                                                \n",
       "Fiction               0           0               0              4   \n",
       "Non Fiction           2           1               1              0   \n",
       "\n",
       "Author       W. Cleon Skousen  Walter Isaacson  William Davis  \\\n",
       "Genre                                                           \n",
       "Fiction                     0                0              0   \n",
       "Non Fiction                 1                3              2   \n",
       "\n",
       "Author       William P. Young  Wizards RPG Team  Zhi Gang Sha  \n",
       "Genre                                                          \n",
       "Fiction                     2                 3             0  \n",
       "Non Fiction                 0                 0             2  \n",
       "\n",
       "[2 rows x 248 columns]"
      ]
     },
     "execution_count": 10,
     "metadata": {},
     "output_type": "execute_result"
    }
   ],
   "source": [
    "contig = pd.crosstab(df[\"Genre\"], df[\"Author\"])\n",
    "contig"
   ]
  },
  {
   "cell_type": "markdown",
   "metadata": {},
   "source": [
    "Hemos intentando crear una tabla de contigencia con dos variables categóricas de nuestro df pero observamos que en principio no podemos sacar conclusiones debido a la naturaleza de nuestros datos."
   ]
  },
  {
   "cell_type": "markdown",
   "metadata": {},
   "source": [
    "# Coeficiente de correlación"
   ]
  },
  {
   "cell_type": "markdown",
   "metadata": {},
   "source": [
    "- Coeficiente de correlación de Pearson de nuestras variables numéricas"
   ]
  },
  {
   "cell_type": "code",
   "execution_count": 11,
   "metadata": {},
   "outputs": [
    {
     "data": {
      "text/html": [
       "<div>\n",
       "<style scoped>\n",
       "    .dataframe tbody tr th:only-of-type {\n",
       "        vertical-align: middle;\n",
       "    }\n",
       "\n",
       "    .dataframe tbody tr th {\n",
       "        vertical-align: top;\n",
       "    }\n",
       "\n",
       "    .dataframe thead th {\n",
       "        text-align: right;\n",
       "    }\n",
       "</style>\n",
       "<table border=\"1\" class=\"dataframe\">\n",
       "  <thead>\n",
       "    <tr style=\"text-align: right;\">\n",
       "      <th></th>\n",
       "      <th>Name</th>\n",
       "      <th>Author</th>\n",
       "      <th>User Rating</th>\n",
       "      <th>Reviews</th>\n",
       "      <th>Price</th>\n",
       "      <th>Year</th>\n",
       "      <th>Genre</th>\n",
       "      <th>User_rating_group</th>\n",
       "    </tr>\n",
       "  </thead>\n",
       "  <tbody>\n",
       "    <tr>\n",
       "      <th>0</th>\n",
       "      <td>10-Day Green Smoothie Cleanse</td>\n",
       "      <td>JJ Smith</td>\n",
       "      <td>4.7</td>\n",
       "      <td>17350</td>\n",
       "      <td>8</td>\n",
       "      <td>2016</td>\n",
       "      <td>Non Fiction</td>\n",
       "      <td>(4.3, 4.8]</td>\n",
       "    </tr>\n",
       "    <tr>\n",
       "      <th>1</th>\n",
       "      <td>11/22/63: A Novel</td>\n",
       "      <td>Stephen King</td>\n",
       "      <td>4.6</td>\n",
       "      <td>2052</td>\n",
       "      <td>22</td>\n",
       "      <td>2011</td>\n",
       "      <td>Fiction</td>\n",
       "      <td>(4.3, 4.8]</td>\n",
       "    </tr>\n",
       "    <tr>\n",
       "      <th>2</th>\n",
       "      <td>12 Rules for Life: An Antidote to Chaos</td>\n",
       "      <td>Jordan B. Peterson</td>\n",
       "      <td>4.7</td>\n",
       "      <td>18979</td>\n",
       "      <td>15</td>\n",
       "      <td>2018</td>\n",
       "      <td>Non Fiction</td>\n",
       "      <td>(4.3, 4.8]</td>\n",
       "    </tr>\n",
       "    <tr>\n",
       "      <th>3</th>\n",
       "      <td>1984 (Signet Classics)</td>\n",
       "      <td>George Orwell</td>\n",
       "      <td>4.7</td>\n",
       "      <td>21424</td>\n",
       "      <td>6</td>\n",
       "      <td>2017</td>\n",
       "      <td>Fiction</td>\n",
       "      <td>(4.3, 4.8]</td>\n",
       "    </tr>\n",
       "    <tr>\n",
       "      <th>4</th>\n",
       "      <td>5,000 Awesome Facts (About Everything!) (Natio...</td>\n",
       "      <td>National Geographic Kids</td>\n",
       "      <td>4.8</td>\n",
       "      <td>7665</td>\n",
       "      <td>12</td>\n",
       "      <td>2019</td>\n",
       "      <td>Non Fiction</td>\n",
       "      <td>(4.3, 4.8]</td>\n",
       "    </tr>\n",
       "  </tbody>\n",
       "</table>\n",
       "</div>"
      ],
      "text/plain": [
       "                                                Name  \\\n",
       "0                      10-Day Green Smoothie Cleanse   \n",
       "1                                  11/22/63: A Novel   \n",
       "2            12 Rules for Life: An Antidote to Chaos   \n",
       "3                             1984 (Signet Classics)   \n",
       "4  5,000 Awesome Facts (About Everything!) (Natio...   \n",
       "\n",
       "                     Author  User Rating  Reviews  Price  Year        Genre  \\\n",
       "0                  JJ Smith          4.7    17350      8  2016  Non Fiction   \n",
       "1              Stephen King          4.6     2052     22  2011      Fiction   \n",
       "2        Jordan B. Peterson          4.7    18979     15  2018  Non Fiction   \n",
       "3             George Orwell          4.7    21424      6  2017      Fiction   \n",
       "4  National Geographic Kids          4.8     7665     12  2019  Non Fiction   \n",
       "\n",
       "  User_rating_group  \n",
       "0        (4.3, 4.8]  \n",
       "1        (4.3, 4.8]  \n",
       "2        (4.3, 4.8]  \n",
       "3        (4.3, 4.8]  \n",
       "4        (4.3, 4.8]  "
      ]
     },
     "execution_count": 11,
     "metadata": {},
     "output_type": "execute_result"
    }
   ],
   "source": [
    "df_copia.head()"
   ]
  },
  {
   "cell_type": "code",
   "execution_count": 12,
   "metadata": {},
   "outputs": [
    {
     "data": {
      "text/html": [
       "<div>\n",
       "<style scoped>\n",
       "    .dataframe tbody tr th:only-of-type {\n",
       "        vertical-align: middle;\n",
       "    }\n",
       "\n",
       "    .dataframe tbody tr th {\n",
       "        vertical-align: top;\n",
       "    }\n",
       "\n",
       "    .dataframe thead th {\n",
       "        text-align: right;\n",
       "    }\n",
       "</style>\n",
       "<table border=\"1\" class=\"dataframe\">\n",
       "  <thead>\n",
       "    <tr style=\"text-align: right;\">\n",
       "      <th></th>\n",
       "      <th>User Rating</th>\n",
       "      <th>Reviews</th>\n",
       "      <th>Price</th>\n",
       "      <th>Year</th>\n",
       "    </tr>\n",
       "  </thead>\n",
       "  <tbody>\n",
       "    <tr>\n",
       "      <th>0</th>\n",
       "      <td>4.7</td>\n",
       "      <td>17350</td>\n",
       "      <td>8</td>\n",
       "      <td>2016</td>\n",
       "    </tr>\n",
       "    <tr>\n",
       "      <th>1</th>\n",
       "      <td>4.6</td>\n",
       "      <td>2052</td>\n",
       "      <td>22</td>\n",
       "      <td>2011</td>\n",
       "    </tr>\n",
       "    <tr>\n",
       "      <th>2</th>\n",
       "      <td>4.7</td>\n",
       "      <td>18979</td>\n",
       "      <td>15</td>\n",
       "      <td>2018</td>\n",
       "    </tr>\n",
       "    <tr>\n",
       "      <th>3</th>\n",
       "      <td>4.7</td>\n",
       "      <td>21424</td>\n",
       "      <td>6</td>\n",
       "      <td>2017</td>\n",
       "    </tr>\n",
       "    <tr>\n",
       "      <th>4</th>\n",
       "      <td>4.8</td>\n",
       "      <td>7665</td>\n",
       "      <td>12</td>\n",
       "      <td>2019</td>\n",
       "    </tr>\n",
       "    <tr>\n",
       "      <th>...</th>\n",
       "      <td>...</td>\n",
       "      <td>...</td>\n",
       "      <td>...</td>\n",
       "      <td>...</td>\n",
       "    </tr>\n",
       "    <tr>\n",
       "      <th>545</th>\n",
       "      <td>4.9</td>\n",
       "      <td>9413</td>\n",
       "      <td>8</td>\n",
       "      <td>2019</td>\n",
       "    </tr>\n",
       "    <tr>\n",
       "      <th>546</th>\n",
       "      <td>4.7</td>\n",
       "      <td>14331</td>\n",
       "      <td>8</td>\n",
       "      <td>2016</td>\n",
       "    </tr>\n",
       "    <tr>\n",
       "      <th>547</th>\n",
       "      <td>4.7</td>\n",
       "      <td>14331</td>\n",
       "      <td>8</td>\n",
       "      <td>2017</td>\n",
       "    </tr>\n",
       "    <tr>\n",
       "      <th>548</th>\n",
       "      <td>4.7</td>\n",
       "      <td>14331</td>\n",
       "      <td>8</td>\n",
       "      <td>2018</td>\n",
       "    </tr>\n",
       "    <tr>\n",
       "      <th>549</th>\n",
       "      <td>4.7</td>\n",
       "      <td>14331</td>\n",
       "      <td>8</td>\n",
       "      <td>2019</td>\n",
       "    </tr>\n",
       "  </tbody>\n",
       "</table>\n",
       "<p>550 rows × 4 columns</p>\n",
       "</div>"
      ],
      "text/plain": [
       "     User Rating  Reviews  Price  Year\n",
       "0            4.7    17350      8  2016\n",
       "1            4.6     2052     22  2011\n",
       "2            4.7    18979     15  2018\n",
       "3            4.7    21424      6  2017\n",
       "4            4.8     7665     12  2019\n",
       "..           ...      ...    ...   ...\n",
       "545          4.9     9413      8  2019\n",
       "546          4.7    14331      8  2016\n",
       "547          4.7    14331      8  2017\n",
       "548          4.7    14331      8  2018\n",
       "549          4.7    14331      8  2019\n",
       "\n",
       "[550 rows x 4 columns]"
      ]
     },
     "execution_count": 12,
     "metadata": {},
     "output_type": "execute_result"
    }
   ],
   "source": [
    "df_numericas = df.select_dtypes(exclude = \"object\")\n",
    "df_numericas"
   ]
  },
  {
   "cell_type": "code",
   "execution_count": 13,
   "metadata": {},
   "outputs": [],
   "source": [
    "del df_numericas[\"Year\"]"
   ]
  },
  {
   "cell_type": "code",
   "execution_count": 14,
   "metadata": {},
   "outputs": [
    {
     "data": {
      "text/plain": [
       "User Rating    float64\n",
       "Reviews          int64\n",
       "Price            int64\n",
       "dtype: object"
      ]
     },
     "execution_count": 14,
     "metadata": {},
     "output_type": "execute_result"
    }
   ],
   "source": [
    "df_numericas.dtypes"
   ]
  },
  {
   "cell_type": "code",
   "execution_count": 15,
   "metadata": {},
   "outputs": [
    {
     "data": {
      "text/plain": [
       "array([[1.        , 0.99997389, 0.99999995, ..., 1.        , 1.        ,\n",
       "        1.        ],\n",
       "       [0.99997389, 1.        , 0.99997605, ..., 0.99997414, 0.99997414,\n",
       "        0.99997414],\n",
       "       [0.99999995, 0.99997605, 1.        , ..., 0.99999996, 0.99999996,\n",
       "        0.99999996],\n",
       "       ...,\n",
       "       [1.        , 0.99997414, 0.99999996, ..., 1.        , 1.        ,\n",
       "        1.        ],\n",
       "       [1.        , 0.99997414, 0.99999996, ..., 1.        , 1.        ,\n",
       "        1.        ],\n",
       "       [1.        , 0.99997414, 0.99999996, ..., 1.        , 1.        ,\n",
       "        1.        ]])"
      ]
     },
     "execution_count": 15,
     "metadata": {},
     "output_type": "execute_result"
    }
   ],
   "source": [
    "cor2 = np.corrcoef(df_numericas)\n",
    "cor2"
   ]
  },
  {
   "cell_type": "code",
   "execution_count": 16,
   "metadata": {},
   "outputs": [
    {
     "data": {
      "text/plain": [
       "array([[ 1.        , -0.13308629],\n",
       "       [-0.13308629,  1.        ]])"
      ]
     },
     "execution_count": 16,
     "metadata": {},
     "output_type": "execute_result"
    }
   ],
   "source": [
    "cor = np.corrcoef(df[\"User Rating\"],df[\"Price\"])\n",
    "cor"
   ]
  },
  {
   "cell_type": "code",
   "execution_count": 31,
   "metadata": {},
   "outputs": [
    {
     "data": {
      "image/png": "[encoded data removed]",
      "text/plain": [
       "<Figure size 432x288 with 2 Axes>"
      ]
     },
     "metadata": {
      "needs_background": "light"
     },
     "output_type": "display_data"
    }
   ],
   "source": [
    "fig = sns.heatmap(data = (cor))"
   ]
  },
  {
   "cell_type": "code",
   "execution_count": 17,
   "metadata": {},
   "outputs": [
    {
     "data": {
      "text/plain": [
       "array([[ 1.        , -0.10918188],\n",
       "       [-0.10918188,  1.        ]])"
      ]
     },
     "execution_count": 17,
     "metadata": {},
     "output_type": "execute_result"
    }
   ],
   "source": [
    "cor_total = np.corrcoef(df[\"Reviews\"],df[\"Price\"])\n",
    "cor_total"
   ]
  },
  {
   "cell_type": "markdown",
   "metadata": {},
   "source": [
    "Observamos que no existe correlación entre las variables `Price` y `User Ratings` ya que el valor del coeficiente de correlación es muy próximo a 0. Tampoco encontramos relación entre las variables `Reviews`y `Price` con una correlación de -0.10. "
   ]
  },
  {
   "cell_type": "markdown",
   "metadata": {},
   "source": [
    "# Sesgo"
   ]
  },
  {
   "cell_type": "markdown",
   "metadata": {},
   "source": [
    "- Sesgos de alguna variable numérica"
   ]
  },
  {
   "cell_type": "code",
   "execution_count": 25,
   "metadata": {},
   "outputs": [
    {
     "data": {
      "text/html": [
       "<div>\n",
       "<style scoped>\n",
       "    .dataframe tbody tr th:only-of-type {\n",
       "        vertical-align: middle;\n",
       "    }\n",
       "\n",
       "    .dataframe tbody tr th {\n",
       "        vertical-align: top;\n",
       "    }\n",
       "\n",
       "    .dataframe thead th {\n",
       "        text-align: right;\n",
       "    }\n",
       "</style>\n",
       "<table border=\"1\" class=\"dataframe\">\n",
       "  <thead>\n",
       "    <tr style=\"text-align: right;\">\n",
       "      <th></th>\n",
       "      <th>Name</th>\n",
       "      <th>Author</th>\n",
       "      <th>User Rating</th>\n",
       "      <th>Reviews</th>\n",
       "      <th>Price</th>\n",
       "      <th>Year</th>\n",
       "      <th>Genre</th>\n",
       "    </tr>\n",
       "  </thead>\n",
       "  <tbody>\n",
       "    <tr>\n",
       "      <th>0</th>\n",
       "      <td>10-Day Green Smoothie Cleanse</td>\n",
       "      <td>JJ Smith</td>\n",
       "      <td>4.7</td>\n",
       "      <td>17350</td>\n",
       "      <td>8</td>\n",
       "      <td>2016</td>\n",
       "      <td>Non Fiction</td>\n",
       "    </tr>\n",
       "    <tr>\n",
       "      <th>1</th>\n",
       "      <td>11/22/63: A Novel</td>\n",
       "      <td>Stephen King</td>\n",
       "      <td>4.6</td>\n",
       "      <td>2052</td>\n",
       "      <td>22</td>\n",
       "      <td>2011</td>\n",
       "      <td>Fiction</td>\n",
       "    </tr>\n",
       "  </tbody>\n",
       "</table>\n",
       "</div>"
      ],
      "text/plain": [
       "                            Name        Author  User Rating  Reviews  Price  \\\n",
       "0  10-Day Green Smoothie Cleanse      JJ Smith          4.7    17350      8   \n",
       "1              11/22/63: A Novel  Stephen King          4.6     2052     22   \n",
       "\n",
       "   Year        Genre  \n",
       "0  2016  Non Fiction  \n",
       "1  2011      Fiction  "
      ]
     },
     "execution_count": 25,
     "metadata": {},
     "output_type": "execute_result"
    }
   ],
   "source": [
    "df.head(2)"
   ]
  },
  {
   "cell_type": "code",
   "execution_count": 18,
   "metadata": {},
   "outputs": [
    {
     "data": {
      "text/plain": [
       "13.1"
      ]
     },
     "execution_count": 18,
     "metadata": {},
     "output_type": "execute_result"
    }
   ],
   "source": [
    "media = np.mean(df[\"Price\"])\n",
    "media"
   ]
  },
  {
   "cell_type": "code",
   "execution_count": 19,
   "metadata": {},
   "outputs": [
    {
     "data": {
      "text/plain": [
       "10.83240089227266"
      ]
     },
     "execution_count": 19,
     "metadata": {},
     "output_type": "execute_result"
    }
   ],
   "source": [
    "std = np.std(df[\"Price\"])\n",
    "std"
   ]
  },
  {
   "cell_type": "code",
   "execution_count": 20,
   "metadata": {},
   "outputs": [
    {
     "data": {
      "text/plain": [
       "3.674998760184651"
      ]
     },
     "execution_count": 20,
     "metadata": {},
     "output_type": "execute_result"
    }
   ],
   "source": [
    "sesgo = skew(df[\"Price\"])\n",
    "sesgo"
   ]
  },
  {
   "cell_type": "markdown",
   "metadata": {},
   "source": [
    "Como nuestro valor del sesgo es positivo, deducimos que nuestros valores de Price están sesgado de forma positiva, a la izquierda. "
   ]
  },
  {
   "cell_type": "code",
   "execution_count": 21,
   "metadata": {},
   "outputs": [],
   "source": [
    "x1 = media\n",
    "x2 = std"
   ]
  },
  {
   "cell_type": "code",
   "execution_count": 22,
   "metadata": {},
   "outputs": [
    {
     "data": {
      "image/png": "[encoded data removed]",
      "text/plain": [
       "<Figure size 576x288 with 1 Axes>"
      ]
     },
     "metadata": {
      "needs_background": "light"
     },
     "output_type": "display_data"
    }
   ],
   "source": [
    "plt.figure(figsize =(8,4))\n",
    "fig = sns.histplot(x=df[\"Price\"], kde = True)\n",
    "fig.set(xlabel='Precio de los libros', ylabel = 'Cantidad')\n",
    "fig.set_title('Histograma del precio de los libros')\n",
    "plt.show()"
   ]
  },
  {
   "cell_type": "markdown",
   "metadata": {},
   "source": [
    "Como observamos en el histograma, confirmamos que los valores de nuestros precios están sesgados a la izquierda. Así, se soportan nuestras conclusiones del sesgo y de la media de que están sesgados positivamente, hacia la izquierda."
   ]
  },
  {
   "cell_type": "markdown",
   "metadata": {},
   "source": [
    "- Para entender un poco mejor nuestros datos, nos preguntamos si existe relación entre el precio del libro y su valoración por los usuarios."
   ]
  },
  {
   "cell_type": "code",
   "execution_count": 23,
   "metadata": {},
   "outputs": [
    {
     "data": {
      "text/plain": [
       "array([[ 1.        , -0.13308629],\n",
       "       [-0.13308629,  1.        ]])"
      ]
     },
     "execution_count": 23,
     "metadata": {},
     "output_type": "execute_result"
    }
   ],
   "source": [
    "r2_price_ratings = np.corrcoef(df[\"Price\"], df[\"User Rating\"])\n",
    "r2_price_ratings"
   ]
  },
  {
   "cell_type": "code",
   "execution_count": 24,
   "metadata": {},
   "outputs": [
    {
     "data": {
      "image/png": "[encoded data removed]",
      "text/plain": [
       "<Figure size 576x288 with 1 Axes>"
      ]
     },
     "metadata": {
      "needs_background": "light"
     },
     "output_type": "display_data"
    }
   ],
   "source": [
    "plt.figure(figsize =(8,4))\n",
    "fig = sns.scatterplot(x=df[\"Price\"], y=df[\"User Rating\"], data = df)\n",
    "fig.set(xlabel='Precio', ylabel = 'User ratings')\n",
    "fig.set_title('Gráfica de disperisión precio - valoraciones')\n",
    "plt.show()"
   ]
  },
  {
   "cell_type": "markdown",
   "metadata": {},
   "source": [
    "Vemos que no hay relación entre el precio de los libros y su valoración, esto es, podemos encontrar libros muy bien valorados con precios altos y bajos sin ningún tipo de 'patrón'. Podemos ver esta 'no relación' númericamente en el array del coeficiente de correlación ya que nos da el valor (-0.133) y gráficamente porque no encontramos un patrón definido."
   ]
  },
  {
   "cell_type": "markdown",
   "metadata": {},
   "source": [
    "# Intervalo de confianza"
   ]
  },
  {
   "cell_type": "code",
   "execution_count": 37,
   "metadata": {},
   "outputs": [
    {
     "data": {
      "text/html": [
       "<div>\n",
       "<style scoped>\n",
       "    .dataframe tbody tr th:only-of-type {\n",
       "        vertical-align: middle;\n",
       "    }\n",
       "\n",
       "    .dataframe tbody tr th {\n",
       "        vertical-align: top;\n",
       "    }\n",
       "\n",
       "    .dataframe thead th {\n",
       "        text-align: right;\n",
       "    }\n",
       "</style>\n",
       "<table border=\"1\" class=\"dataframe\">\n",
       "  <thead>\n",
       "    <tr style=\"text-align: right;\">\n",
       "      <th></th>\n",
       "      <th>User Rating</th>\n",
       "      <th>Reviews</th>\n",
       "      <th>Price</th>\n",
       "    </tr>\n",
       "  </thead>\n",
       "  <tbody>\n",
       "    <tr>\n",
       "      <th>0</th>\n",
       "      <td>4.7</td>\n",
       "      <td>17350</td>\n",
       "      <td>8</td>\n",
       "    </tr>\n",
       "    <tr>\n",
       "      <th>1</th>\n",
       "      <td>4.6</td>\n",
       "      <td>2052</td>\n",
       "      <td>22</td>\n",
       "    </tr>\n",
       "    <tr>\n",
       "      <th>2</th>\n",
       "      <td>4.7</td>\n",
       "      <td>18979</td>\n",
       "      <td>15</td>\n",
       "    </tr>\n",
       "    <tr>\n",
       "      <th>3</th>\n",
       "      <td>4.7</td>\n",
       "      <td>21424</td>\n",
       "      <td>6</td>\n",
       "    </tr>\n",
       "    <tr>\n",
       "      <th>4</th>\n",
       "      <td>4.8</td>\n",
       "      <td>7665</td>\n",
       "      <td>12</td>\n",
       "    </tr>\n",
       "    <tr>\n",
       "      <th>...</th>\n",
       "      <td>...</td>\n",
       "      <td>...</td>\n",
       "      <td>...</td>\n",
       "    </tr>\n",
       "    <tr>\n",
       "      <th>545</th>\n",
       "      <td>4.9</td>\n",
       "      <td>9413</td>\n",
       "      <td>8</td>\n",
       "    </tr>\n",
       "    <tr>\n",
       "      <th>546</th>\n",
       "      <td>4.7</td>\n",
       "      <td>14331</td>\n",
       "      <td>8</td>\n",
       "    </tr>\n",
       "    <tr>\n",
       "      <th>547</th>\n",
       "      <td>4.7</td>\n",
       "      <td>14331</td>\n",
       "      <td>8</td>\n",
       "    </tr>\n",
       "    <tr>\n",
       "      <th>548</th>\n",
       "      <td>4.7</td>\n",
       "      <td>14331</td>\n",
       "      <td>8</td>\n",
       "    </tr>\n",
       "    <tr>\n",
       "      <th>549</th>\n",
       "      <td>4.7</td>\n",
       "      <td>14331</td>\n",
       "      <td>8</td>\n",
       "    </tr>\n",
       "  </tbody>\n",
       "</table>\n",
       "<p>550 rows × 3 columns</p>\n",
       "</div>"
      ],
      "text/plain": [
       "     User Rating  Reviews  Price\n",
       "0            4.7    17350      8\n",
       "1            4.6     2052     22\n",
       "2            4.7    18979     15\n",
       "3            4.7    21424      6\n",
       "4            4.8     7665     12\n",
       "..           ...      ...    ...\n",
       "545          4.9     9413      8\n",
       "546          4.7    14331      8\n",
       "547          4.7    14331      8\n",
       "548          4.7    14331      8\n",
       "549          4.7    14331      8\n",
       "\n",
       "[550 rows x 3 columns]"
      ]
     },
     "execution_count": 37,
     "metadata": {},
     "output_type": "execute_result"
    }
   ],
   "source": [
    "df_numericas"
   ]
  },
  {
   "cell_type": "code",
   "execution_count": 25,
   "metadata": {},
   "outputs": [
    {
     "data": {
      "text/plain": [
       "0      4.7\n",
       "1      4.6\n",
       "2      4.7\n",
       "3      4.7\n",
       "4      4.8\n",
       "      ... \n",
       "545    4.9\n",
       "546    4.7\n",
       "547    4.7\n",
       "548    4.7\n",
       "549    4.7\n",
       "Name: User Rating, Length: 550, dtype: float64"
      ]
     },
     "execution_count": 25,
     "metadata": {},
     "output_type": "execute_result"
    }
   ],
   "source": [
    "df_numericas[\"User Rating\"]"
   ]
  },
  {
   "cell_type": "code",
   "execution_count": 26,
   "metadata": {},
   "outputs": [],
   "source": [
    "data = df_numericas[\"User Rating\"]"
   ]
  },
  {
   "cell_type": "code",
   "execution_count": 27,
   "metadata": {},
   "outputs": [
    {
     "name": "stdout",
     "output_type": "stream",
     "text": [
      "(4.5993522611600755, 4.637375011567207)\n",
      "4.618363636363641\n"
     ]
    }
   ],
   "source": [
    "pd.options.display.float_format = '{:.2f}'.format\n",
    "intervalos = st.t.interval(alpha = 0.95, df = len(data)-1, loc= np.mean(data),scale=st.sem(data))\n",
    "print(intervalos)\n",
    "\n",
    "#Lo comparamos con la media\n",
    "print(np.mean(data))"
   ]
  },
  {
   "cell_type": "markdown",
   "metadata": {},
   "source": [
    "Observamos cual es el intervalo de confianza con un 95%. Y efectivamente si calculamos la media, esta se encuentra entre los dos valores dados. \n",
    "\n",
    "Tendremos en cuenta que el nivel de confianza y la amplitud del intervalo variarán conjuntamente. Es decir, un intervalo de valores más amplio tendrá más probabilidad de cumplirse (mayor nivel de confianza), mientras que un intervalo más pequeño, que ofrece una estimación más precisa, tendrá una probabilidad de error también más elevada"
   ]
  },
  {
   "cell_type": "markdown",
   "metadata": {},
   "source": [
    "# Exploración de nuestros datos"
   ]
  },
  {
   "cell_type": "markdown",
   "metadata": {},
   "source": [
    "- El libro más caro"
   ]
  },
  {
   "cell_type": "code",
   "execution_count": 28,
   "metadata": {},
   "outputs": [
    {
     "data": {
      "text/plain": [
       "array('Diagnostic and Statistical Manual of Mental Disorders, 5th Edition: DSM-5',\n",
       "      dtype='<U121')"
      ]
     },
     "execution_count": 28,
     "metadata": {},
     "output_type": "execute_result"
    }
   ],
   "source": [
    "np.select(df[\"Price\"] == df[\"Price\"].max(), df[\"Name\"])"
   ]
  },
  {
   "cell_type": "markdown",
   "metadata": {},
   "source": [
    "- El libro más barato"
   ]
  },
  {
   "cell_type": "code",
   "execution_count": 29,
   "metadata": {},
   "outputs": [
    {
     "data": {
      "text/plain": [
       "array('Cabin Fever (Diary of a Wimpy Kid, Book 6)', dtype='<U121')"
      ]
     },
     "execution_count": 29,
     "metadata": {},
     "output_type": "execute_result"
    }
   ],
   "source": [
    "np.select(df[\"Price\"] == df[\"Price\"].min(), df[\"Name\"])"
   ]
  },
  {
   "cell_type": "markdown",
   "metadata": {},
   "source": [
    "- Distribución, media, sesgo."
   ]
  },
  {
   "cell_type": "code",
   "execution_count": 30,
   "metadata": {},
   "outputs": [
    {
     "data": {
      "image/png": "[encoded data removed]",
      "text/plain": [
       "<Figure size 720x288 with 1 Axes>"
      ]
     },
     "metadata": {
      "needs_background": "light"
     },
     "output_type": "display_data"
    }
   ],
   "source": [
    "plt.figure(figsize =(10,4))\n",
    "fig = sns.histplot(x=df[\"Price\"], data = df, hue =\"Genre\", multiple = \"stack\")\n",
    "plt.axvline(df[\"Price\"].mean(), color='r', linestyle='dashed', linewidth=3)\n",
    "fig.set(xlabel='Precio de los libros', ylabel = 'Cantidad')\n",
    "fig.set_title('Histograma de los precios libros')\n",
    "plt.show()"
   ]
  },
  {
   "cell_type": "code",
   "execution_count": 107,
   "metadata": {},
   "outputs": [
    {
     "data": {
      "text/plain": [
       "13.1"
      ]
     },
     "execution_count": 107,
     "metadata": {},
     "output_type": "execute_result"
    }
   ],
   "source": [
    "df[\"Price\"].mean()"
   ]
  },
  {
   "cell_type": "markdown",
   "metadata": {},
   "source": [
    "Observamos que la distribución de nuestros datos no es normal y que tiene una media entorno a 13. Hay un sesgo positivo (nuestros datos tienden a la izquierda) lo que quiere decir que es más frecuente que nuestros libros tengan precios bajos que altos. \n",
    "También observamos que hay más libros caros del género Non Fiction que Fiction ya que en el extremo derecho observamos barritas azules (Non Fiction) pero apenas naranjas (Fiction)"
   ]
  },
  {
   "cell_type": "markdown",
   "metadata": {},
   "source": [
    "- Nos preguntamos cuántos libros se han publicado cada año respecto a su género"
   ]
  },
  {
   "cell_type": "code",
   "execution_count": 31,
   "metadata": {},
   "outputs": [
    {
     "data": {
      "image/png": "[encoded data removed]",
      "text/plain": [
       "<Figure size 576x288 with 1 Axes>"
      ]
     },
     "metadata": {
      "needs_background": "light"
     },
     "output_type": "display_data"
    }
   ],
   "source": [
    "plt.figure(figsize =(8,4))\n",
    "fig = sns.countplot(x= df_copia[\"Genre\"],data = df_copia, hue = \"Year\", palette =\"colorblind\")\n",
    "fig.set(xlabel='Year', ylabel= 'Genre')\n",
    "fig.set_title('Nº de libros publicados por año respecto a su género literario')\n",
    "plt.show()"
   ]
  },
  {
   "cell_type": "markdown",
   "metadata": {},
   "source": [
    "En la gráfica podemos comparar cuántos libros del género Non Fiction y Fiction se han publicado en diferentes años. Vemos grandes diferencias en los años 2015, 2016 y 2018."
   ]
  },
  {
   "cell_type": "markdown",
   "metadata": {},
   "source": [
    "- Los top's de los top's!!! ¿Cuántas veces han aparecido los 10 libros más vendidos en la lista de los más vendidos?"
   ]
  },
  {
   "cell_type": "code",
   "execution_count": 45,
   "metadata": {},
   "outputs": [],
   "source": [
    "name_ordenado = df[\"Name\"].value_counts()\n",
    "df_name_ordenado = name_ordenado.reset_index()"
   ]
  },
  {
   "cell_type": "code",
   "execution_count": 52,
   "metadata": {},
   "outputs": [
    {
     "data": {
      "text/html": [
       "<div>\n",
       "<style scoped>\n",
       "    .dataframe tbody tr th:only-of-type {\n",
       "        vertical-align: middle;\n",
       "    }\n",
       "\n",
       "    .dataframe tbody tr th {\n",
       "        vertical-align: top;\n",
       "    }\n",
       "\n",
       "    .dataframe thead th {\n",
       "        text-align: right;\n",
       "    }\n",
       "</style>\n",
       "<table border=\"1\" class=\"dataframe\">\n",
       "  <thead>\n",
       "    <tr style=\"text-align: right;\">\n",
       "      <th></th>\n",
       "      <th>index</th>\n",
       "      <th>Name</th>\n",
       "    </tr>\n",
       "  </thead>\n",
       "  <tbody>\n",
       "    <tr>\n",
       "      <th>0</th>\n",
       "      <td>Publication Manual of the American Psychologic...</td>\n",
       "      <td>10</td>\n",
       "    </tr>\n",
       "    <tr>\n",
       "      <th>1</th>\n",
       "      <td>StrengthsFinder 2.0</td>\n",
       "      <td>9</td>\n",
       "    </tr>\n",
       "    <tr>\n",
       "      <th>2</th>\n",
       "      <td>Oh, the Places You'll Go!</td>\n",
       "      <td>8</td>\n",
       "    </tr>\n",
       "    <tr>\n",
       "      <th>3</th>\n",
       "      <td>The Very Hungry Caterpillar</td>\n",
       "      <td>7</td>\n",
       "    </tr>\n",
       "    <tr>\n",
       "      <th>4</th>\n",
       "      <td>The 7 Habits of Highly Effective People: Power...</td>\n",
       "      <td>7</td>\n",
       "    </tr>\n",
       "  </tbody>\n",
       "</table>\n",
       "</div>"
      ],
      "text/plain": [
       "                                               index  Name\n",
       "0  Publication Manual of the American Psychologic...    10\n",
       "1                                StrengthsFinder 2.0     9\n",
       "2                          Oh, the Places You'll Go!     8\n",
       "3                        The Very Hungry Caterpillar     7\n",
       "4  The 7 Habits of Highly Effective People: Power...     7"
      ]
     },
     "execution_count": 52,
     "metadata": {},
     "output_type": "execute_result"
    }
   ],
   "source": [
    "df_name_ordenado.head()"
   ]
  },
  {
   "cell_type": "code",
   "execution_count": 46,
   "metadata": {},
   "outputs": [
    {
     "data": {
      "text/plain": [
       "(10, 2)"
      ]
     },
     "execution_count": 46,
     "metadata": {},
     "output_type": "execute_result"
    }
   ],
   "source": [
    "df_name_ordenado_10 = df_name_ordenado[:10]\n",
    "df_name_ordenado_10.shape"
   ]
  },
  {
   "cell_type": "code",
   "execution_count": 47,
   "metadata": {},
   "outputs": [
    {
     "data": {
      "text/plain": [
       "(10, 2)"
      ]
     },
     "execution_count": 47,
     "metadata": {},
     "output_type": "execute_result"
    }
   ],
   "source": [
    "df_name_ordenado_10 = df_name_ordenado_10.rename(columns={'index':'name', 'Name':'cantidad'})\n",
    "df_name_ordenado_10.shape"
   ]
  },
  {
   "cell_type": "code",
   "execution_count": 48,
   "metadata": {},
   "outputs": [
    {
     "data": {
      "text/html": [
       "<div>\n",
       "<style scoped>\n",
       "    .dataframe tbody tr th:only-of-type {\n",
       "        vertical-align: middle;\n",
       "    }\n",
       "\n",
       "    .dataframe tbody tr th {\n",
       "        vertical-align: top;\n",
       "    }\n",
       "\n",
       "    .dataframe thead th {\n",
       "        text-align: right;\n",
       "    }\n",
       "</style>\n",
       "<table border=\"1\" class=\"dataframe\">\n",
       "  <thead>\n",
       "    <tr style=\"text-align: right;\">\n",
       "      <th></th>\n",
       "      <th>name</th>\n",
       "      <th>cantidad</th>\n",
       "    </tr>\n",
       "  </thead>\n",
       "  <tbody>\n",
       "    <tr>\n",
       "      <th>0</th>\n",
       "      <td>Publication Manual of the American Psychologic...</td>\n",
       "      <td>10</td>\n",
       "    </tr>\n",
       "    <tr>\n",
       "      <th>1</th>\n",
       "      <td>StrengthsFinder 2.0</td>\n",
       "      <td>9</td>\n",
       "    </tr>\n",
       "    <tr>\n",
       "      <th>2</th>\n",
       "      <td>Oh, the Places You'll Go!</td>\n",
       "      <td>8</td>\n",
       "    </tr>\n",
       "    <tr>\n",
       "      <th>3</th>\n",
       "      <td>The Very Hungry Caterpillar</td>\n",
       "      <td>7</td>\n",
       "    </tr>\n",
       "    <tr>\n",
       "      <th>4</th>\n",
       "      <td>The 7 Habits of Highly Effective People: Power...</td>\n",
       "      <td>7</td>\n",
       "    </tr>\n",
       "    <tr>\n",
       "      <th>5</th>\n",
       "      <td>The Four Agreements: A Practical Guide to Pers...</td>\n",
       "      <td>6</td>\n",
       "    </tr>\n",
       "    <tr>\n",
       "      <th>6</th>\n",
       "      <td>Jesus Calling: Enjoying Peace in His Presence ...</td>\n",
       "      <td>6</td>\n",
       "    </tr>\n",
       "    <tr>\n",
       "      <th>7</th>\n",
       "      <td>The Official SAT Study Guide</td>\n",
       "      <td>5</td>\n",
       "    </tr>\n",
       "    <tr>\n",
       "      <th>8</th>\n",
       "      <td>To Kill a Mockingbird</td>\n",
       "      <td>5</td>\n",
       "    </tr>\n",
       "    <tr>\n",
       "      <th>9</th>\n",
       "      <td>The 5 Love Languages: The Secret to Love That ...</td>\n",
       "      <td>5</td>\n",
       "    </tr>\n",
       "  </tbody>\n",
       "</table>\n",
       "</div>"
      ],
      "text/plain": [
       "                                                name  cantidad\n",
       "0  Publication Manual of the American Psychologic...        10\n",
       "1                                StrengthsFinder 2.0         9\n",
       "2                          Oh, the Places You'll Go!         8\n",
       "3                        The Very Hungry Caterpillar         7\n",
       "4  The 7 Habits of Highly Effective People: Power...         7\n",
       "5  The Four Agreements: A Practical Guide to Pers...         6\n",
       "6  Jesus Calling: Enjoying Peace in His Presence ...         6\n",
       "7                       The Official SAT Study Guide         5\n",
       "8                              To Kill a Mockingbird         5\n",
       "9  The 5 Love Languages: The Secret to Love That ...         5"
      ]
     },
     "execution_count": 48,
     "metadata": {},
     "output_type": "execute_result"
    }
   ],
   "source": [
    "df_name_ordenado_10"
   ]
  },
  {
   "cell_type": "code",
   "execution_count": 49,
   "metadata": {},
   "outputs": [
    {
     "data": {
      "image/png": "[encoded data removed]",
      "text/plain": [
       "<Figure size 576x432 with 1 Axes>"
      ]
     },
     "metadata": {
      "needs_background": "light"
     },
     "output_type": "display_data"
    }
   ],
   "source": [
    "plt.figure(figsize=(8,6))\n",
    "plt.xticks(rotation=90)\n",
    "plt.bar(df_name_ordenado_10['name'], df_name_ordenado_10[\"cantidad\"], color = 'Salmon');"
   ]
  },
  {
   "cell_type": "markdown",
   "metadata": {},
   "source": [
    "El primer libro que observamos ha aparecido en la lista de los más vendidos 10 veces, es decir, ha aparecido TODOS los años en la lista de los más vendidos (desde 2009 - 2019). El décimo libro ha aparecido 5 veces en la lista entre 2009 y 2019."
   ]
  },
  {
   "cell_type": "markdown",
   "metadata": {},
   "source": [
    "- Aquí podemos observar en qué año ha aparecido cada uno de los libros en la lista de más vendidos de Amazon."
   ]
  },
  {
   "cell_type": "code",
   "execution_count": 57,
   "metadata": {},
   "outputs": [
    {
     "data": {
      "text/html": [
       "<div>\n",
       "<style scoped>\n",
       "    .dataframe tbody tr th:only-of-type {\n",
       "        vertical-align: middle;\n",
       "    }\n",
       "\n",
       "    .dataframe tbody tr th {\n",
       "        vertical-align: top;\n",
       "    }\n",
       "\n",
       "    .dataframe thead th {\n",
       "        text-align: right;\n",
       "    }\n",
       "</style>\n",
       "<table border=\"1\" class=\"dataframe\">\n",
       "  <thead>\n",
       "    <tr style=\"text-align: right;\">\n",
       "      <th></th>\n",
       "      <th>Name</th>\n",
       "      <th>Author</th>\n",
       "      <th>User Rating</th>\n",
       "      <th>Reviews</th>\n",
       "      <th>Price</th>\n",
       "      <th>Year</th>\n",
       "      <th>Genre</th>\n",
       "    </tr>\n",
       "  </thead>\n",
       "  <tbody>\n",
       "    <tr>\n",
       "      <th>46</th>\n",
       "      <td>Catching Fire (The Hunger Games)</td>\n",
       "      <td>Suzanne Collins</td>\n",
       "      <td>4.70</td>\n",
       "      <td>22614</td>\n",
       "      <td>11</td>\n",
       "      <td>2010</td>\n",
       "      <td>Fiction</td>\n",
       "    </tr>\n",
       "    <tr>\n",
       "      <th>47</th>\n",
       "      <td>Catching Fire (The Hunger Games)</td>\n",
       "      <td>Suzanne Collins</td>\n",
       "      <td>4.70</td>\n",
       "      <td>22614</td>\n",
       "      <td>11</td>\n",
       "      <td>2011</td>\n",
       "      <td>Fiction</td>\n",
       "    </tr>\n",
       "  </tbody>\n",
       "</table>\n",
       "</div>"
      ],
      "text/plain": [
       "                                Name           Author  User Rating  Reviews  \\\n",
       "46  Catching Fire (The Hunger Games)  Suzanne Collins         4.70    22614   \n",
       "47  Catching Fire (The Hunger Games)  Suzanne Collins         4.70    22614   \n",
       "\n",
       "    Price  Year    Genre  \n",
       "46     11  2010  Fiction  \n",
       "47     11  2011  Fiction  "
      ]
     },
     "execution_count": 57,
     "metadata": {},
     "output_type": "execute_result"
    }
   ],
   "source": [
    "frecuentes= df[\"Name\"].value_counts()[0:50]\n",
    "values = frecuentes.keys().to_list()\n",
    "df_name = df[df[\"Name\"].isin(values)]\n",
    "df_name.head(2)"
   ]
  },
  {
   "cell_type": "code",
   "execution_count": 56,
   "metadata": {},
   "outputs": [
    {
     "data": {
      "image/png": "[encoded data removed]",
      "text/plain": [
       "<Figure size 1368x576 with 1 Axes>"
      ]
     },
     "metadata": {
      "needs_background": "light"
     },
     "output_type": "display_data"
    }
   ],
   "source": [
    "plt.figure(figsize =(19, 8))\n",
    "fig = sns.histplot(x= df_name[\"Year\"], y=df_name[\"Name\"], data= df)\n",
    "fig.set(xlabel='Year', ylabel= 'Título')\n",
    "fig.set_title('Nº de veces publicados cada libro por año')\n",
    "plt.show();"
   ]
  },
  {
   "cell_type": "markdown",
   "metadata": {},
   "source": [
    "- ¿Qué libros son más caros: los libros del género NF o los del F?"
   ]
  },
  {
   "cell_type": "code",
   "execution_count": 58,
   "metadata": {},
   "outputs": [
    {
     "data": {
      "image/png": "[encoded data removed]",
      "text/plain": [
       "<Figure size 792x432 with 1 Axes>"
      ]
     },
     "metadata": {
      "needs_background": "light"
     },
     "output_type": "display_data"
    }
   ],
   "source": [
    "# Boxplot por vertical, por isla\n",
    "plt.figure(figsize =(11,6))\n",
    "fig = sns.boxplot(x= 'Genre', y ='Price',hue= 'Genre', data = df)\n",
    "fig.set(xlabel='Género', ylabel= 'Precio' )\n",
    "fig.set_title('Comparativa de precios respecto a su género')\n",
    "plt.show()"
   ]
  },
  {
   "cell_type": "markdown",
   "metadata": {},
   "source": [
    "Podemos ver que los libros del género **Non Fiction** y **Fiction** no se diferencian en precio."
   ]
  },
  {
   "cell_type": "markdown",
   "metadata": {},
   "source": [
    "- ¿Existen diferencias de precio (por rangos) respecto de las valoraciones de l@s usuari@s?"
   ]
  },
  {
   "cell_type": "code",
   "execution_count": 59,
   "metadata": {},
   "outputs": [
    {
     "data": {
      "image/png": "[encoded data removed]",
      "text/plain": [
       "<Figure size 864x360 with 1 Axes>"
      ]
     },
     "metadata": {
      "needs_background": "light"
     },
     "output_type": "display_data"
    }
   ],
   "source": [
    "plt.figure(figsize =(12,5))\n",
    "fig = sns.boxplot(x= df_copia[\"Price\"], y = df_copia[\"User_rating_group\"], data = df_copia, hue = \"User_rating_group\")\n",
    "fig.set(xlabel='Precio', ylabel= 'User ratings' )\n",
    "fig.set_title('Precio de los libros respecto su rango de precios')\n",
    "plt.show()\n"
   ]
  },
  {
   "cell_type": "markdown",
   "metadata": {},
   "source": [
    "Observamos que sí que existen diferencias de precio entre los libros peor valorados (3.3 - 3.8) y los mejores valorados (4.8 y 5.3). Podríamos afirmar que los libros mejorar valorados tienen unos precios significativamente más bajos."
   ]
  }
 ],
 "metadata": {
  "interpreter": {
   "hash": "a2a25da4702e7ca1aacc8a7d4e81059851e19fd1060402175b35fae4c2a518e8"
  },
  "kernelspec": {
   "display_name": "Python 3.9.7 ('base')",
   "language": "python",
   "name": "python3"
  },
  "language_info": {
   "codemirror_mode": {
    "name": "ipython",
    "version": 3
   },
   "file_extension": ".py",
   "mimetype": "text/x-python",
   "name": "python",
   "nbconvert_exporter": "python",
   "pygments_lexer": "ipython3",
   "version": "3.9.7"
  },
  "orig_nbformat": 4
 },
 "nbformat": 4,
 "nbformat_minor": 2
}
