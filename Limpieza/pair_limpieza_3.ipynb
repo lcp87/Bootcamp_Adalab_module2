{
 "cells": [
  {
   "cell_type": "code",
   "execution_count": 6,
   "metadata": {},
   "outputs": [],
   "source": [
    "import pandas as pd\n",
    "import numpy as np\n",
    "import matplotlib.pyplot as plt\n",
    "import seaborn as sns\n"
   ]
  },
  {
   "cell_type": "code",
   "execution_count": 7,
   "metadata": {},
   "outputs": [
    {
     "data": {
      "text/html": [
       "<div>\n",
       "<style scoped>\n",
       "    .dataframe tbody tr th:only-of-type {\n",
       "        vertical-align: middle;\n",
       "    }\n",
       "\n",
       "    .dataframe tbody tr th {\n",
       "        vertical-align: top;\n",
       "    }\n",
       "\n",
       "    .dataframe thead th {\n",
       "        text-align: right;\n",
       "    }\n",
       "</style>\n",
       "<table border=\"1\" class=\"dataframe\">\n",
       "  <thead>\n",
       "    <tr style=\"text-align: right;\">\n",
       "      <th></th>\n",
       "      <th>case_number</th>\n",
       "      <th>year</th>\n",
       "      <th>type</th>\n",
       "      <th>country</th>\n",
       "      <th>area</th>\n",
       "      <th>location</th>\n",
       "      <th>activity</th>\n",
       "      <th>name</th>\n",
       "      <th>age</th>\n",
       "      <th>time</th>\n",
       "      <th>species</th>\n",
       "      <th>injury</th>\n",
       "      <th>fecha_limpia</th>\n",
       "      <th>fatal_limpio</th>\n",
       "      <th>sexo</th>\n",
       "    </tr>\n",
       "  </thead>\n",
       "  <tbody>\n",
       "    <tr>\n",
       "      <th>0</th>\n",
       "      <td>1800.00.00</td>\n",
       "      <td>1800</td>\n",
       "      <td>Unprovoked</td>\n",
       "      <td>seychelles</td>\n",
       "      <td>St. Anne</td>\n",
       "      <td>NaN</td>\n",
       "      <td>a corsair's boat was overturned</td>\n",
       "      <td>NaN</td>\n",
       "      <td>NaN</td>\n",
       "      <td>NaN</td>\n",
       "      <td>unspecified</td>\n",
       "      <td>FATAL, all onboard were killed by sharks</td>\n",
       "      <td>unspecified</td>\n",
       "      <td>Y</td>\n",
       "      <td>F</td>\n",
       "    </tr>\n",
       "    <tr>\n",
       "      <th>1</th>\n",
       "      <td>1797.05.28.R</td>\n",
       "      <td>1797</td>\n",
       "      <td>Unprovoked</td>\n",
       "      <td>NaN</td>\n",
       "      <td>NaN</td>\n",
       "      <td>NaN</td>\n",
       "      <td>Dropped overboard</td>\n",
       "      <td>child</td>\n",
       "      <td>NaN</td>\n",
       "      <td>NaN</td>\n",
       "      <td>unspecified</td>\n",
       "      <td>FATAL</td>\n",
       "      <td>May</td>\n",
       "      <td>Y</td>\n",
       "      <td>NaN</td>\n",
       "    </tr>\n",
       "    <tr>\n",
       "      <th>2</th>\n",
       "      <td>1792.09.12</td>\n",
       "      <td>1792</td>\n",
       "      <td>Provoked</td>\n",
       "      <td>england</td>\n",
       "      <td>NaN</td>\n",
       "      <td>On the Thames River</td>\n",
       "      <td>Fishing</td>\n",
       "      <td>male</td>\n",
       "      <td>NaN</td>\n",
       "      <td>NaN</td>\n",
       "      <td>unspecified</td>\n",
       "      <td>FATAL, PROVOKED INCIDENT</td>\n",
       "      <td>Sep</td>\n",
       "      <td>Y</td>\n",
       "      <td>M</td>\n",
       "    </tr>\n",
       "    <tr>\n",
       "      <th>3</th>\n",
       "      <td>1791.00.00</td>\n",
       "      <td>1791</td>\n",
       "      <td>Unprovoked</td>\n",
       "      <td>australia</td>\n",
       "      <td>New South Wales</td>\n",
       "      <td>Port Jackson</td>\n",
       "      <td>NaN</td>\n",
       "      <td>female, an Australian aboriginal</td>\n",
       "      <td>NaN</td>\n",
       "      <td>NaN</td>\n",
       "      <td>unspecified</td>\n",
       "      <td>FATAL, \"bitten in two\"</td>\n",
       "      <td>unspecified</td>\n",
       "      <td>Y</td>\n",
       "      <td>F</td>\n",
       "    </tr>\n",
       "    <tr>\n",
       "      <th>4</th>\n",
       "      <td>1788.05.10</td>\n",
       "      <td>1788</td>\n",
       "      <td>Boat</td>\n",
       "      <td>australia</td>\n",
       "      <td>New South Wales</td>\n",
       "      <td>Sydney Harbor</td>\n",
       "      <td>Fishing</td>\n",
       "      <td>boat</td>\n",
       "      <td>NaN</td>\n",
       "      <td>NaN</td>\n",
       "      <td>unspecified</td>\n",
       "      <td>No injury to occupants, shark bit oar and rudder</td>\n",
       "      <td>May</td>\n",
       "      <td>N</td>\n",
       "      <td>NaN</td>\n",
       "    </tr>\n",
       "  </tbody>\n",
       "</table>\n",
       "</div>"
      ],
      "text/plain": [
       "    case_number  year        type     country             area  \\\n",
       "0    1800.00.00  1800  Unprovoked  seychelles         St. Anne   \n",
       "1  1797.05.28.R  1797  Unprovoked         NaN              NaN   \n",
       "2    1792.09.12  1792    Provoked     england              NaN   \n",
       "3    1791.00.00  1791  Unprovoked   australia  New South Wales   \n",
       "4    1788.05.10  1788        Boat   australia  New South Wales   \n",
       "\n",
       "              location                         activity  \\\n",
       "0                  NaN  a corsair's boat was overturned   \n",
       "1                  NaN                Dropped overboard   \n",
       "2  On the Thames River                          Fishing   \n",
       "3         Port Jackson                              NaN   \n",
       "4        Sydney Harbor                          Fishing   \n",
       "\n",
       "                               name  age time      species  \\\n",
       "0                               NaN  NaN  NaN  unspecified   \n",
       "1                             child  NaN  NaN  unspecified   \n",
       "2                              male  NaN  NaN  unspecified   \n",
       "3  female, an Australian aboriginal  NaN  NaN  unspecified   \n",
       "4                              boat  NaN  NaN  unspecified   \n",
       "\n",
       "                                             injury fecha_limpia fatal_limpio  \\\n",
       "0          FATAL, all onboard were killed by sharks  unspecified            Y   \n",
       "1                                             FATAL          May            Y   \n",
       "2                          FATAL, PROVOKED INCIDENT          Sep            Y   \n",
       "3                            FATAL, \"bitten in two\"  unspecified            Y   \n",
       "4  No injury to occupants, shark bit oar and rudder          May            N   \n",
       "\n",
       "  sexo  \n",
       "0    F  \n",
       "1  NaN  \n",
       "2    M  \n",
       "3    F  \n",
       "4  NaN  "
      ]
     },
     "execution_count": 7,
     "metadata": {},
     "output_type": "execute_result"
    }
   ],
   "source": [
    "df = pd.read_csv(\"pairs_limpieza.csv\", index_col = 0)\n",
    "df.head()"
   ]
  },
  {
   "cell_type": "markdown",
   "metadata": {},
   "source": [
    "- En este ejercicio tendremos que limpiar los outliers.\n",
    "¿Sobre que columnas podremos eliminar o reemplazar los outliers?\n",
    "Identifica visualmente los outliers\n",
    "\n"
   ]
  },
  {
   "cell_type": "markdown",
   "metadata": {},
   "source": [
    "Vamos a investigar los outliers de nuestra columna **year** ya que es la única columna numérica."
   ]
  },
  {
   "cell_type": "code",
   "execution_count": 8,
   "metadata": {},
   "outputs": [
    {
     "data": {
      "text/plain": [
       "array([1800, 1797, 1792, 1791, 1788, 1787, 1786, 1785, 1784, 1783, 1780,\n",
       "       1779, 1776, 1771, 1767, 1764, 1758, 1753, 1751, 1749, 1755, 1748,\n",
       "       1742, 1738, 1733, 1723, 1721, 1703, 1700, 1642, 1638, 1637, 1617,\n",
       "       1595, 1580, 1555, 1554, 1543,  500,   77,    5,    0, 2018, 2017,\n",
       "       2016, 2015, 2014, 2013, 2012, 2011, 2010, 2009, 2008, 2007, 2006,\n",
       "       2005, 2004, 2003, 2002, 2001, 2000, 1999, 1998, 1997, 1996, 1995,\n",
       "       1984, 1994, 1993, 1992, 1991, 1990, 1989, 1969, 1988, 1987, 1986,\n",
       "       1985, 1983, 1982, 1981, 1980, 1979, 1978, 1977, 1976, 1975, 1974,\n",
       "       1973, 1972, 1971, 1970, 1968, 1967, 1966, 1965, 1964, 1963, 1962,\n",
       "       1961, 1960, 1959, 1958, 1957, 1956, 1955, 1954, 1953, 1952, 1951,\n",
       "       1950, 1949, 1948, 1848, 1947, 1946, 1945, 1944, 1943, 1942, 1941,\n",
       "       1940, 1939, 1938, 1937, 1936, 1935, 1934, 1933, 1932, 1931, 1930,\n",
       "       1929, 1928, 1927, 1926, 1925, 1924, 1923, 1922, 1921, 1920, 1919,\n",
       "       1918, 1917, 1916, 1915, 1914, 1913, 1912, 1911, 1910, 1909, 1908,\n",
       "       1907, 1906, 1905, 1904, 1903, 1902, 1901, 1900, 1899, 1898, 1897,\n",
       "       1896, 1895, 1894, 1893, 1892, 1891, 1890, 1889, 1888, 1887, 1886,\n",
       "       1885, 1884, 1883, 1882, 1881, 1880, 1879, 1878, 1877, 1876, 1875,\n",
       "       1874, 1873, 1872, 1871, 1870, 1869, 1868, 1867, 1866, 1865, 1864,\n",
       "       1863, 1862, 1861, 1860, 1859, 1858, 1857, 1856, 1855, 1853, 1852,\n",
       "       1851, 1850, 1849, 1847, 1846, 1845, 1844, 1842, 1841, 1840, 1839,\n",
       "       1837, 1836, 1835, 1834, 1832, 1831, 1830, 1829, 1828, 1827, 1826,\n",
       "       1825, 1823, 1822, 1819, 1818, 1817, 1816, 1815, 1812, 1811, 1810,\n",
       "       1808, 1807, 1805, 1804, 1803, 1802, 1801])"
      ]
     },
     "execution_count": 8,
     "metadata": {},
     "output_type": "execute_result"
    }
   ],
   "source": [
    "df[\"year\"].unique()"
   ]
  },
  {
   "cell_type": "markdown",
   "metadata": {},
   "source": [
    "Con esto confirmamos que no hay *nan* de ningún tipo, por lo que podemos calcular los cuartiles con **percentile** y no **nanpercentile**"
   ]
  },
  {
   "cell_type": "code",
   "execution_count": 9,
   "metadata": {},
   "outputs": [
    {
     "data": {
      "text/plain": [
       "2018"
      ]
     },
     "execution_count": 9,
     "metadata": {},
     "output_type": "execute_result"
    }
   ],
   "source": [
    "max = df['year'].max()\n",
    "max"
   ]
  },
  {
   "cell_type": "code",
   "execution_count": 10,
   "metadata": {},
   "outputs": [
    {
     "data": {
      "text/plain": [
       "0"
      ]
     },
     "execution_count": 10,
     "metadata": {},
     "output_type": "execute_result"
    }
   ],
   "source": [
    "min = df['year'].min()\n",
    "min"
   ]
  },
  {
   "cell_type": "code",
   "execution_count": 11,
   "metadata": {},
   "outputs": [
    {
     "data": {
      "text/plain": [
       "1927.1640674729472"
      ]
     },
     "execution_count": 11,
     "metadata": {},
     "output_type": "execute_result"
    }
   ],
   "source": [
    "media = df['year'].mean()\n",
    "media"
   ]
  },
  {
   "cell_type": "markdown",
   "metadata": {},
   "source": [
    "Calculando el mínimo, máximo y la media de la columna ya podemos observar que la distancia del max. a la media es 90,84 y con el min. es 1927,16 por lo que ya la media no es representativo y sabriamos que hay outliers.\n",
    "\n",
    "Tampoco tiene sentido que haya un año 0 por lo que ese será un outlier que tendremos que decidir que hacer con el. Pero antes vamos a realizar un análisis gráfico de nuestra columna mediante un boxplot, para ello, seguimos los siguientes pasos:"
   ]
  },
  {
   "cell_type": "markdown",
   "metadata": {},
   "source": [
    "1.Calculamos los cuartiles de nuestra columna"
   ]
  },
  {
   "cell_type": "code",
   "execution_count": 12,
   "metadata": {},
   "outputs": [
    {
     "data": {
      "text/plain": [
       "2005.0"
      ]
     },
     "execution_count": 12,
     "metadata": {},
     "output_type": "execute_result"
    }
   ],
   "source": [
    "q3 = np.percentile(df[\"year\"], 75)\n",
    "q3"
   ]
  },
  {
   "cell_type": "code",
   "execution_count": 13,
   "metadata": {},
   "outputs": [
    {
     "data": {
      "text/plain": [
       "1942.0"
      ]
     },
     "execution_count": 13,
     "metadata": {},
     "output_type": "execute_result"
    }
   ],
   "source": [
    "q1 = np.percentile(df[\"year\"], 25)\n",
    "q1"
   ]
  },
  {
   "cell_type": "markdown",
   "metadata": {},
   "source": [
    "2.Vamos a calcular el rango intercuartílico (IQR)"
   ]
  },
  {
   "cell_type": "code",
   "execution_count": 14,
   "metadata": {},
   "outputs": [
    {
     "data": {
      "text/plain": [
       "63.0"
      ]
     },
     "execution_count": 14,
     "metadata": {},
     "output_type": "execute_result"
    }
   ],
   "source": [
    "iqr = q3 - q1\n",
    "iqr"
   ]
  },
  {
   "cell_type": "markdown",
   "metadata": {},
   "source": [
    "3.Calculamos los limites superiores e inferiores (los bigotes de nuestro box plot)"
   ]
  },
  {
   "cell_type": "code",
   "execution_count": 15,
   "metadata": {},
   "outputs": [
    {
     "data": {
      "text/plain": [
       "94.5"
      ]
     },
     "execution_count": 15,
     "metadata": {},
     "output_type": "execute_result"
    }
   ],
   "source": [
    "outlier_step = 1.5 * iqr\n",
    "outlier_step"
   ]
  },
  {
   "cell_type": "markdown",
   "metadata": {},
   "source": [
    "4.Vamos a dibujar nuestro gráfico de boxplot para echar un vistazo a nuestros datos"
   ]
  },
  {
   "cell_type": "code",
   "execution_count": 16,
   "metadata": {},
   "outputs": [
    {
     "data": {
      "image/png": "[encoded data removed]",
      "text/plain": [
       "<Figure size 720x504 with 1 Axes>"
      ]
     },
     "metadata": {
      "needs_background": "light"
     },
     "output_type": "display_data"
    }
   ],
   "source": [
    "fig = plt.figure(figsize=(10,7))\n",
    "plt.boxplot(df[\"year\"])\n",
    "plt.show()"
   ]
  },
  {
   "cell_type": "markdown",
   "metadata": {},
   "source": [
    "Observamos en nuestros datos que existen 4 valores en la columna ***year*** muy atípicos, el 0 y 5, 77 y 500. Asumimos que esos valores han sido mal registrados y que no son representativos del conjunto."
   ]
  },
  {
   "cell_type": "markdown",
   "metadata": {},
   "source": [
    "Ahora pasamos a investigar qué hacer con esos 4 valores, si reemplazarlos o eliminarlos, y después observar cómo se queda nuestro boxplot sin ellos o con ellos modificados."
   ]
  },
  {
   "cell_type": "markdown",
   "metadata": {},
   "source": [
    "Vamos a probar a eliminarlos"
   ]
  },
  {
   "cell_type": "markdown",
   "metadata": {},
   "source": [
    "- Identificamos las filas que son outliers gracias un filtrado."
   ]
  },
  {
   "cell_type": "code",
   "execution_count": 17,
   "metadata": {},
   "outputs": [
    {
     "data": {
      "text/html": [
       "<div>\n",
       "<style scoped>\n",
       "    .dataframe tbody tr th:only-of-type {\n",
       "        vertical-align: middle;\n",
       "    }\n",
       "\n",
       "    .dataframe tbody tr th {\n",
       "        vertical-align: top;\n",
       "    }\n",
       "\n",
       "    .dataframe thead th {\n",
       "        text-align: right;\n",
       "    }\n",
       "</style>\n",
       "<table border=\"1\" class=\"dataframe\">\n",
       "  <thead>\n",
       "    <tr style=\"text-align: right;\">\n",
       "      <th></th>\n",
       "      <th>case_number</th>\n",
       "      <th>year</th>\n",
       "      <th>type</th>\n",
       "      <th>country</th>\n",
       "      <th>area</th>\n",
       "      <th>location</th>\n",
       "      <th>activity</th>\n",
       "      <th>name</th>\n",
       "      <th>age</th>\n",
       "      <th>time</th>\n",
       "      <th>species</th>\n",
       "      <th>injury</th>\n",
       "      <th>fecha_limpia</th>\n",
       "      <th>fatal_limpio</th>\n",
       "      <th>sexo</th>\n",
       "    </tr>\n",
       "  </thead>\n",
       "  <tbody>\n",
       "    <tr>\n",
       "      <th>0</th>\n",
       "      <td>1800.00.00</td>\n",
       "      <td>1800</td>\n",
       "      <td>Unprovoked</td>\n",
       "      <td>seychelles</td>\n",
       "      <td>St. Anne</td>\n",
       "      <td>NaN</td>\n",
       "      <td>a corsair's boat was overturned</td>\n",
       "      <td>NaN</td>\n",
       "      <td>NaN</td>\n",
       "      <td>NaN</td>\n",
       "      <td>unspecified</td>\n",
       "      <td>FATAL, all onboard were killed by sharks</td>\n",
       "      <td>unspecified</td>\n",
       "      <td>Y</td>\n",
       "      <td>F</td>\n",
       "    </tr>\n",
       "    <tr>\n",
       "      <th>1</th>\n",
       "      <td>1797.05.28.R</td>\n",
       "      <td>1797</td>\n",
       "      <td>Unprovoked</td>\n",
       "      <td>NaN</td>\n",
       "      <td>NaN</td>\n",
       "      <td>NaN</td>\n",
       "      <td>Dropped overboard</td>\n",
       "      <td>child</td>\n",
       "      <td>NaN</td>\n",
       "      <td>NaN</td>\n",
       "      <td>unspecified</td>\n",
       "      <td>FATAL</td>\n",
       "      <td>May</td>\n",
       "      <td>Y</td>\n",
       "      <td>NaN</td>\n",
       "    </tr>\n",
       "    <tr>\n",
       "      <th>2</th>\n",
       "      <td>1792.09.12</td>\n",
       "      <td>1792</td>\n",
       "      <td>Provoked</td>\n",
       "      <td>england</td>\n",
       "      <td>NaN</td>\n",
       "      <td>On the Thames River</td>\n",
       "      <td>Fishing</td>\n",
       "      <td>male</td>\n",
       "      <td>NaN</td>\n",
       "      <td>NaN</td>\n",
       "      <td>unspecified</td>\n",
       "      <td>FATAL, PROVOKED INCIDENT</td>\n",
       "      <td>Sep</td>\n",
       "      <td>Y</td>\n",
       "      <td>M</td>\n",
       "    </tr>\n",
       "    <tr>\n",
       "      <th>3</th>\n",
       "      <td>1791.00.00</td>\n",
       "      <td>1791</td>\n",
       "      <td>Unprovoked</td>\n",
       "      <td>australia</td>\n",
       "      <td>New South Wales</td>\n",
       "      <td>Port Jackson</td>\n",
       "      <td>NaN</td>\n",
       "      <td>female, an Australian aboriginal</td>\n",
       "      <td>NaN</td>\n",
       "      <td>NaN</td>\n",
       "      <td>unspecified</td>\n",
       "      <td>FATAL, \"bitten in two\"</td>\n",
       "      <td>unspecified</td>\n",
       "      <td>Y</td>\n",
       "      <td>F</td>\n",
       "    </tr>\n",
       "    <tr>\n",
       "      <th>4</th>\n",
       "      <td>1788.05.10</td>\n",
       "      <td>1788</td>\n",
       "      <td>Boat</td>\n",
       "      <td>australia</td>\n",
       "      <td>New South Wales</td>\n",
       "      <td>Sydney Harbor</td>\n",
       "      <td>Fishing</td>\n",
       "      <td>boat</td>\n",
       "      <td>NaN</td>\n",
       "      <td>NaN</td>\n",
       "      <td>unspecified</td>\n",
       "      <td>No injury to occupants, shark bit oar and rudder</td>\n",
       "      <td>May</td>\n",
       "      <td>N</td>\n",
       "      <td>NaN</td>\n",
       "    </tr>\n",
       "  </tbody>\n",
       "</table>\n",
       "</div>"
      ],
      "text/plain": [
       "    case_number  year        type     country             area  \\\n",
       "0    1800.00.00  1800  Unprovoked  seychelles         St. Anne   \n",
       "1  1797.05.28.R  1797  Unprovoked         NaN              NaN   \n",
       "2    1792.09.12  1792    Provoked     england              NaN   \n",
       "3    1791.00.00  1791  Unprovoked   australia  New South Wales   \n",
       "4    1788.05.10  1788        Boat   australia  New South Wales   \n",
       "\n",
       "              location                         activity  \\\n",
       "0                  NaN  a corsair's boat was overturned   \n",
       "1                  NaN                Dropped overboard   \n",
       "2  On the Thames River                          Fishing   \n",
       "3         Port Jackson                              NaN   \n",
       "4        Sydney Harbor                          Fishing   \n",
       "\n",
       "                               name  age time      species  \\\n",
       "0                               NaN  NaN  NaN  unspecified   \n",
       "1                             child  NaN  NaN  unspecified   \n",
       "2                              male  NaN  NaN  unspecified   \n",
       "3  female, an Australian aboriginal  NaN  NaN  unspecified   \n",
       "4                              boat  NaN  NaN  unspecified   \n",
       "\n",
       "                                             injury fecha_limpia fatal_limpio  \\\n",
       "0          FATAL, all onboard were killed by sharks  unspecified            Y   \n",
       "1                                             FATAL          May            Y   \n",
       "2                          FATAL, PROVOKED INCIDENT          Sep            Y   \n",
       "3                            FATAL, \"bitten in two\"  unspecified            Y   \n",
       "4  No injury to occupants, shark bit oar and rudder          May            N   \n",
       "\n",
       "  sexo  \n",
       "0    F  \n",
       "1  NaN  \n",
       "2    M  \n",
       "3    F  \n",
       "4  NaN  "
      ]
     },
     "execution_count": 17,
     "metadata": {},
     "output_type": "execute_result"
    }
   ],
   "source": [
    "outliers_data = df[(df[\"year\"] < q1 - outlier_step) | (df[\"year\"] > q3 + outlier_step)]\n",
    "outliers_data.head()\n"
   ]
  },
  {
   "cell_type": "code",
   "execution_count": 18,
   "metadata": {},
   "outputs": [
    {
     "data": {
      "text/plain": [
       "0       125\n",
       "1847      9\n",
       "1845      6\n",
       "1840      5\n",
       "1826      5\n",
       "       ... \n",
       "1723      1\n",
       "1733      1\n",
       "1738      1\n",
       "1742      1\n",
       "1801      1\n",
       "Name: year, Length: 79, dtype: int64"
      ]
     },
     "execution_count": 18,
     "metadata": {},
     "output_type": "execute_result"
    }
   ],
   "source": [
    "outliers_data['year'].value_counts()"
   ]
  },
  {
   "cell_type": "code",
   "execution_count": 19,
   "metadata": {},
   "outputs": [
    {
     "data": {
      "text/plain": [
       "array([1800, 1797, 1792, 1791, 1788, 1787, 1786, 1785, 1784, 1783, 1780,\n",
       "       1779, 1776, 1771, 1767, 1764, 1758, 1753, 1751, 1749, 1755, 1748,\n",
       "       1742, 1738, 1733, 1723, 1721, 1703, 1700, 1642, 1638, 1637, 1617,\n",
       "       1595, 1580, 1555, 1554, 1543,  500,   77,    5,    0, 1847, 1846,\n",
       "       1845, 1844, 1842, 1841, 1840, 1839, 1837, 1836, 1835, 1834, 1832,\n",
       "       1831, 1830, 1829, 1828, 1827, 1826, 1825, 1823, 1822, 1819, 1818,\n",
       "       1817, 1816, 1815, 1812, 1811, 1810, 1808, 1807, 1805, 1804, 1803,\n",
       "       1802, 1801])"
      ]
     },
     "execution_count": 19,
     "metadata": {},
     "output_type": "execute_result"
    }
   ],
   "source": [
    "outliers_data['year'].unique()"
   ]
  },
  {
   "cell_type": "markdown",
   "metadata": {},
   "source": [
    "Tenemos una lista bastante larga de outliers, pero hay cuatro en especial que no concuerdan con años, como es 0, 5, 77 y 500. Seguramente debido a la existencia de estos, los demás años de la lista también entran como outliers. Por lo tanto, decidimos eliminar las filas de 5, 77 y 500 ya que solo se repiten una vez y como hay tantos 0 decidimos reemplazarlos por un estadístico. Veremos luego si la lista de outliers cambia."
   ]
  },
  {
   "cell_type": "markdown",
   "metadata": {},
   "source": [
    "- Sacamos indices de outliers"
   ]
  },
  {
   "cell_type": "code",
   "execution_count": 20,
   "metadata": {},
   "outputs": [
    {
     "data": {
      "text/plain": [
       "[0,\n",
       " 1,\n",
       " 2,\n",
       " 3,\n",
       " 4,\n",
       " 5,\n",
       " 6,\n",
       " 7,\n",
       " 8,\n",
       " 9,\n",
       " 10,\n",
       " 11,\n",
       " 12,\n",
       " 13,\n",
       " 14,\n",
       " 15,\n",
       " 16,\n",
       " 17,\n",
       " 18,\n",
       " 19,\n",
       " 20,\n",
       " 21,\n",
       " 22,\n",
       " 23,\n",
       " 24,\n",
       " 25,\n",
       " 26,\n",
       " 27,\n",
       " 28,\n",
       " 29,\n",
       " 30,\n",
       " 31,\n",
       " 32,\n",
       " 33,\n",
       " 34,\n",
       " 35,\n",
       " 36,\n",
       " 37,\n",
       " 38,\n",
       " 39,\n",
       " 40,\n",
       " 41,\n",
       " 42,\n",
       " 43,\n",
       " 44,\n",
       " 45,\n",
       " 46,\n",
       " 47,\n",
       " 48,\n",
       " 49,\n",
       " 50,\n",
       " 51,\n",
       " 52,\n",
       " 53,\n",
       " 54,\n",
       " 55,\n",
       " 56,\n",
       " 57,\n",
       " 58,\n",
       " 59,\n",
       " 60,\n",
       " 61,\n",
       " 62,\n",
       " 63,\n",
       " 64,\n",
       " 65,\n",
       " 66,\n",
       " 67,\n",
       " 68,\n",
       " 69,\n",
       " 70,\n",
       " 71,\n",
       " 72,\n",
       " 73,\n",
       " 74,\n",
       " 75,\n",
       " 76,\n",
       " 77,\n",
       " 78,\n",
       " 79,\n",
       " 80,\n",
       " 81,\n",
       " 82,\n",
       " 83,\n",
       " 84,\n",
       " 85,\n",
       " 86,\n",
       " 87,\n",
       " 88,\n",
       " 89,\n",
       " 90,\n",
       " 91,\n",
       " 92,\n",
       " 93,\n",
       " 94,\n",
       " 95,\n",
       " 96,\n",
       " 97,\n",
       " 98,\n",
       " 99,\n",
       " 100,\n",
       " 101,\n",
       " 102,\n",
       " 103,\n",
       " 104,\n",
       " 105,\n",
       " 106,\n",
       " 107,\n",
       " 108,\n",
       " 109,\n",
       " 110,\n",
       " 111,\n",
       " 112,\n",
       " 113,\n",
       " 114,\n",
       " 115,\n",
       " 116,\n",
       " 117,\n",
       " 118,\n",
       " 119,\n",
       " 120,\n",
       " 121,\n",
       " 122,\n",
       " 123,\n",
       " 124,\n",
       " 125,\n",
       " 126,\n",
       " 127,\n",
       " 128,\n",
       " 129,\n",
       " 130,\n",
       " 131,\n",
       " 132,\n",
       " 133,\n",
       " 134,\n",
       " 135,\n",
       " 136,\n",
       " 137,\n",
       " 138,\n",
       " 139,\n",
       " 140,\n",
       " 141,\n",
       " 142,\n",
       " 143,\n",
       " 144,\n",
       " 145,\n",
       " 146,\n",
       " 147,\n",
       " 148,\n",
       " 149,\n",
       " 150,\n",
       " 151,\n",
       " 152,\n",
       " 153,\n",
       " 154,\n",
       " 155,\n",
       " 156,\n",
       " 157,\n",
       " 158,\n",
       " 159,\n",
       " 160,\n",
       " 161,\n",
       " 162,\n",
       " 163,\n",
       " 164,\n",
       " 165,\n",
       " 166,\n",
       " 167,\n",
       " 168,\n",
       " 169,\n",
       " 6192,\n",
       " 6193,\n",
       " 6194,\n",
       " 6195,\n",
       " 6196,\n",
       " 6197,\n",
       " 6198,\n",
       " 6199,\n",
       " 6200,\n",
       " 6201,\n",
       " 6202,\n",
       " 6203,\n",
       " 6204,\n",
       " 6205,\n",
       " 6206,\n",
       " 6207,\n",
       " 6208,\n",
       " 6209,\n",
       " 6210,\n",
       " 6211,\n",
       " 6212,\n",
       " 6213,\n",
       " 6214,\n",
       " 6215,\n",
       " 6216,\n",
       " 6217,\n",
       " 6218,\n",
       " 6219,\n",
       " 6220,\n",
       " 6221,\n",
       " 6222,\n",
       " 6223,\n",
       " 6224,\n",
       " 6225,\n",
       " 6226,\n",
       " 6227,\n",
       " 6228,\n",
       " 6229,\n",
       " 6230,\n",
       " 6231,\n",
       " 6232,\n",
       " 6233,\n",
       " 6234,\n",
       " 6235,\n",
       " 6236,\n",
       " 6237,\n",
       " 6238,\n",
       " 6239,\n",
       " 6240,\n",
       " 6241,\n",
       " 6242,\n",
       " 6243,\n",
       " 6244,\n",
       " 6245,\n",
       " 6246,\n",
       " 6247,\n",
       " 6248,\n",
       " 6249,\n",
       " 6250,\n",
       " 6251,\n",
       " 6252,\n",
       " 6253,\n",
       " 6254,\n",
       " 6255,\n",
       " 6256,\n",
       " 6257,\n",
       " 6258,\n",
       " 6259,\n",
       " 6260,\n",
       " 6261,\n",
       " 6262,\n",
       " 6263,\n",
       " 6264,\n",
       " 6265,\n",
       " 6266,\n",
       " 6267,\n",
       " 6268,\n",
       " 6269,\n",
       " 6270,\n",
       " 6271,\n",
       " 6272,\n",
       " 6273,\n",
       " 6274,\n",
       " 6275,\n",
       " 6276,\n",
       " 6278,\n",
       " 6279,\n",
       " 6280,\n",
       " 6281,\n",
       " 6282,\n",
       " 6283]"
      ]
     },
     "execution_count": 20,
     "metadata": {},
     "output_type": "execute_result"
    }
   ],
   "source": [
    "x = list(outliers_data.index)\n",
    "x"
   ]
  },
  {
   "cell_type": "markdown",
   "metadata": {},
   "source": [
    "Hacemos una copia por seguridad"
   ]
  },
  {
   "cell_type": "code",
   "execution_count": 21,
   "metadata": {},
   "outputs": [],
   "source": [
    "df_sin_outliers = df.copy()"
   ]
  },
  {
   "cell_type": "markdown",
   "metadata": {},
   "source": [
    "- Eliminamos filas"
   ]
  },
  {
   "cell_type": "markdown",
   "metadata": {},
   "source": [
    "Buscamos los indices de los outliers a eliminar, como en este caso solo son 3 columnas lo buscamos manualmente. "
   ]
  },
  {
   "cell_type": "code",
   "execution_count": 22,
   "metadata": {},
   "outputs": [
    {
     "data": {
      "text/plain": [
       "Int64Index([44], dtype='int64')"
      ]
     },
     "execution_count": 22,
     "metadata": {},
     "output_type": "execute_result"
    }
   ],
   "source": [
    "df_sin_outliers['year'][df_sin_outliers['year'] == 5].index"
   ]
  },
  {
   "cell_type": "code",
   "execution_count": 23,
   "metadata": {},
   "outputs": [
    {
     "data": {
      "text/plain": [
       "Int64Index([43], dtype='int64')"
      ]
     },
     "execution_count": 23,
     "metadata": {},
     "output_type": "execute_result"
    }
   ],
   "source": [
    "df_sin_outliers['year'][df_sin_outliers['year'] == 77].index"
   ]
  },
  {
   "cell_type": "code",
   "execution_count": 24,
   "metadata": {},
   "outputs": [
    {
     "data": {
      "text/plain": [
       "Int64Index([42], dtype='int64')"
      ]
     },
     "execution_count": 24,
     "metadata": {},
     "output_type": "execute_result"
    }
   ],
   "source": [
    "df_sin_outliers['year'][df_sin_outliers['year'] == 500].index"
   ]
  },
  {
   "cell_type": "markdown",
   "metadata": {},
   "source": [
    "Creamos una lista con los índices y pasamos a eliminarlos"
   ]
  },
  {
   "cell_type": "code",
   "execution_count": 25,
   "metadata": {},
   "outputs": [],
   "source": [
    "indices = [44,43,42]"
   ]
  },
  {
   "cell_type": "code",
   "execution_count": 26,
   "metadata": {},
   "outputs": [],
   "source": [
    "eliminar = df_sin_outliers.drop(df_sin_outliers.index[indices])"
   ]
  },
  {
   "cell_type": "markdown",
   "metadata": {},
   "source": [
    "Comprobamos que efectivamente están eliminados."
   ]
  },
  {
   "cell_type": "code",
   "execution_count": 27,
   "metadata": {},
   "outputs": [
    {
     "data": {
      "text/plain": [
       "(6284, 15)"
      ]
     },
     "execution_count": 27,
     "metadata": {},
     "output_type": "execute_result"
    }
   ],
   "source": [
    "df_sin_outliers.shape"
   ]
  },
  {
   "cell_type": "code",
   "execution_count": 28,
   "metadata": {},
   "outputs": [
    {
     "data": {
      "text/plain": [
       "(6281, 15)"
      ]
     },
     "execution_count": 28,
     "metadata": {},
     "output_type": "execute_result"
    }
   ],
   "source": [
    "eliminar.shape"
   ]
  },
  {
   "cell_type": "markdown",
   "metadata": {},
   "source": [
    "- Reemplazamos los outliers por el estadístico más correcto: la mediana. En este caso donde el año sea 0."
   ]
  },
  {
   "cell_type": "markdown",
   "metadata": {},
   "source": [
    "Buscamos los indices del año 0 y reemplazamos"
   ]
  },
  {
   "cell_type": "code",
   "execution_count": 29,
   "metadata": {},
   "outputs": [
    {
     "data": {
      "text/plain": [
       "Int64Index([ 45,  46,  47,  48,  49,  50,  51,  52,  53,  54,\n",
       "            ...\n",
       "            160, 161, 162, 163, 164, 165, 166, 167, 168, 169],\n",
       "           dtype='int64', length=125)"
      ]
     },
     "execution_count": 29,
     "metadata": {},
     "output_type": "execute_result"
    }
   ],
   "source": [
    "indices_cero = eliminar['year'][eliminar['year'] == 0].index\n",
    "indices_cero"
   ]
  },
  {
   "cell_type": "code",
   "execution_count": 30,
   "metadata": {},
   "outputs": [
    {
     "data": {
      "text/plain": [
       "1977.0"
      ]
     },
     "execution_count": 30,
     "metadata": {},
     "output_type": "execute_result"
    }
   ],
   "source": [
    "mediana = eliminar['year'].median()\n",
    "mediana"
   ]
  },
  {
   "cell_type": "code",
   "execution_count": 31,
   "metadata": {},
   "outputs": [
    {
     "name": "stderr",
     "output_type": "stream",
     "text": [
      "/home/adalaber/anaconda3/lib/python3.9/site-packages/pandas/core/indexing.py:1732: SettingWithCopyWarning: \n",
      "A value is trying to be set on a copy of a slice from a DataFrame\n",
      "\n",
      "See the caveats in the documentation: https://pandas.pydata.org/pandas-docs/stable/user_guide/indexing.html#returning-a-view-versus-a-copy\n",
      "  self._setitem_single_block(indexer, value, name)\n"
     ]
    }
   ],
   "source": [
    "for i in indices_cero: # iteremos por la lista de valores para cada columna\n",
    "    eliminar['year'].loc[i] = mediana"
   ]
  },
  {
   "cell_type": "code",
   "execution_count": 32,
   "metadata": {},
   "outputs": [
    {
     "data": {
      "image/png": "[encoded data removed]",
      "text/plain": [
       "<Figure size 720x504 with 1 Axes>"
      ]
     },
     "metadata": {
      "needs_background": "light"
     },
     "output_type": "display_data"
    }
   ],
   "source": [
    "fig = plt.figure(figsize=(10,7))\n",
    "plt.boxplot(eliminar[\"year\"])\n",
    "plt.show()"
   ]
  },
  {
   "cell_type": "markdown",
   "metadata": {},
   "source": [
    "Observamos ahora nuestra nueva gráfica habiendo modificado los outliers. Podemos ver que sigue habiendo valores atípicos pero al ser una columna con años, no tendría mucho sentido eliminar todos los outliers ni siquiera modificarlo, porque estos valores ya si tienen sentido."
   ]
  },
  {
   "cell_type": "code",
   "execution_count": 33,
   "metadata": {},
   "outputs": [
    {
     "data": {
      "text/plain": [
       "array([1800, 1797, 1792, 1791, 1788, 1787, 1786, 1785, 1784, 1783, 1780,\n",
       "       1779, 1776, 1771, 1767, 1764, 1758, 1753, 1751, 1749, 1755, 1748,\n",
       "       1742, 1738, 1733, 1723, 1721, 1703, 1700, 1642, 1638, 1637, 1617,\n",
       "       1595, 1580, 1555, 1554, 1543, 1977, 2018, 2017, 2016, 2015, 2014,\n",
       "       2013, 2012, 2011, 2010, 2009, 2008, 2007, 2006, 2005, 2004, 2003,\n",
       "       2002, 2001, 2000, 1999, 1998, 1997, 1996, 1995, 1984, 1994, 1993,\n",
       "       1992, 1991, 1990, 1989, 1969, 1988, 1987, 1986, 1985, 1983, 1982,\n",
       "       1981, 1980, 1979, 1978, 1976, 1975, 1974, 1973, 1972, 1971, 1970,\n",
       "       1968, 1967, 1966, 1965, 1964, 1963, 1962, 1961, 1960, 1959, 1958,\n",
       "       1957, 1956, 1955, 1954, 1953, 1952, 1951, 1950, 1949, 1948, 1848,\n",
       "       1947, 1946, 1945, 1944, 1943, 1942, 1941, 1940, 1939, 1938, 1937,\n",
       "       1936, 1935, 1934, 1933, 1932, 1931, 1930, 1929, 1928, 1927, 1926,\n",
       "       1925, 1924, 1923, 1922, 1921, 1920, 1919, 1918, 1917, 1916, 1915,\n",
       "       1914, 1913, 1912, 1911, 1910, 1909, 1908, 1907, 1906, 1905, 1904,\n",
       "       1903, 1902, 1901, 1900, 1899, 1898, 1897, 1896, 1895, 1894, 1893,\n",
       "       1892, 1891, 1890, 1889, 1888, 1887, 1886, 1885, 1884, 1883, 1882,\n",
       "       1881, 1880, 1879, 1878, 1877, 1876, 1875, 1874, 1873, 1872, 1871,\n",
       "       1870, 1869, 1868, 1867, 1866, 1865, 1864, 1863, 1862, 1861, 1860,\n",
       "       1859, 1858, 1857, 1856, 1855, 1853, 1852, 1851, 1850, 1849, 1847,\n",
       "       1846, 1845, 1844, 1842, 1841, 1840, 1839, 1837, 1836, 1835, 1834,\n",
       "       1832, 1831, 1830, 1829, 1828, 1827, 1826, 1825, 1823, 1822, 1819,\n",
       "       1818, 1817, 1816, 1815, 1812, 1811, 1810, 1808, 1807, 1805, 1804,\n",
       "       1803, 1802, 1801])"
      ]
     },
     "execution_count": 33,
     "metadata": {},
     "output_type": "execute_result"
    }
   ],
   "source": [
    "eliminar['year'].unique()"
   ]
  },
  {
   "cell_type": "code",
   "execution_count": 34,
   "metadata": {},
   "outputs": [
    {
     "data": {
      "text/plain": [
       "1977    151\n",
       "2015    143\n",
       "2017    136\n",
       "2016    130\n",
       "2011    128\n",
       "       ... \n",
       "1723      1\n",
       "1733      1\n",
       "1738      1\n",
       "1742      1\n",
       "1801      1\n",
       "Name: year, Length: 245, dtype: int64"
      ]
     },
     "execution_count": 34,
     "metadata": {},
     "output_type": "execute_result"
    }
   ],
   "source": [
    "eliminar['year'].value_counts()"
   ]
  },
  {
   "cell_type": "markdown",
   "metadata": {},
   "source": [
    "GUARDAR EN CSV"
   ]
  },
  {
   "cell_type": "code",
   "execution_count": 35,
   "metadata": {},
   "outputs": [],
   "source": [
    "eliminar.to_csv('pairs_limpieza.csv')"
   ]
  }
 ],
 "metadata": {
  "interpreter": {
   "hash": "0620710c65b0f5ccc651a2aa8870ae0eb4c70492424a8d7866846658189426a3"
  },
  "kernelspec": {
   "display_name": "Python 3.9.7 ('base')",
   "language": "python",
   "name": "python3"
  },
  "language_info": {
   "codemirror_mode": {
    "name": "ipython",
    "version": 3
   },
   "file_extension": ".py",
   "mimetype": "text/x-python",
   "name": "python",
   "nbconvert_exporter": "python",
   "pygments_lexer": "ipython3",
   "version": "3.9.7"
  },
  "orig_nbformat": 4
 },
 "nbformat": 4,
 "nbformat_minor": 2
}
