{
 "cells": [
  {
   "cell_type": "code",
   "execution_count": 1,
   "metadata": {},
   "outputs": [],
   "source": [
    "import pandas as pd\n",
    "import numpy as np\n",
    "import matplotlib.pyplot as plt\n",
    "import seaborn as sns\n",
    "import warnings\n",
    "warnings.filterwarnings('ignore')\n",
    "from scipy import stats\n",
    "import math\n",
    "from sklearn.preprocessing import MinMaxScaler\n",
    "\n",
    "\n"
   ]
  },
  {
   "cell_type": "markdown",
   "metadata": {},
   "source": [
    "# Normalización"
   ]
  },
  {
   "cell_type": "markdown",
   "metadata": {},
   "source": [
    "- Pregunta teórica: Podríais explicar en pocas palabras ¿Qué es lo que hace exactamente el método boxcox de normalización de datos?"
   ]
  },
  {
   "cell_type": "markdown",
   "metadata": {},
   "source": [
    "Boxcox es una función de SciPy que normaliza nuestros datos con una transformación logarítmica. Lo que hace es acortar las diferencias de los valores más grandes y aumenta las diferencias entre los valores más pequeños para poder compararlos al conseguir estar en la misma escala. Estas transformaciones las hace a través de lambda: calcula el mejor lambda para que esta transformación ocurra. Su valor suele ser entre -5 y +5."
   ]
  },
  {
   "cell_type": "code",
   "execution_count": 2,
   "metadata": {},
   "outputs": [
    {
     "data": {
      "text/html": [
       "<div>\n",
       "<style scoped>\n",
       "    .dataframe tbody tr th:only-of-type {\n",
       "        vertical-align: middle;\n",
       "    }\n",
       "\n",
       "    .dataframe tbody tr th {\n",
       "        vertical-align: top;\n",
       "    }\n",
       "\n",
       "    .dataframe thead th {\n",
       "        text-align: right;\n",
       "    }\n",
       "</style>\n",
       "<table border=\"1\" class=\"dataframe\">\n",
       "  <thead>\n",
       "    <tr style=\"text-align: right;\">\n",
       "      <th></th>\n",
       "      <th>year</th>\n",
       "      <th>type</th>\n",
       "      <th>country</th>\n",
       "      <th>age</th>\n",
       "      <th>species_</th>\n",
       "      <th>fecha_limpia</th>\n",
       "      <th>fatal</th>\n",
       "      <th>sex</th>\n",
       "      <th>latitud</th>\n",
       "      <th>longitud</th>\n",
       "      <th>fatal_N</th>\n",
       "      <th>fatal_Unknown</th>\n",
       "      <th>fatal_Y</th>\n",
       "      <th>age_jovenes</th>\n",
       "      <th>age_adultos</th>\n",
       "      <th>age_ancianos</th>\n",
       "      <th>type.1</th>\n",
       "      <th>species_.1</th>\n",
       "      <th>fecha_limpia.1</th>\n",
       "    </tr>\n",
       "  </thead>\n",
       "  <tbody>\n",
       "    <tr>\n",
       "      <th>0</th>\n",
       "      <td>2018</td>\n",
       "      <td>Boating</td>\n",
       "      <td>usa</td>\n",
       "      <td>57.0</td>\n",
       "      <td>White shark</td>\n",
       "      <td>Jun</td>\n",
       "      <td>N</td>\n",
       "      <td>F</td>\n",
       "      <td>1</td>\n",
       "      <td>-100.445882</td>\n",
       "      <td>1</td>\n",
       "      <td>0</td>\n",
       "      <td>0</td>\n",
       "      <td>0</td>\n",
       "      <td>1</td>\n",
       "      <td>0</td>\n",
       "      <td>1</td>\n",
       "      <td>4</td>\n",
       "      <td>7</td>\n",
       "    </tr>\n",
       "    <tr>\n",
       "      <th>1</th>\n",
       "      <td>2018</td>\n",
       "      <td>Unprovoked</td>\n",
       "      <td>usa</td>\n",
       "      <td>11.0</td>\n",
       "      <td>Unespecific</td>\n",
       "      <td>Jun</td>\n",
       "      <td>N</td>\n",
       "      <td>F</td>\n",
       "      <td>1</td>\n",
       "      <td>-100.445882</td>\n",
       "      <td>1</td>\n",
       "      <td>0</td>\n",
       "      <td>0</td>\n",
       "      <td>1</td>\n",
       "      <td>0</td>\n",
       "      <td>0</td>\n",
       "      <td>7</td>\n",
       "      <td>3</td>\n",
       "      <td>7</td>\n",
       "    </tr>\n",
       "  </tbody>\n",
       "</table>\n",
       "</div>"
      ],
      "text/plain": [
       "   year        type country   age     species_ fecha_limpia fatal sex  \\\n",
       "0  2018     Boating     usa  57.0  White shark          Jun     N   F   \n",
       "1  2018  Unprovoked     usa  11.0  Unespecific          Jun     N   F   \n",
       "\n",
       "   latitud     longitud  fatal_N  fatal_Unknown  fatal_Y  age_jovenes  \\\n",
       "0        1  -100.445882        1              0        0            0   \n",
       "1        1  -100.445882        1              0        0            1   \n",
       "\n",
       "   age_adultos  age_ancianos  type.1  species_.1  fecha_limpia.1  \n",
       "0            1             0       1           4               7  \n",
       "1            0             0       7           3               7  "
      ]
     },
     "execution_count": 2,
     "metadata": {},
     "output_type": "execute_result"
    }
   ],
   "source": [
    "df = pd.read_csv(\"pairs_limpieza.csv\", index_col = 0)\n",
    "df.head(2)"
   ]
  },
  {
   "cell_type": "markdown",
   "metadata": {},
   "source": [
    "Cambiamos la columna age a int para poder realizar mejor las graficas"
   ]
  },
  {
   "cell_type": "code",
   "execution_count": 3,
   "metadata": {},
   "outputs": [],
   "source": [
    "df['age'] = df['age'].astype('int64', copy = True, errors = 'raise')"
   ]
  },
  {
   "cell_type": "code",
   "execution_count": 4,
   "metadata": {},
   "outputs": [
    {
     "data": {
      "text/plain": [
       "array([57, 11, 48, 27, 18, 52, 15, 12, 32, 10, 21, 34, 30, 60, 33, 29, 54,\n",
       "       41, 37, 56, 19, 25, 69, 38, 55, 35, 46, 45, 14, 40, 28, 20, 24, 26,\n",
       "       49, 22,  7, 31, 17, 13, 42,  3,  8, 50, 16, 82, 73, 68, 51, 39, 58,\n",
       "       47, 61, 65, 36, 66, 43,  9, 72, 59,  6, 64, 23, 71, 44, 62, 63, 70,\n",
       "       53, 77, 74,  5, 86, 84, 75, 87, 67,  1,  2, 81, 78])"
      ]
     },
     "execution_count": 4,
     "metadata": {},
     "output_type": "execute_result"
    }
   ],
   "source": [
    "df[\"age\"].unique()"
   ]
  },
  {
   "cell_type": "code",
   "execution_count": 5,
   "metadata": {},
   "outputs": [
    {
     "data": {
      "image/png": "[encoded data removed]",
      "text/plain": [
       "<Figure size 720x360 with 1 Axes>"
      ]
     },
     "metadata": {
      "needs_background": "light"
     },
     "output_type": "display_data"
    }
   ],
   "source": [
    "fig = plt.subplots(figsize = (10,5))\n",
    "sns.distplot(df['age']);"
   ]
  },
  {
   "cell_type": "markdown",
   "metadata": {},
   "source": [
    "Vemos en la gráfica que nuestros datos **columna age** no tienen una distribución normal por lo que vamos a a proceder a normalización, en vez de estandarización. Así, transformaremos nuestros datos a una escala común para poder compararlos."
   ]
  },
  {
   "cell_type": "code",
   "execution_count": 6,
   "metadata": {},
   "outputs": [
    {
     "data": {
      "text/plain": [
       "year               int64\n",
       "type              object\n",
       "country           object\n",
       "age                int64\n",
       "species_          object\n",
       "fecha_limpia      object\n",
       "fatal             object\n",
       "sex               object\n",
       "latitud            int64\n",
       "longitud          object\n",
       "fatal_N            int64\n",
       "fatal_Unknown      int64\n",
       "fatal_Y            int64\n",
       "age_jovenes        int64\n",
       "age_adultos        int64\n",
       "age_ancianos       int64\n",
       "type.1             int64\n",
       "species_.1         int64\n",
       "fecha_limpia.1     int64\n",
       "dtype: object"
      ]
     },
     "execution_count": 6,
     "metadata": {},
     "output_type": "execute_result"
    }
   ],
   "source": [
    "df.dtypes"
   ]
  },
  {
   "cell_type": "markdown",
   "metadata": {},
   "source": [
    "Las únicas columnas numéricas son *year* y *age*, por lo tanto son las únicas candidatas a ser normalizadas. Vamos a normalizar la columna *age* que es la única que tiene sentido hacerlo."
   ]
  },
  {
   "cell_type": "markdown",
   "metadata": {},
   "source": [
    "- Vamos a comenzar con la normalización **MANUAL**"
   ]
  },
  {
   "cell_type": "code",
   "execution_count": 7,
   "metadata": {},
   "outputs": [],
   "source": [
    "min = df[\"age\"].min()\n",
    "max =df[\"age\"].max()\n",
    "media = df[\"age\"].mean()"
   ]
  },
  {
   "cell_type": "code",
   "execution_count": 8,
   "metadata": {},
   "outputs": [],
   "source": [
    "df[\"age_n_manual\"] = (df[\"age\"] - media) / (max - min)"
   ]
  },
  {
   "cell_type": "code",
   "execution_count": 9,
   "metadata": {},
   "outputs": [
    {
     "data": {
      "image/png": "[encoded data removed]",
      "text/plain": [
       "<Figure size 1080x360 with 2 Axes>"
      ]
     },
     "metadata": {
      "needs_background": "light"
     },
     "output_type": "display_data"
    }
   ],
   "source": [
    "fig, axes = plt.subplots(1, 2, figsize = (15,5))\n",
    "\n",
    "axes[0].set_title('Age')\n",
    "axes[1].set_title('Age normalizado manual')\n",
    "sns.distplot(df['age'] ,ax = axes[0])\n",
    "sns.distplot(df['age_n_manual'], ax = axes[1]);"
   ]
  },
  {
   "cell_type": "markdown",
   "metadata": {},
   "source": [
    "Observamos como ya la nueva columna age tiene sus valores en una escala entre 0-1, más común para poder compararla más facilmente."
   ]
  },
  {
   "cell_type": "markdown",
   "metadata": {},
   "source": [
    "- Normalización **LOGARÍTMICA**"
   ]
  },
  {
   "cell_type": "code",
   "execution_count": 10,
   "metadata": {},
   "outputs": [],
   "source": [
    "df[\"age_n_log\"] = df[\"age\"].apply(lambda x: np.log(x) if x != 0 else 0)"
   ]
  },
  {
   "cell_type": "code",
   "execution_count": 11,
   "metadata": {},
   "outputs": [
    {
     "data": {
      "text/plain": [
       "0       4.043051\n",
       "1       2.397895\n",
       "2       3.871201\n",
       "3       3.295837\n",
       "4       3.295837\n",
       "          ...   \n",
       "6213    3.295837\n",
       "6214    3.295837\n",
       "6215    3.295837\n",
       "6216    3.295837\n",
       "6217    2.708050\n",
       "Name: age_n_log, Length: 6218, dtype: float64"
      ]
     },
     "execution_count": 11,
     "metadata": {},
     "output_type": "execute_result"
    }
   ],
   "source": [
    "df[\"age_n_log\"]"
   ]
  },
  {
   "cell_type": "code",
   "execution_count": 12,
   "metadata": {},
   "outputs": [
    {
     "data": {
      "image/png": "[encoded data removed]",
      "text/plain": [
       "<Figure size 1080x360 with 2 Axes>"
      ]
     },
     "metadata": {
      "needs_background": "light"
     },
     "output_type": "display_data"
    }
   ],
   "source": [
    "fig, axes = plt.subplots(1, 2, figsize = (15,5))\n",
    "\n",
    "axes[0].set_title('Age')\n",
    "axes[1].set_title('Age normalizado logaritmico')\n",
    "sns.distplot(df['age'] ,ax = axes[0])\n",
    "sns.distplot(df['age_n_log'], ax = axes[1]);"
   ]
  },
  {
   "cell_type": "markdown",
   "metadata": {},
   "source": [
    "Normalización **RAÍZ CUADRADA**"
   ]
  },
  {
   "cell_type": "code",
   "execution_count": 13,
   "metadata": {},
   "outputs": [],
   "source": [
    "df[\"age_n_raiz\"] = df[\"age\"].apply(lambda x: math.sqrt(x))"
   ]
  },
  {
   "cell_type": "code",
   "execution_count": 14,
   "metadata": {},
   "outputs": [
    {
     "data": {
      "text/plain": [
       "0       7.549834\n",
       "1       3.316625\n",
       "2       6.928203\n",
       "3       5.196152\n",
       "4       5.196152\n",
       "          ...   \n",
       "6213    5.196152\n",
       "6214    5.196152\n",
       "6215    5.196152\n",
       "6216    5.196152\n",
       "6217    3.872983\n",
       "Name: age_n_raiz, Length: 6218, dtype: float64"
      ]
     },
     "execution_count": 14,
     "metadata": {},
     "output_type": "execute_result"
    }
   ],
   "source": [
    "df[\"age_n_raiz\"]"
   ]
  },
  {
   "cell_type": "code",
   "execution_count": 15,
   "metadata": {},
   "outputs": [
    {
     "data": {
      "image/png": "[encoded data removed]",
      "text/plain": [
       "<Figure size 1080x360 with 2 Axes>"
      ]
     },
     "metadata": {
      "needs_background": "light"
     },
     "output_type": "display_data"
    }
   ],
   "source": [
    "fig, axes = plt.subplots(1, 2, figsize = (15,5))\n",
    "\n",
    "axes[0].set_title('Age')\n",
    "axes[1].set_title('Age normalizado raíz cuadrada')\n",
    "sns.distplot(df['age'] ,ax = axes[0])\n",
    "sns.distplot(df['age_n_raiz'], ax = axes[1]);"
   ]
  },
  {
   "cell_type": "markdown",
   "metadata": {},
   "source": [
    "Normalización **BOXCOX**"
   ]
  },
  {
   "cell_type": "code",
   "execution_count": 16,
   "metadata": {},
   "outputs": [],
   "source": [
    "df[\"age_n_box\"], lambda_ajustada = stats.boxcox(df[\"age\"])"
   ]
  },
  {
   "cell_type": "code",
   "execution_count": 17,
   "metadata": {},
   "outputs": [
    {
     "data": {
      "text/plain": [
       "0.35942131224514967"
      ]
     },
     "execution_count": 17,
     "metadata": {},
     "output_type": "execute_result"
    }
   ],
   "source": [
    "lambda_ajustada"
   ]
  },
  {
   "cell_type": "markdown",
   "metadata": {},
   "source": [
    "Podemos observar que el valor de la lamba está entre -5 y 5."
   ]
  },
  {
   "cell_type": "code",
   "execution_count": 18,
   "metadata": {},
   "outputs": [
    {
     "data": {
      "text/plain": [
       "0       9.116327\n",
       "1       3.804860\n",
       "2       8.403629\n",
       "3       6.313925\n",
       "4       6.313925\n",
       "          ...   \n",
       "6213    6.313925\n",
       "6214    6.313925\n",
       "6215    6.313925\n",
       "6216    6.313925\n",
       "6217    4.581659\n",
       "Name: age_n_box, Length: 6218, dtype: float64"
      ]
     },
     "execution_count": 18,
     "metadata": {},
     "output_type": "execute_result"
    }
   ],
   "source": [
    "df[\"age_n_box\"]"
   ]
  },
  {
   "cell_type": "code",
   "execution_count": 19,
   "metadata": {},
   "outputs": [
    {
     "data": {
      "image/png": "[encoded data removed]",
      "text/plain": [
       "<Figure size 1080x360 with 2 Axes>"
      ]
     },
     "metadata": {
      "needs_background": "light"
     },
     "output_type": "display_data"
    }
   ],
   "source": [
    "fig, axes = plt.subplots(1, 2, figsize = (15,5))\n",
    "\n",
    "axes[0].set_title('Age')\n",
    "axes[1].set_title('Age normalizado boxcox')\n",
    "sns.distplot(df['age'] ,ax = axes[0])\n",
    "sns.distplot(df['age_n_box'], ax = axes[1]);"
   ]
  },
  {
   "cell_type": "markdown",
   "metadata": {},
   "source": [
    "Normalización **MINMAXSCALLER**"
   ]
  },
  {
   "cell_type": "markdown",
   "metadata": {},
   "source": [
    "Como el método MinMax no admite 1D, convertimos los valores de nuestra columna a 2D con el método reshape estudiado anteriormente."
   ]
  },
  {
   "cell_type": "code",
   "execution_count": 20,
   "metadata": {},
   "outputs": [
    {
     "data": {
      "text/plain": [
       "array([[57],\n",
       "       [11],\n",
       "       [48],\n",
       "       ...,\n",
       "       [27],\n",
       "       [27],\n",
       "       [15]])"
      ]
     },
     "execution_count": 20,
     "metadata": {},
     "output_type": "execute_result"
    }
   ],
   "source": [
    "age_n = df['age'].values.reshape(-1, 1)\n",
    "age_n"
   ]
  },
  {
   "cell_type": "code",
   "execution_count": 21,
   "metadata": {},
   "outputs": [],
   "source": [
    "minmaxscaler = MinMaxScaler(feature_range=(0,1))"
   ]
  },
  {
   "cell_type": "code",
   "execution_count": 22,
   "metadata": {},
   "outputs": [
    {
     "data": {
      "text/plain": [
       "MinMaxScaler()"
      ]
     },
     "execution_count": 22,
     "metadata": {},
     "output_type": "execute_result"
    }
   ],
   "source": [
    "minmaxscaler.fit(age_n)"
   ]
  },
  {
   "cell_type": "code",
   "execution_count": 23,
   "metadata": {},
   "outputs": [],
   "source": [
    "X_normalizadas = minmaxscaler.transform(age_n)"
   ]
  },
  {
   "cell_type": "code",
   "execution_count": 24,
   "metadata": {},
   "outputs": [],
   "source": [
    "df['age_minmax'] = pd.DataFrame(X_normalizadas)"
   ]
  },
  {
   "cell_type": "code",
   "execution_count": 25,
   "metadata": {},
   "outputs": [
    {
     "data": {
      "image/png": "[encoded data removed]",
      "text/plain": [
       "<Figure size 1080x360 with 2 Axes>"
      ]
     },
     "metadata": {
      "needs_background": "light"
     },
     "output_type": "display_data"
    }
   ],
   "source": [
    "fig, axes = plt.subplots(1, 2, figsize = (15,5))\n",
    "\n",
    "axes[0].set_title('Age')\n",
    "axes[1].set_title('Age normalizado MinMaxScaler')\n",
    "sns.distplot(df['age'] ,ax = axes[0])\n",
    "sns.distplot(df['age_minmax'], ax = axes[1]);"
   ]
  },
  {
   "cell_type": "markdown",
   "metadata": {},
   "source": [
    "Comprobamos que se han guardado las columnas en el DF."
   ]
  },
  {
   "cell_type": "code",
   "execution_count": 26,
   "metadata": {},
   "outputs": [
    {
     "data": {
      "text/html": [
       "<div>\n",
       "<style scoped>\n",
       "    .dataframe tbody tr th:only-of-type {\n",
       "        vertical-align: middle;\n",
       "    }\n",
       "\n",
       "    .dataframe tbody tr th {\n",
       "        vertical-align: top;\n",
       "    }\n",
       "\n",
       "    .dataframe thead th {\n",
       "        text-align: right;\n",
       "    }\n",
       "</style>\n",
       "<table border=\"1\" class=\"dataframe\">\n",
       "  <thead>\n",
       "    <tr style=\"text-align: right;\">\n",
       "      <th></th>\n",
       "      <th>year</th>\n",
       "      <th>type</th>\n",
       "      <th>country</th>\n",
       "      <th>age</th>\n",
       "      <th>species_</th>\n",
       "      <th>fecha_limpia</th>\n",
       "      <th>fatal</th>\n",
       "      <th>sex</th>\n",
       "      <th>latitud</th>\n",
       "      <th>longitud</th>\n",
       "      <th>...</th>\n",
       "      <th>age_adultos</th>\n",
       "      <th>age_ancianos</th>\n",
       "      <th>type.1</th>\n",
       "      <th>species_.1</th>\n",
       "      <th>fecha_limpia.1</th>\n",
       "      <th>age_n_manual</th>\n",
       "      <th>age_n_log</th>\n",
       "      <th>age_n_raiz</th>\n",
       "      <th>age_n_box</th>\n",
       "      <th>age_minmax</th>\n",
       "    </tr>\n",
       "  </thead>\n",
       "  <tbody>\n",
       "    <tr>\n",
       "      <th>0</th>\n",
       "      <td>2018</td>\n",
       "      <td>Boating</td>\n",
       "      <td>usa</td>\n",
       "      <td>57</td>\n",
       "      <td>White shark</td>\n",
       "      <td>Jun</td>\n",
       "      <td>N</td>\n",
       "      <td>F</td>\n",
       "      <td>1</td>\n",
       "      <td>-100.445882</td>\n",
       "      <td>...</td>\n",
       "      <td>1</td>\n",
       "      <td>0</td>\n",
       "      <td>1</td>\n",
       "      <td>4</td>\n",
       "      <td>7</td>\n",
       "      <td>0.346937</td>\n",
       "      <td>4.043051</td>\n",
       "      <td>7.549834</td>\n",
       "      <td>9.116327</td>\n",
       "      <td>0.651163</td>\n",
       "    </tr>\n",
       "    <tr>\n",
       "      <th>1</th>\n",
       "      <td>2018</td>\n",
       "      <td>Unprovoked</td>\n",
       "      <td>usa</td>\n",
       "      <td>11</td>\n",
       "      <td>Unespecific</td>\n",
       "      <td>Jun</td>\n",
       "      <td>N</td>\n",
       "      <td>F</td>\n",
       "      <td>1</td>\n",
       "      <td>-100.445882</td>\n",
       "      <td>...</td>\n",
       "      <td>0</td>\n",
       "      <td>0</td>\n",
       "      <td>7</td>\n",
       "      <td>3</td>\n",
       "      <td>7</td>\n",
       "      <td>-0.187946</td>\n",
       "      <td>2.397895</td>\n",
       "      <td>3.316625</td>\n",
       "      <td>3.804860</td>\n",
       "      <td>0.116279</td>\n",
       "    </tr>\n",
       "    <tr>\n",
       "      <th>2</th>\n",
       "      <td>2018</td>\n",
       "      <td>Invalid</td>\n",
       "      <td>usa</td>\n",
       "      <td>48</td>\n",
       "      <td>Unespecific</td>\n",
       "      <td>Jun</td>\n",
       "      <td>N</td>\n",
       "      <td>M</td>\n",
       "      <td>1</td>\n",
       "      <td>-100.445882</td>\n",
       "      <td>...</td>\n",
       "      <td>1</td>\n",
       "      <td>0</td>\n",
       "      <td>3</td>\n",
       "      <td>3</td>\n",
       "      <td>7</td>\n",
       "      <td>0.242286</td>\n",
       "      <td>3.871201</td>\n",
       "      <td>6.928203</td>\n",
       "      <td>8.403629</td>\n",
       "      <td>0.546512</td>\n",
       "    </tr>\n",
       "    <tr>\n",
       "      <th>3</th>\n",
       "      <td>2018</td>\n",
       "      <td>Unprovoked</td>\n",
       "      <td>australia</td>\n",
       "      <td>27</td>\n",
       "      <td>Unespecific</td>\n",
       "      <td>Jun</td>\n",
       "      <td>N</td>\n",
       "      <td>M</td>\n",
       "      <td>0</td>\n",
       "      <td>134.755</td>\n",
       "      <td>...</td>\n",
       "      <td>0</td>\n",
       "      <td>0</td>\n",
       "      <td>7</td>\n",
       "      <td>3</td>\n",
       "      <td>7</td>\n",
       "      <td>-0.001900</td>\n",
       "      <td>3.295837</td>\n",
       "      <td>5.196152</td>\n",
       "      <td>6.313925</td>\n",
       "      <td>0.302326</td>\n",
       "    </tr>\n",
       "    <tr>\n",
       "      <th>4</th>\n",
       "      <td>2018</td>\n",
       "      <td>Provoked</td>\n",
       "      <td>mexico</td>\n",
       "      <td>27</td>\n",
       "      <td>Tiger shark</td>\n",
       "      <td>Jun</td>\n",
       "      <td>N</td>\n",
       "      <td>M</td>\n",
       "      <td>1</td>\n",
       "      <td>-102.0077097</td>\n",
       "      <td>...</td>\n",
       "      <td>0</td>\n",
       "      <td>0</td>\n",
       "      <td>4</td>\n",
       "      <td>2</td>\n",
       "      <td>7</td>\n",
       "      <td>-0.001900</td>\n",
       "      <td>3.295837</td>\n",
       "      <td>5.196152</td>\n",
       "      <td>6.313925</td>\n",
       "      <td>0.302326</td>\n",
       "    </tr>\n",
       "  </tbody>\n",
       "</table>\n",
       "<p>5 rows × 24 columns</p>\n",
       "</div>"
      ],
      "text/plain": [
       "   year        type    country  age     species_ fecha_limpia fatal sex  \\\n",
       "0  2018     Boating        usa   57  White shark          Jun     N   F   \n",
       "1  2018  Unprovoked        usa   11  Unespecific          Jun     N   F   \n",
       "2  2018     Invalid        usa   48  Unespecific          Jun     N   M   \n",
       "3  2018  Unprovoked  australia   27  Unespecific          Jun     N   M   \n",
       "4  2018    Provoked     mexico   27  Tiger shark          Jun     N   M   \n",
       "\n",
       "   latitud      longitud  ...  age_adultos  age_ancianos  type.1  species_.1  \\\n",
       "0        1   -100.445882  ...            1             0       1           4   \n",
       "1        1   -100.445882  ...            0             0       7           3   \n",
       "2        1   -100.445882  ...            1             0       3           3   \n",
       "3        0       134.755  ...            0             0       7           3   \n",
       "4        1  -102.0077097  ...            0             0       4           2   \n",
       "\n",
       "   fecha_limpia.1  age_n_manual  age_n_log  age_n_raiz  age_n_box  age_minmax  \n",
       "0               7      0.346937   4.043051    7.549834   9.116327    0.651163  \n",
       "1               7     -0.187946   2.397895    3.316625   3.804860    0.116279  \n",
       "2               7      0.242286   3.871201    6.928203   8.403629    0.546512  \n",
       "3               7     -0.001900   3.295837    5.196152   6.313925    0.302326  \n",
       "4               7     -0.001900   3.295837    5.196152   6.313925    0.302326  \n",
       "\n",
       "[5 rows x 24 columns]"
      ]
     },
     "execution_count": 26,
     "metadata": {},
     "output_type": "execute_result"
    }
   ],
   "source": [
    "df.head()"
   ]
  },
  {
   "cell_type": "markdown",
   "metadata": {},
   "source": [
    "Guardad el csv con los cambios"
   ]
  },
  {
   "cell_type": "code",
   "execution_count": 27,
   "metadata": {},
   "outputs": [],
   "source": [
    "df.to_csv(\"pairs_limpieza.csv\")"
   ]
  }
 ],
 "metadata": {
  "interpreter": {
   "hash": "0620710c65b0f5ccc651a2aa8870ae0eb4c70492424a8d7866846658189426a3"
  },
  "kernelspec": {
   "display_name": "Python 3.9.7 ('base')",
   "language": "python",
   "name": "python3"
  },
  "language_info": {
   "codemirror_mode": {
    "name": "ipython",
    "version": 3
   },
   "file_extension": ".py",
   "mimetype": "text/x-python",
   "name": "python",
   "nbconvert_exporter": "python",
   "pygments_lexer": "ipython3",
   "version": "3.9.7"
  },
  "orig_nbformat": 4
 },
 "nbformat": 4,
 "nbformat_minor": 2
}
