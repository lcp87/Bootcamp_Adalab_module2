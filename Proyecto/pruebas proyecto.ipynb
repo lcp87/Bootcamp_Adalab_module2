{
 "cells": [
  {
   "cell_type": "code",
   "execution_count": 2,
   "metadata": {},
   "outputs": [],
   "source": [
    "import pandas as pd\n",
    "import xml.etree.ElementTree as ET\n",
    "import numpy as np\n",
    "import matplotlib.pyplot as plt\n",
    "import seaborn as sns\n"
   ]
  },
  {
   "cell_type": "code",
   "execution_count": 3,
   "metadata": {},
   "outputs": [],
   "source": [
    "df=pd.read_csv(\"./Prueba new csv.csv\",index_col=0)"
   ]
  },
  {
   "cell_type": "markdown",
   "metadata": {},
   "source": [
    "---"
   ]
  },
  {
   "cell_type": "code",
   "execution_count": 4,
   "metadata": {},
   "outputs": [],
   "source": [
    "df= df[(df[\"pais\"].isin([\"United States of America\",\"Spain\"])) &\n",
    "                 (df[\"experiencia_programando\"].isin([\"10-20 years\"]))& \n",
    "                (df[\"perfil_profesional\"].isin([\"Data Scientist\"]))]"
   ]
  },
  {
   "cell_type": "code",
   "execution_count": 5,
   "metadata": {},
   "outputs": [
    {
     "data": {
      "text/html": [
       "<div>\n",
       "<style scoped>\n",
       "    .dataframe tbody tr th:only-of-type {\n",
       "        vertical-align: middle;\n",
       "    }\n",
       "\n",
       "    .dataframe tbody tr th {\n",
       "        vertical-align: top;\n",
       "    }\n",
       "\n",
       "    .dataframe thead th {\n",
       "        text-align: right;\n",
       "    }\n",
       "</style>\n",
       "<table border=\"1\" class=\"dataframe\">\n",
       "  <thead>\n",
       "    <tr style=\"text-align: right;\">\n",
       "      <th></th>\n",
       "      <th>Kaggle</th>\n",
       "      <th>Github</th>\n",
       "    </tr>\n",
       "  </thead>\n",
       "  <tbody>\n",
       "    <tr>\n",
       "      <th>0</th>\n",
       "      <td>3065</td>\n",
       "      <td>4586</td>\n",
       "    </tr>\n",
       "  </tbody>\n",
       "</table>\n",
       "</div>"
      ],
      "text/plain": [
       "   Kaggle  Github\n",
       "0    3065    4586"
      ]
     },
     "execution_count": 5,
     "metadata": {},
     "output_type": "execute_result"
    }
   ],
   "source": [
    "df_publicaciones= pd.DataFrame([{'Kaggle': 3065,\n",
    "     'Github': 4586}])\n",
    "df_publicaciones"
   ]
  },
  {
   "cell_type": "code",
   "execution_count": 6,
   "metadata": {},
   "outputs": [
    {
     "data": {
      "text/plain": [
       "<AxesSubplot:>"
      ]
     },
     "execution_count": 6,
     "metadata": {},
     "output_type": "execute_result"
    },
    {
     "data": {
      "image/png": "[encoded data removed]",
      "text/plain": [
       "<Figure size 432x288 with 1 Axes>"
      ]
     },
     "metadata": {
      "needs_background": "light"
     },
     "output_type": "display_data"
    }
   ],
   "source": [
    "#Cual usan mas\n",
    "df_publicaciones.plot.bar()"
   ]
  },
  {
   "cell_type": "code",
   "execution_count": 7,
   "metadata": {},
   "outputs": [
    {
     "data": {
      "text/plain": [
       "<Figure size 432x288 with 0 Axes>"
      ]
     },
     "metadata": {},
     "output_type": "display_data"
    },
    {
     "data": {
      "image/png": "[encoded data removed]",
      "text/plain": [
       "<Figure size 432x288 with 1 Axes>"
      ]
     },
     "metadata": {
      "needs_background": "light"
     },
     "output_type": "display_data"
    }
   ],
   "source": [
    "plt.figure()\n",
    "df_publicaciones.plot.bar(color=('turquoise', 'teal'), edgecolor='black')\n",
    "plt.xlabel('Kaggle              Github')\n",
    "plt.title('Plataforma de publicaciones más utilizada');"
   ]
  },
  {
   "cell_type": "markdown",
   "metadata": {},
   "source": [
    "-----"
   ]
  },
  {
   "cell_type": "code",
   "execution_count": 8,
   "metadata": {},
   "outputs": [
    {
     "data": {
      "text/plain": [
       "Index(['edad', 'genero', 'pais', 'educacion', 'perfil_profesional',\n",
       "       'experiencia_programando', 'herramientas_trabajo',\n",
       "       'año_uso_machine_learning', 'industria_actual', 'tamaño_compañía',\n",
       "       'trabajadores_datascience', 'salario', 'herramienta_analisis_datos',\n",
       "       'lenguajes_habituales', 'entorno_desarrollo',\n",
       "       'bibliotecas_visualización', 'herramientas_machine_learning',\n",
       "       'programas_big_data', 'herramientas_bi', 'notebooks_kaggle',\n",
       "       'notebooks_colab', 'publicaciones_github', 'publicaciones_kaggle',\n",
       "       'plat_coursera', 'plat_edx', 'plat_kaggle', 'plat_datacamp',\n",
       "       'plat_fast.ai', 'plat_udacity', 'plat_udemy', 'plat_linkedinlearning',\n",
       "       'plat_cloudcertification', 'plat_universitycourses', 'plat_ninguno',\n",
       "       'plat_otros', 'rrss_twitter', 'rrss_email/newsletters', 'rrss_reddit',\n",
       "       'rrss_kaggle', 'rrss_forums', 'rrss_yotube', 'rrss_podcast',\n",
       "       'rrss_blogs', 'rrss_journal', 'rrss_slackcommunity', 'rrss_none',\n",
       "       'rrss_others'],\n",
       "      dtype='object')"
      ]
     },
     "execution_count": 8,
     "metadata": {},
     "output_type": "execute_result"
    }
   ],
   "source": [
    "df.columns"
   ]
  },
  {
   "cell_type": "code",
   "execution_count": 9,
   "metadata": {},
   "outputs": [],
   "source": [
    "diccionario={'plat_edx': [], 'plat_kaggle':[],'plat_coursera': [], 'plat_datacamp': [],  'plat_udacity': [], 'plat_linkedinlearning': [], 'plat_udemy':[],'plat_cloudcertification':[],'plat_otros':[]}"
   ]
  },
  {
   "cell_type": "code",
   "execution_count": 10,
   "metadata": {},
   "outputs": [],
   "source": [
    "# for key in diccionario.keys():\n",
    "#     print(key)\n",
    "#     diccionario[key].append(diccionario[key].value_counts()[0])\n"
   ]
  },
  {
   "cell_type": "code",
   "execution_count": 11,
   "metadata": {},
   "outputs": [],
   "source": [
    "diccionario[\"plat_edx\"].append(df[\"plat_edx\"].value_counts()[0])\n",
    "diccionario[\"plat_kaggle\"].append(df[\"plat_kaggle\"].value_counts()[0])\n",
    "diccionario[\"plat_coursera\"].append(df[\"plat_coursera\"].value_counts()[0])\n",
    "diccionario[\"plat_datacamp\"].append(df[\"plat_datacamp\"].value_counts()[0])\n",
    "diccionario[\"plat_udacity\"].append(df[\"plat_udacity\"].value_counts()[0])\n",
    "diccionario[\"plat_linkedinlearning\"].append(df[\"plat_linkedinlearning\"].value_counts()[0])\n",
    "diccionario[\"plat_udemy\"].append(df[\"plat_udemy\"].value_counts()[0])\n",
    "diccionario[\"plat_cloudcertification\"].append(df[\"plat_cloudcertification\"].value_counts()[0])\n",
    "diccionario[\"plat_otros\"].append(df[\"plat_otros\"].value_counts()[0])"
   ]
  },
  {
   "cell_type": "code",
   "execution_count": 12,
   "metadata": {},
   "outputs": [
    {
     "data": {
      "text/html": [
       "<div>\n",
       "<style scoped>\n",
       "    .dataframe tbody tr th:only-of-type {\n",
       "        vertical-align: middle;\n",
       "    }\n",
       "\n",
       "    .dataframe tbody tr th {\n",
       "        vertical-align: top;\n",
       "    }\n",
       "\n",
       "    .dataframe thead th {\n",
       "        text-align: right;\n",
       "    }\n",
       "</style>\n",
       "<table border=\"1\" class=\"dataframe\">\n",
       "  <thead>\n",
       "    <tr style=\"text-align: right;\">\n",
       "      <th></th>\n",
       "      <th>plat_edx</th>\n",
       "      <th>plat_kaggle</th>\n",
       "      <th>plat_coursera</th>\n",
       "      <th>plat_datacamp</th>\n",
       "      <th>plat_udacity</th>\n",
       "      <th>plat_linkedinlearning</th>\n",
       "      <th>plat_udemy</th>\n",
       "      <th>plat_cloudcertification</th>\n",
       "      <th>plat_otros</th>\n",
       "    </tr>\n",
       "  </thead>\n",
       "  <tbody>\n",
       "    <tr>\n",
       "      <th>0</th>\n",
       "      <td>24</td>\n",
       "      <td>37</td>\n",
       "      <td>81</td>\n",
       "      <td>28</td>\n",
       "      <td>27</td>\n",
       "      <td>15</td>\n",
       "      <td>30</td>\n",
       "      <td>16</td>\n",
       "      <td>2</td>\n",
       "    </tr>\n",
       "  </tbody>\n",
       "</table>\n",
       "</div>"
      ],
      "text/plain": [
       "   plat_edx  plat_kaggle  plat_coursera  plat_datacamp  plat_udacity  \\\n",
       "0        24           37             81             28            27   \n",
       "\n",
       "   plat_linkedinlearning  plat_udemy  plat_cloudcertification  plat_otros  \n",
       "0                     15          30                       16           2  "
      ]
     },
     "execution_count": 12,
     "metadata": {},
     "output_type": "execute_result"
    }
   ],
   "source": [
    "df_plataformas= pd.DataFrame(diccionario)\n",
    "df_plataformas"
   ]
  },
  {
   "cell_type": "code",
   "execution_count": 13,
   "metadata": {},
   "outputs": [
    {
     "data": {
      "text/plain": [
       "<AxesSubplot:>"
      ]
     },
     "execution_count": 13,
     "metadata": {},
     "output_type": "execute_result"
    },
    {
     "data": {
      "image/png": "[encoded data removed]",
      "text/plain": [
       "<Figure size 432x288 with 1 Axes>"
      ]
     },
     "metadata": {
      "needs_background": "light"
     },
     "output_type": "display_data"
    }
   ],
   "source": [
    "#Plataforma cursos\n",
    "df_plataformas.plot.bar()"
   ]
  },
  {
   "cell_type": "code",
   "execution_count": 29,
   "metadata": {},
   "outputs": [
    {
     "data": {
      "text/plain": [
       "<Figure size 842.4x595.44 with 0 Axes>"
      ]
     },
     "metadata": {},
     "output_type": "display_data"
    },
    {
     "data": {
      "image/png": "[encoded data removed]",
      "text/plain": [
       "<Figure size 842.4x595.44 with 1 Axes>"
      ]
     },
     "metadata": {},
     "output_type": "display_data"
    }
   ],
   "source": [
    "plt.figure()\n",
    "df_plataformas.plot.bar(color=('magenta', 'pink', 'orchid', 'hotpink', 'darkmagenta', 'palevioletred', \n",
    "                                'plum', 'mediumorchid', 'lightpink'), edgecolor='black')\n",
    "plt.title('Plataforma de cursos más utilizada');"
   ]
  },
  {
   "cell_type": "code",
   "execution_count": 14,
   "metadata": {},
   "outputs": [],
   "source": [
    "dicc={'rrss_twitter': [], 'rrss_email/newsletters':[],'rrss_reddit': [], 'rrss_kaggle': [],  'rrss_forums': [], 'rrss_yotube': [], 'rrss_podcast':[],'rrss_blogs':[],'rrss_journal':[],'rrss_slackcommunity':[],'rrss_none':[],'rrss_others':[] }"
   ]
  },
  {
   "cell_type": "code",
   "execution_count": 15,
   "metadata": {},
   "outputs": [],
   "source": [
    "\n",
    "dicc['rrss_twitter'].append(df['rrss_twitter'].value_counts()[0])\n",
    "dicc['rrss_email/newsletters'].append(df['rrss_email/newsletters'].value_counts()[0])\n",
    "dicc['rrss_reddit'].append(df['rrss_reddit'].value_counts()[0])\n",
    "dicc['rrss_kaggle'].append(df['rrss_kaggle'].value_counts()[0])\n",
    "dicc['rrss_forums'].append(df['rrss_forums'].value_counts()[0])\n",
    "dicc['rrss_yotube'].append(df['rrss_yotube'].value_counts()[0])\n",
    "dicc['rrss_podcast'].append(df['rrss_podcast'].value_counts()[0])\n",
    "dicc['rrss_blogs'].append(df['rrss_blogs'].value_counts()[0])\n",
    "dicc['rrss_journal'].append(df['rrss_journal'].value_counts()[0])\n",
    "dicc['rrss_slackcommunity'].append(df['rrss_slackcommunity'].value_counts()[0])\n",
    "dicc['rrss_none'].append(df['rrss_none'].value_counts()[0])\n",
    "dicc['rrss_others'].append(df['rrss_others'].value_counts()[0])"
   ]
  },
  {
   "cell_type": "code",
   "execution_count": 16,
   "metadata": {},
   "outputs": [
    {
     "data": {
      "text/html": [
       "<div>\n",
       "<style scoped>\n",
       "    .dataframe tbody tr th:only-of-type {\n",
       "        vertical-align: middle;\n",
       "    }\n",
       "\n",
       "    .dataframe tbody tr th {\n",
       "        vertical-align: top;\n",
       "    }\n",
       "\n",
       "    .dataframe thead th {\n",
       "        text-align: right;\n",
       "    }\n",
       "</style>\n",
       "<table border=\"1\" class=\"dataframe\">\n",
       "  <thead>\n",
       "    <tr style=\"text-align: right;\">\n",
       "      <th></th>\n",
       "      <th>rrss_twitter</th>\n",
       "      <th>rrss_email/newsletters</th>\n",
       "      <th>rrss_reddit</th>\n",
       "      <th>rrss_kaggle</th>\n",
       "      <th>rrss_forums</th>\n",
       "      <th>rrss_yotube</th>\n",
       "      <th>rrss_podcast</th>\n",
       "      <th>rrss_blogs</th>\n",
       "      <th>rrss_journal</th>\n",
       "      <th>rrss_slackcommunity</th>\n",
       "      <th>rrss_none</th>\n",
       "      <th>rrss_others</th>\n",
       "    </tr>\n",
       "  </thead>\n",
       "  <tbody>\n",
       "    <tr>\n",
       "      <th>0</th>\n",
       "      <td>37</td>\n",
       "      <td>34</td>\n",
       "      <td>18</td>\n",
       "      <td>56</td>\n",
       "      <td>13</td>\n",
       "      <td>32</td>\n",
       "      <td>16</td>\n",
       "      <td>76</td>\n",
       "      <td>40</td>\n",
       "      <td>14</td>\n",
       "      <td>7</td>\n",
       "      <td>8</td>\n",
       "    </tr>\n",
       "  </tbody>\n",
       "</table>\n",
       "</div>"
      ],
      "text/plain": [
       "   rrss_twitter  rrss_email/newsletters  rrss_reddit  rrss_kaggle  \\\n",
       "0            37                      34           18           56   \n",
       "\n",
       "   rrss_forums  rrss_yotube  rrss_podcast  rrss_blogs  rrss_journal  \\\n",
       "0           13           32            16          76            40   \n",
       "\n",
       "   rrss_slackcommunity  rrss_none  rrss_others  \n",
       "0                   14          7            8  "
      ]
     },
     "execution_count": 16,
     "metadata": {},
     "output_type": "execute_result"
    }
   ],
   "source": [
    "df_rrss= pd.DataFrame(dicc)\n",
    "df_rrss"
   ]
  },
  {
   "cell_type": "code",
   "execution_count": 17,
   "metadata": {},
   "outputs": [
    {
     "data": {
      "text/plain": [
       "<AxesSubplot:>"
      ]
     },
     "execution_count": 17,
     "metadata": {},
     "output_type": "execute_result"
    },
    {
     "data": {
      "image/png": "[encoded data removed]",
      "text/plain": [
       "<Figure size 432x288 with 1 Axes>"
      ]
     },
     "metadata": {
      "needs_background": "light"
     },
     "output_type": "display_data"
    }
   ],
   "source": [
    "#Donde publican estudios\n",
    "df_rrss.plot.bar()"
   ]
  },
  {
   "cell_type": "markdown",
   "metadata": {},
   "source": [
    "---"
   ]
  },
  {
   "cell_type": "markdown",
   "metadata": {},
   "source": [
    "PROBAR  AQUI POR SEPARAR COSAS DE COLUMNAS"
   ]
  },
  {
   "cell_type": "markdown",
   "metadata": {},
   "source": [
    "    Que hacer con esta columna"
   ]
  },
  {
   "cell_type": "code",
   "execution_count": 18,
   "metadata": {},
   "outputs": [
    {
     "data": {
      "text/plain": [
       "array([' PostgreSQL , Snowflake ',\n",
       "       ' Google Cloud SQL , Google Cloud Firestore ', nan, ' None',\n",
       "       'MySQL , PostgreSQL , MongoDB , Snowflake , Amazon Redshift , Amazon DynamoDB ',\n",
       "       'MySQL , Google Cloud BigQuery , Google Cloud SQL ',\n",
       "       ' PostgreSQL , Amazon Redshift ', 'MySQL , SQLite ',\n",
       "       ' PostgreSQL , Oracle Database , Snowflake , Amazon Redshift , Amazon RDS ',\n",
       "       ' Google Cloud BigQuery ',\n",
       "       'MySQL , PostgreSQL , SQLite , Oracle Database , MongoDB , Snowflake , Microsoft Azure SQL Database , Amazon Redshift , Amazon Aurora , Google Cloud BigQuery , Google Cloud BigTable ',\n",
       "       ' PostgreSQL ', ' PostgreSQL , Oracle Database , Snowflake ',\n",
       "       ' PostgreSQL , Google Cloud BigQuery ',\n",
       "       'MySQL , Oracle Database , IBM Db2 , Microsoft SQL Server ',\n",
       "       ' Oracle Database , Microsoft SQL Server ',\n",
       "       ' PostgreSQL , Microsoft SQL Server ',\n",
       "       ' Snowflake , IBM Db2 , Microsoft SQL Server ', ' SQLite ',\n",
       "       ' Microsoft SQL Server ', 'MySQL ', 'MySQL , Other',\n",
       "       ' Oracle Database ', 'MySQL , SQLite , MongoDB ', ' Other',\n",
       "       ' Snowflake ',\n",
       "       'MySQL , PostgreSQL , SQLite , Oracle Database , MongoDB , IBM Db2 , Microsoft SQL Server , Google Cloud BigQuery , Other',\n",
       "       ' PostgreSQL , MongoDB , Amazon RDS ',\n",
       "       'MySQL , SQLite , Amazon RDS ', ' SQLite , Amazon RDS ',\n",
       "       ' PostgreSQL , MongoDB , Snowflake , Amazon RDS ',\n",
       "       'MySQL , PostgreSQL , SQLite , Google Cloud BigQuery ',\n",
       "       ' PostgreSQL , SQLite , MongoDB , Snowflake ',\n",
       "       ' PostgreSQL , Microsoft SQL Server , Microsoft Azure SQL Database , Microsoft Azure Cosmos DB ',\n",
       "       ' Snowflake , Microsoft Azure Cosmos DB , Amazon Redshift , Amazon Aurora , Amazon RDS , Google Cloud BigQuery , Google Cloud BigTable ',\n",
       "       ' PostgreSQL , Oracle Database , MongoDB , Snowflake , Microsoft SQL Server , Microsoft Azure SQL Database , Google Cloud BigQuery , Google Cloud BigTable ',\n",
       "       ' PostgreSQL , MongoDB , Microsoft Azure SQL Database , Microsoft Azure Cosmos DB ',\n",
       "       ' PostgreSQL , SQLite , MongoDB , Amazon Redshift ',\n",
       "       ' PostgreSQL , Other', 'MySQL , SQLite , Oracle Database ',\n",
       "       ' PostgreSQL , MongoDB , Snowflake , Amazon Redshift , Amazon DynamoDB , Google Cloud BigQuery ',\n",
       "       ' Microsoft SQL Server , Amazon Redshift , Google Cloud BigQuery ',\n",
       "       ' Amazon Redshift ', ' Oracle Database , Other',\n",
       "       ' Google Cloud BigQuery , Google Cloud SQL ',\n",
       "       ' Microsoft SQL Server , Amazon Redshift , Amazon DynamoDB , Google Cloud BigQuery ',\n",
       "       ' SQLite , Snowflake , Microsoft SQL Server , Amazon Redshift ',\n",
       "       ' Microsoft Azure SQL Database ',\n",
       "       'MySQL , SQLite , Microsoft SQL Server , Amazon Aurora , Amazon RDS , Google Cloud BigTable ',\n",
       "       ' MongoDB ', ' PostgreSQL , SQLite , Amazon Redshift ',\n",
       "       ' Oracle Database , Microsoft SQL Server , Amazon Redshift ',\n",
       "       ' SQLite , Microsoft SQL Server ',\n",
       "       ' PostgreSQL , Amazon Redshift , Google Cloud BigQuery ',\n",
       "       ' PostgreSQL , SQLite , Snowflake ', 'MySQL , PostgreSQL ',\n",
       "       ' Amazon Redshift , Amazon DynamoDB ',\n",
       "       ' PostgreSQL , Snowflake , Other',\n",
       "       'MySQL , PostgreSQL , SQLite , Snowflake , Microsoft SQL Server , Amazon Redshift , Amazon RDS ',\n",
       "       ' Microsoft SQL Server , Microsoft Azure SQL Database ',\n",
       "       'MySQL , PostgreSQL , Microsoft SQL Server , Google Cloud BigQuery ',\n",
       "       ' PostgreSQL , Microsoft Azure SQL Database ',\n",
       "       ' PostgreSQL , SQLite , MongoDB , Snowflake , Amazon Redshift , Google Cloud BigQuery ',\n",
       "       'MySQL , PostgreSQL , Microsoft SQL Server ',\n",
       "       'MySQL , Oracle Database , Microsoft SQL Server , Microsoft Azure SQL Database ',\n",
       "       ' PostgreSQL , Amazon Redshift , Amazon Aurora , Amazon RDS '],\n",
       "      dtype=object)"
      ]
     },
     "execution_count": 18,
     "metadata": {},
     "output_type": "execute_result"
    }
   ],
   "source": [
    "df.programas_big_data.unique() "
   ]
  },
  {
   "cell_type": "code",
   "execution_count": 19,
   "metadata": {},
   "outputs": [
    {
     "data": {
      "text/plain": [
       "array(['Scikit-learn ,PyTorch ,Fast.ai ',\n",
       "       'Scikit-learn , TensorFlow ,Keras ,PyTorch ,Xgboost ,LightGBM ,Prophet ',\n",
       "       'Scikit-learn ,PyTorch ,Fast.ai ,LightGBM ',\n",
       "       'Scikit-learn , TensorFlow ', 'Scikit-learn ,Xgboost ',\n",
       "       'Scikit-learn ,Xgboost ,LightGBM ,CatBoost ', ' TensorFlow ',\n",
       "       'Scikit-learn , TensorFlow ,Keras ,Xgboost ,H2O 3 ,Caret ',\n",
       "       'Scikit-learn , TensorFlow ,Keras ,PyTorch ,Xgboost ,Prophet ,H2O 3 ,Caret ',\n",
       "       'Scikit-learn , TensorFlow ,Keras ,PyTorch ,Xgboost ,LightGBM ,CatBoost ,Prophet ,Huggingface ',\n",
       "       'Scikit-learn ,Xgboost ,LightGBM ',\n",
       "       'Scikit-learn , TensorFlow ,Keras ,PyTorch ', 'Scikit-learn ',\n",
       "       'Keras ,PyTorch Lightning ', 'Scikit-learn ,PyTorch ',\n",
       "       'Scikit-learn , TensorFlow ,Keras ,Xgboost ,Prophet ,Caret ',\n",
       "       'Scikit-learn , TensorFlow ,Keras ,PyTorch ,Xgboost ,LightGBM ,CatBoost ,H2O 3 ',\n",
       "       'Scikit-learn , TensorFlow ,Keras ', nan,\n",
       "       'Scikit-learn , TensorFlow ,Keras ,Xgboost ,H2O 3 ',\n",
       "       'Xgboost ,LightGBM ,Caret ', 'Scikit-learn ,H2O 3 ',\n",
       "       ' TensorFlow ,Keras ,PyTorch ',\n",
       "       'Scikit-learn ,Keras ,Xgboost ,Caret ',\n",
       "       'Scikit-learn ,Keras ,PyTorch ,Fast.ai ,Xgboost ,LightGBM ,CatBoost ,H2O 3 ,Caret ,Huggingface ',\n",
       "       ' TensorFlow ,Keras ,Xgboost ', 'Scikit-learn ,Xgboost ,Caret ',\n",
       "       'Scikit-learn , TensorFlow ,Keras ,Xgboost ',\n",
       "       'Scikit-learn , TensorFlow ,PyTorch ,Fast.ai ',\n",
       "       'Scikit-learn ,PyTorch ,Xgboost ,LightGBM ,Prophet ', ' Other',\n",
       "       'Scikit-learn ,Keras ,Xgboost ,Prophet ', ' None',\n",
       "       ' TensorFlow ,PyTorch ,Xgboost ',\n",
       "       'Scikit-learn , TensorFlow ,Keras ,Xgboost ,LightGBM ',\n",
       "       'Scikit-learn , TensorFlow ,Keras ,Xgboost ,LightGBM ,H2O 3 ,Caret ',\n",
       "       'Scikit-learn ,PyTorch ,Prophet ,PyTorch Lightning ,Huggingface ',\n",
       "       'PyTorch ,Xgboost ,LightGBM ,H2O 3 ,Huggingface ',\n",
       "       'Scikit-learn ,Xgboost ,LightGBM ,CatBoost ,Prophet ,Caret ,Tidymodels ',\n",
       "       'Scikit-learn , TensorFlow ,Keras ,Xgboost ,LightGBM ,Caret ',\n",
       "       'Scikit-learn , TensorFlow ,Keras ,Fast.ai ,Huggingface ',\n",
       "       'Scikit-learn , TensorFlow ,PyTorch ,Xgboost ',\n",
       "       'Scikit-learn , TensorFlow ,Keras ,PyTorch ,LightGBM ,CatBoost ,Prophet ,PyTorch Lightning ,Huggingface ',\n",
       "       'Scikit-learn , TensorFlow ,Xgboost ,LightGBM ,Prophet ,H2O 3 ,Caret ',\n",
       "       'Scikit-learn , TensorFlow ,Keras ,PyTorch ,Xgboost ,Caret ',\n",
       "       'Scikit-learn , TensorFlow ,Keras ,PyTorch ,Xgboost ,LightGBM ,CatBoost ,Prophet ,H2O 3 ,Caret ',\n",
       "       'Scikit-learn ,PyTorch ,Xgboost ,LightGBM ,CatBoost ,Huggingface ',\n",
       "       'Scikit-learn ,Keras ,Xgboost ',\n",
       "       'Scikit-learn , TensorFlow ,Keras ,PyTorch ,Fast.ai ,Xgboost ,LightGBM ,CatBoost ,Prophet ,H2O 3 ',\n",
       "       'Scikit-learn , TensorFlow ,Keras ,Xgboost ,LightGBM ,CatBoost ,Prophet ,Huggingface ',\n",
       "       'Scikit-learn ,Xgboost ,LightGBM ,Prophet ',\n",
       "       'Scikit-learn , TensorFlow ,Xgboost ,LightGBM ,H2O 3 ',\n",
       "       'Scikit-learn ,PyTorch ,Xgboost ,LightGBM ,CatBoost ,H2O 3 ',\n",
       "       'Scikit-learn , TensorFlow ,LightGBM ',\n",
       "       'Scikit-learn ,Xgboost ,Prophet ',\n",
       "       'Scikit-learn , TensorFlow ,Keras ,PyTorch ,Huggingface ',\n",
       "       'Tidymodels ',\n",
       "       'Scikit-learn ,PyTorch ,Fast.ai ,Xgboost ,LightGBM ,Prophet ,Tidymodels ,Huggingface ',\n",
       "       'Scikit-learn ,PyTorch ,Xgboost ,LightGBM ,PyTorch Lightning ,Huggingface ',\n",
       "       'Scikit-learn ,PyTorch ,Caret ,JAX ',\n",
       "       'Scikit-learn ,Xgboost , Other', 'Scikit-learn ,Keras ',\n",
       "       'Scikit-learn ,PyTorch ,Xgboost ,LightGBM ,H2O 3 ,PyTorch Lightning ,Huggingface ',\n",
       "       'Scikit-learn , TensorFlow ,Keras ,PyTorch ,Xgboost ,LightGBM ,Prophet ,Huggingface ',\n",
       "       'Scikit-learn ,Keras ,Caret ,Tidymodels ',\n",
       "       'Scikit-learn , TensorFlow ,Keras ,Xgboost ,LightGBM ,CatBoost ',\n",
       "       'Scikit-learn ,Prophet ',\n",
       "       'Scikit-learn , TensorFlow ,Keras ,PyTorch ,Xgboost ,LightGBM ,Caret ',\n",
       "       'Scikit-learn ,Prophet ,H2O 3 ',\n",
       "       'Scikit-learn , TensorFlow ,Keras ,PyTorch ,H2O 3 ,PyTorch Lightning ',\n",
       "       'Scikit-learn ,LightGBM ',\n",
       "       'Scikit-learn , TensorFlow ,Keras ,PyTorch ,Xgboost ',\n",
       "       'Scikit-learn ,Fast.ai ,LightGBM ',\n",
       "       'Scikit-learn ,Tidymodels ,Huggingface ',\n",
       "       'Scikit-learn , TensorFlow ,PyTorch ,Xgboost ,Prophet ,Huggingface ',\n",
       "       'Scikit-learn , TensorFlow ,Keras ,Huggingface ',\n",
       "       'Scikit-learn ,MXNet ,CatBoost , Other',\n",
       "       'Scikit-learn , TensorFlow ,Xgboost ',\n",
       "       'Scikit-learn , TensorFlow ,Keras ,PyTorch ,Xgboost ,LightGBM ,Prophet ,Caret ,Tidymodels ,Huggingface '],\n",
       "      dtype=object)"
      ]
     },
     "execution_count": 19,
     "metadata": {},
     "output_type": "execute_result"
    }
   ],
   "source": [
    "df.herramientas_machine_learning.unique() "
   ]
  },
  {
   "cell_type": "code",
   "execution_count": 20,
   "metadata": {},
   "outputs": [
    {
     "data": {
      "text/plain": [
       "array([' Matplotlib ,Seaborn ,Plotly / Plotly Express ,Ggplot / ggplot2 ,Shiny ,Altair ,Bokeh ',\n",
       "       'Plotly / Plotly Express ,Ggplot / ggplot2 ,Shiny ,Altair ,Bokeh ',\n",
       "       'Plotly / Plotly Express ',\n",
       "       'Seaborn ,Plotly / Plotly Express ,Shiny ,Leaflet / Folium ',\n",
       "       ' Matplotlib ,Ggplot / ggplot2 ',\n",
       "       ' Matplotlib ,Seaborn ,Plotly / Plotly Express ,Bokeh ', ' None',\n",
       "       ' Matplotlib ,Seaborn ,Ggplot / ggplot2 ,Shiny ,Bokeh ',\n",
       "       ' Matplotlib ,Seaborn ,Plotly / Plotly Express ,Ggplot / ggplot2 ,Shiny ,Bokeh ,Geoplotlib ,Leaflet / Folium ',\n",
       "       ' Matplotlib ,Seaborn ,Plotly / Plotly Express ',\n",
       "       ' Matplotlib ,Seaborn ,Ggplot / ggplot2 ',\n",
       "       'Seaborn ,Ggplot / ggplot2 ',\n",
       "       ' Matplotlib ,Seaborn ,Ggplot / ggplot2 ,Bokeh ',\n",
       "       ' Matplotlib ,Seaborn ,Bokeh ',\n",
       "       ' Matplotlib ,Plotly / Plotly Express ,Ggplot / ggplot2 ,Shiny ,Geoplotlib ',\n",
       "       ' Matplotlib ,Seaborn ',\n",
       "       'Plotly / Plotly Express ,Ggplot / ggplot2 ',\n",
       "       ' Matplotlib ,Plotly / Plotly Express ,Ggplot / ggplot2 ',\n",
       "       ' Matplotlib ,Seaborn ,Plotly / Plotly Express ,Altair ',\n",
       "       ' Matplotlib ,Altair ', nan,\n",
       "       ' Matplotlib ,Plotly / Plotly Express ,Ggplot / ggplot2 ,Shiny ,D3 js ',\n",
       "       'Altair ', ' Matplotlib ', ' Matplotlib ,Ggplot / ggplot2 ,Shiny ',\n",
       "       ' Matplotlib ,Seaborn ,Plotly / Plotly Express ,Ggplot / ggplot2 ,Shiny ,Bokeh ,Leaflet / Folium ',\n",
       "       'Ggplot / ggplot2 ,Shiny ',\n",
       "       ' Matplotlib ,Seaborn ,Plotly / Plotly Express , Other',\n",
       "       'Seaborn , Other', 'Seaborn ',\n",
       "       ' Matplotlib ,Seaborn ,Plotly / Plotly Express ,Ggplot / ggplot2 ,Bokeh ',\n",
       "       ' Matplotlib ,Seaborn ,Plotly / Plotly Express ,Ggplot / ggplot2 ',\n",
       "       ' Matplotlib ,Seaborn ,Plotly / Plotly Express ,Ggplot / ggplot2 ,Shiny ',\n",
       "       ' Matplotlib ,Plotly / Plotly Express ',\n",
       "       'Plotly / Plotly Express ,Altair ,Bokeh , Other',\n",
       "       ' Matplotlib ,Seaborn ,Plotly / Plotly Express ,Ggplot / ggplot2 ,Shiny ,Leaflet / Folium ',\n",
       "       'Ggplot / ggplot2 ',\n",
       "       ' Matplotlib ,Seaborn ,Plotly / Plotly Express ,Leaflet / Folium ',\n",
       "       ' Matplotlib ,Seaborn ,Plotly / Plotly Express ,D3 js ,Bokeh ',\n",
       "       ' Matplotlib , Other',\n",
       "       ' Matplotlib ,Seaborn ,D3 js ,Bokeh ,Leaflet / Folium ',\n",
       "       ' Matplotlib ,Seaborn ,Plotly / Plotly Express ,Ggplot / ggplot2 , Other',\n",
       "       ' Matplotlib ,Seaborn ,Plotly / Plotly Express ,Ggplot / ggplot2 ,Geoplotlib ',\n",
       "       ' Matplotlib ,Seaborn ,Plotly / Plotly Express ,Ggplot / ggplot2 ,D3 js ,Altair ,Bokeh ',\n",
       "       ' Matplotlib ,Seaborn ,Ggplot / ggplot2 ,D3 js ', ' Other',\n",
       "       ' Matplotlib ,Seaborn ,D3 js ',\n",
       "       ' Matplotlib ,Seaborn ,Ggplot / ggplot2 ,Shiny ,Leaflet / Folium ',\n",
       "       ' Matplotlib ,Ggplot / ggplot2 ,D3 js ',\n",
       "       ' Matplotlib ,Seaborn , Other',\n",
       "       ' Matplotlib ,Plotly / Plotly Express , Other',\n",
       "       'Plotly / Plotly Express ,Ggplot / ggplot2 ,Shiny ',\n",
       "       ' Matplotlib ,Seaborn ,Plotly / Plotly Express ,Ggplot / ggplot2 ,Shiny ,Geoplotlib ',\n",
       "       'Plotly / Plotly Express ,Ggplot / ggplot2 ,Shiny ,Bokeh ',\n",
       "       ' Matplotlib ,Seaborn ,Plotly / Plotly Express ,Ggplot / ggplot2 ,D3 js ,Bokeh ,Geoplotlib ,Leaflet / Folium '],\n",
       "      dtype=object)"
      ]
     },
     "execution_count": 20,
     "metadata": {},
     "output_type": "execute_result"
    }
   ],
   "source": [
    "df.bibliotecas_visualización.unique() "
   ]
  },
  {
   "cell_type": "code",
   "execution_count": 21,
   "metadata": {},
   "outputs": [
    {
     "data": {
      "text/plain": [
       "array(['RStudio , Sublime Text',\n",
       "       'Jupyter (JupyterLab, Jupyter Notebooks, etc) ,RStudio ,Visual Studio Code (VSCode) , Vim / Emacs,Jupyter Notebook',\n",
       "       ' Vim / Emacs,Jupyter Notebook',\n",
       "       'Jupyter (JupyterLab, Jupyter Notebooks, etc) , Vim / Emacs,Jupyter Notebook',\n",
       "       'RStudio , Sublime Text,Jupyter Notebook',\n",
       "       'Jupyter (JupyterLab, Jupyter Notebooks, etc) ,Jupyter Notebook',\n",
       "       'Visual Studio ,MATLAB ',\n",
       "       'RStudio ,Visual Studio Code (VSCode) , Spyder,Jupyter Notebook',\n",
       "       'Jupyter (JupyterLab, Jupyter Notebooks, etc) ,Visual Studio Code (VSCode) ,PyCharm , Spyder, Sublime Text, Vim / Emacs,Jupyter Notebook',\n",
       "       'Jupyter (JupyterLab, Jupyter Notebooks, etc) ,Visual Studio Code (VSCode) ,PyCharm , Notepad++,Jupyter Notebook',\n",
       "       'Jupyter (JupyterLab, Jupyter Notebooks, etc) ,RStudio ,Jupyter Notebook',\n",
       "       'Jupyter (JupyterLab, Jupyter Notebooks, etc) ,Visual Studio Code (VSCode) ,Jupyter Notebook',\n",
       "       'PyCharm , Spyder, Notepad++, Sublime Text,MATLAB ,Jupyter Notebook',\n",
       "       'Jupyter (JupyterLab, Jupyter Notebooks, etc) ,RStudio ,MATLAB ,Jupyter Notebook',\n",
       "       'Jupyter (JupyterLab, Jupyter Notebooks, etc) ,Visual Studio Code (VSCode) ,PyCharm , Other',\n",
       "       'PyCharm ,Jupyter Notebook',\n",
       "       'Jupyter (JupyterLab, Jupyter Notebooks, etc) ,Visual Studio Code (VSCode) ,PyCharm , Vim / Emacs',\n",
       "       'Jupyter (JupyterLab, Jupyter Notebooks, etc) ,RStudio ,PyCharm , Notepad++, Vim / Emacs,Jupyter Notebook',\n",
       "       'Jupyter (JupyterLab, Jupyter Notebooks, etc) ,PyCharm ',\n",
       "       'Visual Studio ,Visual Studio Code (VSCode) ',\n",
       "       'RStudio ,PyCharm ,Jupyter Notebook',\n",
       "       'Visual Studio ,PyCharm ,Jupyter Notebook',\n",
       "       'RStudio ,Visual Studio ,Jupyter Notebook',\n",
       "       'RStudio ,Visual Studio Code (VSCode) , Spyder, Vim / Emacs,Jupyter Notebook',\n",
       "       'RStudio ', 'RStudio ,PyCharm ',\n",
       "       ' Notepad++, Vim / Emacs,Jupyter Notebook',\n",
       "       'Visual Studio Code (VSCode) ,Jupyter Notebook',\n",
       "       'RStudio ,Visual Studio Code (VSCode) ,MATLAB ',\n",
       "       'Jupyter Notebook, Other',\n",
       "       'Jupyter (JupyterLab, Jupyter Notebooks, etc) ,Visual Studio Code (VSCode) ,PyCharm ',\n",
       "       'Visual Studio Code (VSCode) , Notepad++,Jupyter Notebook',\n",
       "       'Jupyter (JupyterLab, Jupyter Notebooks, etc) ,RStudio ,Visual Studio Code (VSCode) , Sublime Text, Vim / Emacs,Jupyter Notebook',\n",
       "       'Jupyter (JupyterLab, Jupyter Notebooks, etc) ,PyCharm , Notepad++,Jupyter Notebook',\n",
       "       'Visual Studio Code (VSCode) ',\n",
       "       'Jupyter (JupyterLab, Jupyter Notebooks, etc) ,RStudio ,Visual Studio Code (VSCode) ,Jupyter Notebook',\n",
       "       'Jupyter (JupyterLab, Jupyter Notebooks, etc) , Sublime Text,Jupyter Notebook',\n",
       "       'Jupyter (JupyterLab, Jupyter Notebooks, etc) ,Visual Studio ,Visual Studio Code (VSCode) , Spyder, Notepad++, Vim / Emacs,Jupyter Notebook',\n",
       "       'RStudio ,Visual Studio Code (VSCode) , Notepad++,Jupyter Notebook',\n",
       "       'Jupyter (JupyterLab, Jupyter Notebooks, etc) ,Visual Studio Code (VSCode) , Vim / Emacs,Jupyter Notebook',\n",
       "       'Jupyter (JupyterLab, Jupyter Notebooks, etc) , Spyder, Notepad++,Jupyter Notebook',\n",
       "       ' Sublime Text,Jupyter Notebook',\n",
       "       'Jupyter (JupyterLab, Jupyter Notebooks, etc) ,PyCharm , Vim / Emacs,Jupyter Notebook',\n",
       "       'Jupyter (JupyterLab, Jupyter Notebooks, etc) ,RStudio ,PyCharm , Notepad++, Vim / Emacs',\n",
       "       'Jupyter (JupyterLab, Jupyter Notebooks, etc) ,PyCharm , Sublime Text,Jupyter Notebook',\n",
       "       'Jupyter (JupyterLab, Jupyter Notebooks, etc) ,RStudio , Sublime Text,Jupyter Notebook, Other',\n",
       "       ' Other',\n",
       "       'Visual Studio Code (VSCode) , Notepad++,MATLAB ,Jupyter Notebook',\n",
       "       'PyCharm , Spyder, Sublime Text, Vim / Emacs,Jupyter Notebook',\n",
       "       'PyCharm , Spyder, Notepad++,Jupyter Notebook',\n",
       "       'Jupyter (JupyterLab, Jupyter Notebooks, etc) ,RStudio ,MATLAB ',\n",
       "       'Visual Studio Code (VSCode) , Spyder, Notepad++,Jupyter Notebook',\n",
       "       'Jupyter (JupyterLab, Jupyter Notebooks, etc) ,RStudio ,PyCharm ,Jupyter Notebook',\n",
       "       'Jupyter (JupyterLab, Jupyter Notebooks, etc) , Sublime Text, Vim / Emacs,Jupyter Notebook',\n",
       "       'Visual Studio ,PyCharm , Spyder, Notepad++,Jupyter Notebook',\n",
       "       'RStudio , Spyder,Jupyter Notebook',\n",
       "       'RStudio ,Visual Studio Code (VSCode) , Spyder, Notepad++,Jupyter Notebook',\n",
       "       'Visual Studio Code (VSCode) , Notepad++, Sublime Text,Jupyter Notebook',\n",
       "       'RStudio ,Visual Studio Code (VSCode) ',\n",
       "       ' Spyder, Sublime Text,Jupyter Notebook',\n",
       "       'RStudio ,Visual Studio Code (VSCode) ,PyCharm ,Jupyter Notebook',\n",
       "       'Jupyter (JupyterLab, Jupyter Notebooks, etc) , Spyder, Vim / Emacs,Jupyter Notebook',\n",
       "       'PyCharm , Sublime Text,Jupyter Notebook',\n",
       "       'Jupyter (JupyterLab, Jupyter Notebooks, etc) ,RStudio ,Visual Studio Code (VSCode) , Spyder',\n",
       "       'RStudio , Spyder, Notepad++,Jupyter Notebook',\n",
       "       'Visual Studio Code (VSCode) , Notepad++, Vim / Emacs,Jupyter Notebook',\n",
       "       'Visual Studio Code (VSCode) , Vim / Emacs,Jupyter Notebook',\n",
       "       'RStudio ,Visual Studio , Notepad++,Jupyter Notebook',\n",
       "       ' Spyder,Jupyter Notebook',\n",
       "       'Jupyter (JupyterLab, Jupyter Notebooks, etc) ,Visual Studio Code (VSCode) , Spyder, Sublime Text',\n",
       "       'Jupyter Notebook', 'RStudio , Notepad++,Jupyter Notebook',\n",
       "       'Jupyter (JupyterLab, Jupyter Notebooks, etc) ,Visual Studio Code (VSCode) ,PyCharm ,Jupyter Notebook',\n",
       "       'RStudio ,PyCharm , Vim / Emacs,Jupyter Notebook',\n",
       "       'RStudio ,Visual Studio ,Visual Studio Code (VSCode) ,PyCharm , Spyder',\n",
       "       'Jupyter (JupyterLab, Jupyter Notebooks, etc) ,RStudio ,Visual Studio ,Visual Studio Code (VSCode) , Notepad++,Jupyter Notebook',\n",
       "       'Visual Studio Code (VSCode) ,PyCharm ,Jupyter Notebook, Other',\n",
       "       'Jupyter (JupyterLab, Jupyter Notebooks, etc) , Notepad++,Jupyter Notebook',\n",
       "       'Jupyter (JupyterLab, Jupyter Notebooks, etc) ,PyCharm , Spyder',\n",
       "       'Visual Studio ,Visual Studio Code (VSCode) ,PyCharm , Notepad++, Vim / Emacs,Jupyter Notebook',\n",
       "       'RStudio ,Jupyter Notebook',\n",
       "       'Jupyter (JupyterLab, Jupyter Notebooks, etc) ,Visual Studio Code (VSCode) ',\n",
       "       'Jupyter (JupyterLab, Jupyter Notebooks, etc) ,RStudio ,Visual Studio ,Visual Studio Code (VSCode) , Spyder, Notepad++, Sublime Text,Jupyter Notebook',\n",
       "       'RStudio ,Visual Studio Code (VSCode) ,Jupyter Notebook',\n",
       "       'Jupyter (JupyterLab, Jupyter Notebooks, etc) ,Visual Studio ,PyCharm , Sublime Text,Jupyter Notebook',\n",
       "       'RStudio , Spyder, Notepad++',\n",
       "       'Jupyter (JupyterLab, Jupyter Notebooks, etc) , Vim / Emacs',\n",
       "       'Jupyter (JupyterLab, Jupyter Notebooks, etc) ,PyCharm , Notepad++',\n",
       "       'Jupyter (JupyterLab, Jupyter Notebooks, etc) ,RStudio ,PyCharm , Notepad++, Sublime Text',\n",
       "       'Jupyter (JupyterLab, Jupyter Notebooks, etc) ,PyCharm ,Jupyter Notebook'],\n",
       "      dtype=object)"
      ]
     },
     "execution_count": 21,
     "metadata": {},
     "output_type": "execute_result"
    }
   ],
   "source": [
    "df.entorno_desarrollo.unique() "
   ]
  },
  {
   "cell_type": "code",
   "execution_count": 22,
   "metadata": {},
   "outputs": [],
   "source": [
    "# patron= re.python.match(Visual Studio)\n",
    "\n",
    "# def pyhton(col):\n",
    "#     try:\n",
    "#         if re.findall(patron.findall('Python'), col):\n",
    "#             return \"python\"\n",
    "#     except:\n",
    "#         pass"
   ]
  },
  {
   "cell_type": "code",
   "execution_count": 23,
   "metadata": {},
   "outputs": [
    {
     "data": {
      "text/plain": [
       "array(['RStudio , Sublime Text',\n",
       "       'Jupyter (JupyterLab, Jupyter Notebooks, etc) ,RStudio ,Visual Studio Code (VSCode) , Vim / Emacs,Jupyter Notebook',\n",
       "       ' Vim / Emacs,Jupyter Notebook',\n",
       "       'Jupyter (JupyterLab, Jupyter Notebooks, etc) , Vim / Emacs,Jupyter Notebook',\n",
       "       'RStudio , Sublime Text,Jupyter Notebook',\n",
       "       'Jupyter (JupyterLab, Jupyter Notebooks, etc) ,Jupyter Notebook',\n",
       "       'Visual Studio ,MATLAB ',\n",
       "       'RStudio ,Visual Studio Code (VSCode) , Spyder,Jupyter Notebook',\n",
       "       'Jupyter (JupyterLab, Jupyter Notebooks, etc) ,Visual Studio Code (VSCode) ,PyCharm , Spyder, Sublime Text, Vim / Emacs,Jupyter Notebook',\n",
       "       'Jupyter (JupyterLab, Jupyter Notebooks, etc) ,Visual Studio Code (VSCode) ,PyCharm , Notepad++,Jupyter Notebook',\n",
       "       'Jupyter (JupyterLab, Jupyter Notebooks, etc) ,RStudio ,Jupyter Notebook',\n",
       "       'Jupyter (JupyterLab, Jupyter Notebooks, etc) ,Visual Studio Code (VSCode) ,Jupyter Notebook',\n",
       "       'PyCharm , Spyder, Notepad++, Sublime Text,MATLAB ,Jupyter Notebook',\n",
       "       'Jupyter (JupyterLab, Jupyter Notebooks, etc) ,RStudio ,MATLAB ,Jupyter Notebook',\n",
       "       'Jupyter (JupyterLab, Jupyter Notebooks, etc) ,Visual Studio Code (VSCode) ,PyCharm , Other',\n",
       "       'PyCharm ,Jupyter Notebook',\n",
       "       'Jupyter (JupyterLab, Jupyter Notebooks, etc) ,Visual Studio Code (VSCode) ,PyCharm , Vim / Emacs',\n",
       "       'Jupyter (JupyterLab, Jupyter Notebooks, etc) ,RStudio ,PyCharm , Notepad++, Vim / Emacs,Jupyter Notebook',\n",
       "       'Jupyter (JupyterLab, Jupyter Notebooks, etc) ,PyCharm ',\n",
       "       'Visual Studio ,Visual Studio Code (VSCode) ',\n",
       "       'RStudio ,PyCharm ,Jupyter Notebook',\n",
       "       'Visual Studio ,PyCharm ,Jupyter Notebook',\n",
       "       'RStudio ,Visual Studio ,Jupyter Notebook',\n",
       "       'RStudio ,Visual Studio Code (VSCode) , Spyder, Vim / Emacs,Jupyter Notebook',\n",
       "       'RStudio ', 'RStudio ,PyCharm ',\n",
       "       ' Notepad++, Vim / Emacs,Jupyter Notebook',\n",
       "       'Visual Studio Code (VSCode) ,Jupyter Notebook',\n",
       "       'RStudio ,Visual Studio Code (VSCode) ,MATLAB ',\n",
       "       'Jupyter Notebook, Other',\n",
       "       'Jupyter (JupyterLab, Jupyter Notebooks, etc) ,Visual Studio Code (VSCode) ,PyCharm ',\n",
       "       'Visual Studio Code (VSCode) , Notepad++,Jupyter Notebook',\n",
       "       'Jupyter (JupyterLab, Jupyter Notebooks, etc) ,RStudio ,Visual Studio Code (VSCode) , Sublime Text, Vim / Emacs,Jupyter Notebook',\n",
       "       'Jupyter (JupyterLab, Jupyter Notebooks, etc) ,PyCharm , Notepad++,Jupyter Notebook',\n",
       "       'Visual Studio Code (VSCode) ',\n",
       "       'Jupyter (JupyterLab, Jupyter Notebooks, etc) ,RStudio ,Visual Studio Code (VSCode) ,Jupyter Notebook',\n",
       "       'Jupyter (JupyterLab, Jupyter Notebooks, etc) , Sublime Text,Jupyter Notebook',\n",
       "       'Jupyter (JupyterLab, Jupyter Notebooks, etc) ,Visual Studio ,Visual Studio Code (VSCode) , Spyder, Notepad++, Vim / Emacs,Jupyter Notebook',\n",
       "       'RStudio ,Visual Studio Code (VSCode) , Notepad++,Jupyter Notebook',\n",
       "       'Jupyter (JupyterLab, Jupyter Notebooks, etc) ,Visual Studio Code (VSCode) , Vim / Emacs,Jupyter Notebook',\n",
       "       'Jupyter (JupyterLab, Jupyter Notebooks, etc) , Spyder, Notepad++,Jupyter Notebook',\n",
       "       ' Sublime Text,Jupyter Notebook',\n",
       "       'Jupyter (JupyterLab, Jupyter Notebooks, etc) ,PyCharm , Vim / Emacs,Jupyter Notebook',\n",
       "       'Jupyter (JupyterLab, Jupyter Notebooks, etc) ,RStudio ,PyCharm , Notepad++, Vim / Emacs',\n",
       "       'Jupyter (JupyterLab, Jupyter Notebooks, etc) ,PyCharm , Sublime Text,Jupyter Notebook',\n",
       "       'Jupyter (JupyterLab, Jupyter Notebooks, etc) ,RStudio , Sublime Text,Jupyter Notebook, Other',\n",
       "       ' Other',\n",
       "       'Visual Studio Code (VSCode) , Notepad++,MATLAB ,Jupyter Notebook',\n",
       "       'PyCharm , Spyder, Sublime Text, Vim / Emacs,Jupyter Notebook',\n",
       "       'PyCharm , Spyder, Notepad++,Jupyter Notebook',\n",
       "       'Jupyter (JupyterLab, Jupyter Notebooks, etc) ,RStudio ,MATLAB ',\n",
       "       'Visual Studio Code (VSCode) , Spyder, Notepad++,Jupyter Notebook',\n",
       "       'Jupyter (JupyterLab, Jupyter Notebooks, etc) ,RStudio ,PyCharm ,Jupyter Notebook',\n",
       "       'Jupyter (JupyterLab, Jupyter Notebooks, etc) , Sublime Text, Vim / Emacs,Jupyter Notebook',\n",
       "       'Visual Studio ,PyCharm , Spyder, Notepad++,Jupyter Notebook',\n",
       "       'RStudio , Spyder,Jupyter Notebook',\n",
       "       'RStudio ,Visual Studio Code (VSCode) , Spyder, Notepad++,Jupyter Notebook',\n",
       "       'Visual Studio Code (VSCode) , Notepad++, Sublime Text,Jupyter Notebook',\n",
       "       'RStudio ,Visual Studio Code (VSCode) ',\n",
       "       ' Spyder, Sublime Text,Jupyter Notebook',\n",
       "       'RStudio ,Visual Studio Code (VSCode) ,PyCharm ,Jupyter Notebook',\n",
       "       'Jupyter (JupyterLab, Jupyter Notebooks, etc) , Spyder, Vim / Emacs,Jupyter Notebook',\n",
       "       'PyCharm , Sublime Text,Jupyter Notebook',\n",
       "       'Jupyter (JupyterLab, Jupyter Notebooks, etc) ,RStudio ,Visual Studio Code (VSCode) , Spyder',\n",
       "       'RStudio , Spyder, Notepad++,Jupyter Notebook',\n",
       "       'Visual Studio Code (VSCode) , Notepad++, Vim / Emacs,Jupyter Notebook',\n",
       "       'Visual Studio Code (VSCode) , Vim / Emacs,Jupyter Notebook',\n",
       "       'RStudio ,Visual Studio , Notepad++,Jupyter Notebook',\n",
       "       ' Spyder,Jupyter Notebook',\n",
       "       'Jupyter (JupyterLab, Jupyter Notebooks, etc) ,Visual Studio Code (VSCode) , Spyder, Sublime Text',\n",
       "       'Jupyter Notebook', 'RStudio , Notepad++,Jupyter Notebook',\n",
       "       'Jupyter (JupyterLab, Jupyter Notebooks, etc) ,Visual Studio Code (VSCode) ,PyCharm ,Jupyter Notebook',\n",
       "       'RStudio ,PyCharm , Vim / Emacs,Jupyter Notebook',\n",
       "       'RStudio ,Visual Studio ,Visual Studio Code (VSCode) ,PyCharm , Spyder',\n",
       "       'Jupyter (JupyterLab, Jupyter Notebooks, etc) ,RStudio ,Visual Studio ,Visual Studio Code (VSCode) , Notepad++,Jupyter Notebook',\n",
       "       'Visual Studio Code (VSCode) ,PyCharm ,Jupyter Notebook, Other',\n",
       "       'Jupyter (JupyterLab, Jupyter Notebooks, etc) , Notepad++,Jupyter Notebook',\n",
       "       'Jupyter (JupyterLab, Jupyter Notebooks, etc) ,PyCharm , Spyder',\n",
       "       'Visual Studio ,Visual Studio Code (VSCode) ,PyCharm , Notepad++, Vim / Emacs,Jupyter Notebook',\n",
       "       'RStudio ,Jupyter Notebook',\n",
       "       'Jupyter (JupyterLab, Jupyter Notebooks, etc) ,Visual Studio Code (VSCode) ',\n",
       "       'Jupyter (JupyterLab, Jupyter Notebooks, etc) ,RStudio ,Visual Studio ,Visual Studio Code (VSCode) , Spyder, Notepad++, Sublime Text,Jupyter Notebook',\n",
       "       'RStudio ,Visual Studio Code (VSCode) ,Jupyter Notebook',\n",
       "       'Jupyter (JupyterLab, Jupyter Notebooks, etc) ,Visual Studio ,PyCharm , Sublime Text,Jupyter Notebook',\n",
       "       'RStudio , Spyder, Notepad++',\n",
       "       'Jupyter (JupyterLab, Jupyter Notebooks, etc) , Vim / Emacs',\n",
       "       'Jupyter (JupyterLab, Jupyter Notebooks, etc) ,PyCharm , Notepad++',\n",
       "       'Jupyter (JupyterLab, Jupyter Notebooks, etc) ,RStudio ,PyCharm , Notepad++, Sublime Text',\n",
       "       'Jupyter (JupyterLab, Jupyter Notebooks, etc) ,PyCharm ,Jupyter Notebook'],\n",
       "      dtype=object)"
      ]
     },
     "execution_count": 23,
     "metadata": {},
     "output_type": "execute_result"
    }
   ],
   "source": [
    "df.entorno_desarrollo.unique() "
   ]
  },
  {
   "cell_type": "markdown",
   "metadata": {},
   "source": [
    "-----"
   ]
  },
  {
   "cell_type": "markdown",
   "metadata": {},
   "source": [
    "# PRUEBAS CON SALARIO"
   ]
  },
  {
   "cell_type": "markdown",
   "metadata": {},
   "source": [
    "Quitar rangos mensuales"
   ]
  },
  {
   "cell_type": "code",
   "execution_count": 24,
   "metadata": {},
   "outputs": [],
   "source": [
    "df.salario.value_counts()\n",
    "\n",
    "df_total = df[(df[\"salario\"].isin([\"10,000-14,999\",\"30,000-39,999\", \"100,000-124,999\", \"50,000-59,999 \",\"40,000-49,999\",\n",
    "\"20,000-24,999\",\"15,000-19,999\", \"60,000-69,999\",\"25,000-29,999\", \"70,000-79,999\",\"150,000-199,999\",\"80,000-89,999 \"]))]\n"
   ]
  },
  {
   "cell_type": "code",
   "execution_count": 25,
   "metadata": {},
   "outputs": [
    {
     "data": {
      "text/plain": [
       "array(['150,000-199,999', '100,000-124,999', '70,000-79,999',\n",
       "       '40,000-49,999', '60,000-69,999', '10,000-14,999'], dtype=object)"
      ]
     },
     "execution_count": 25,
     "metadata": {},
     "output_type": "execute_result"
    }
   ],
   "source": [
    "df_total.salario.unique()"
   ]
  },
  {
   "cell_type": "code",
   "execution_count": 26,
   "metadata": {},
   "outputs": [],
   "source": [
    "\n",
    "import seaborn as sns\n",
    "import sidetable\n",
    "import matplotlib.pyplot as plt\n",
    "import re"
   ]
  },
  {
   "cell_type": "code",
   "execution_count": 27,
   "metadata": {},
   "outputs": [
    {
     "data": {
      "text/plain": [
       "Index(['edad', 'genero', 'pais', 'educacion', 'perfil_profesional',\n",
       "       'experiencia_programando', 'herramientas_trabajo',\n",
       "       'año_uso_machine_learning', 'industria_actual', 'tamaño_compañía',\n",
       "       'trabajadores_datascience', 'salario', 'herramienta_analisis_datos',\n",
       "       'lenguajes_habituales', 'entorno_desarrollo',\n",
       "       'bibliotecas_visualización', 'herramientas_machine_learning',\n",
       "       'programas_big_data', 'herramientas_bi', 'notebooks_kaggle',\n",
       "       'notebooks_colab', 'publicaciones_github', 'publicaciones_kaggle',\n",
       "       'plat_coursera', 'plat_edx', 'plat_kaggle', 'plat_datacamp',\n",
       "       'plat_fast.ai', 'plat_udacity', 'plat_udemy', 'plat_linkedinlearning',\n",
       "       'plat_cloudcertification', 'plat_universitycourses', 'plat_ninguno',\n",
       "       'plat_otros', 'rrss_twitter', 'rrss_email/newsletters', 'rrss_reddit',\n",
       "       'rrss_kaggle', 'rrss_forums', 'rrss_yotube', 'rrss_podcast',\n",
       "       'rrss_blogs', 'rrss_journal', 'rrss_slackcommunity', 'rrss_none',\n",
       "       'rrss_others'],\n",
       "      dtype='object')"
      ]
     },
     "execution_count": 27,
     "metadata": {},
     "output_type": "execute_result"
    }
   ],
   "source": [
    "df_total.columns"
   ]
  },
  {
   "cell_type": "code",
   "execution_count": 28,
   "metadata": {},
   "outputs": [
    {
     "data": {
      "image/png": "[encoded data removed]",
      "text/plain": [
       "<Figure size 842.4x595.44 with 1 Axes>"
      ]
     },
     "metadata": {},
     "output_type": "display_data"
    }
   ],
   "source": [
    "sns.set(rc={'figure.figsize':(11.7,8.27)})\n",
    "sns.countplot(x=\"salario\", data=df_total,hue=\"industria_actual\", palette=\"rocket\")\n",
    "plt.legend(loc='upper right')\n",
    "sns.set(font_scale = 2);"
   ]
  }
 ],
 "metadata": {
  "interpreter": {
   "hash": "0620710c65b0f5ccc651a2aa8870ae0eb4c70492424a8d7866846658189426a3"
  },
  "kernelspec": {
   "display_name": "Python 3.9.7 ('base')",
   "language": "python",
   "name": "python3"
  },
  "language_info": {
   "codemirror_mode": {
    "name": "ipython",
    "version": 3
   },
   "file_extension": ".py",
   "mimetype": "text/x-python",
   "name": "python",
   "nbconvert_exporter": "python",
   "pygments_lexer": "ipython3",
   "version": "3.9.7"
  },
  "orig_nbformat": 4
 },
 "nbformat": 4,
 "nbformat_minor": 2
}
