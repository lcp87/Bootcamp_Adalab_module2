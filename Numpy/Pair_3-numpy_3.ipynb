{
 "cells": [
  {
   "cell_type": "code",
   "execution_count": 1,
   "metadata": {},
   "outputs": [],
   "source": [
    "import numpy as np"
   ]
  },
  {
   "cell_type": "code",
   "execution_count": 2,
   "metadata": {},
   "outputs": [
    {
     "data": {
      "text/plain": [
       "array([[[0.5, 0.7, 0.4, 0.3, 0.4],\n",
       "        [0.1, 0.4, 0.3, 0.2, 0.2],\n",
       "        [0.8, 0.8, 0.1, 0.5, 0.8]],\n",
       "\n",
       "       [[0.3, 0.9, 0.2, 0.8, 0.3],\n",
       "        [0.9, 0.9, 0.9, 0.3, 0.8],\n",
       "        [0.3, 0.1, 0.3, 0.6, 0.6]]])"
      ]
     },
     "execution_count": 2,
     "metadata": {},
     "output_type": "execute_result"
    }
   ],
   "source": [
    "# Crear array de 3 dimensiones con 2,3,5 con solo 1 decimal\n",
    "array1 = np.random.random_sample((2,3,5)).round(1)\n",
    "array1"
   ]
  },
  {
   "cell_type": "code",
   "execution_count": 3,
   "metadata": {},
   "outputs": [
    {
     "data": {
      "text/plain": [
       "0.5"
      ]
     },
     "execution_count": 3,
     "metadata": {},
     "output_type": "execute_result"
    }
   ],
   "source": [
    "# Calcular la media del array y almacenarlo en una variable (round 1 decimal)\n",
    "media_array1 = np.mean(array1).round(1)\n",
    "media_array1"
   ]
  },
  {
   "cell_type": "code",
   "execution_count": 4,
   "metadata": {},
   "outputs": [
    {
     "data": {
      "text/plain": [
       "0.1"
      ]
     },
     "execution_count": 4,
     "metadata": {},
     "output_type": "execute_result"
    }
   ],
   "source": [
    "# Max y min (round 1 decimal)\n",
    "min_array1 = np.min(array1).round(1)\n",
    "min_array1\n"
   ]
  },
  {
   "cell_type": "code",
   "execution_count": 6,
   "metadata": {},
   "outputs": [
    {
     "data": {
      "text/plain": [
       "0.9"
      ]
     },
     "execution_count": 6,
     "metadata": {},
     "output_type": "execute_result"
    }
   ],
   "source": [
    "max_array1 = np.max(array1).round(1)\n",
    "max_array1"
   ]
  },
  {
   "cell_type": "code",
   "execution_count": 11,
   "metadata": {},
   "outputs": [
    {
     "name": "stdout",
     "output_type": "stream",
     "text": [
      "[[['A' 'B' 'C' 'C' 'C']\n",
      "  ['E' 'C' 'C' 'C' 'C']\n",
      "  ['B' 'B' 'E' 'A' 'B']]\n",
      "\n",
      " [['C' 'D' 'C' 'B' 'C']\n",
      "  ['D' 'D' 'D' 'C' 'B']\n",
      "  ['C' 'E' 'C' 'B' 'B']]]\n"
     ]
    }
   ],
   "source": [
    "# Crear un array vacio (misma forma y dimensiones que el anterior)\n",
    "array2 = np.empty((2,3,5), dtype = str)                 #la clave es definir el array como string al crearlo\n",
    "array2\n",
    "\n",
    "for matriz in range(array2.shape[0]):\n",
    "    for fila in range(array2.shape[1]):\n",
    "            for columna in range(array2.shape[2]):\n",
    "                if array1[matriz][fila][columna] == media_array1:\n",
    "                    array2[matriz][fila][columna] = 'A'\n",
    "                elif array1[matriz][fila][columna] == np.max(array1):\n",
    "                    array2[matriz][fila][columna] = 'D'\n",
    "                elif array1[matriz][fila][columna] == np.min(array1):\n",
    "                    array2[matriz][fila][columna] = 'E'\n",
    "                elif array1[matriz][fila][columna] > np.mean(array1):\n",
    "                    array2[matriz][fila][columna] = 'B'\n",
    "                elif array1[matriz][fila][columna] < np.mean(array1):\n",
    "                    array2[matriz][fila][columna] = 'C'\n",
    "\n",
    "print(array2)"
   ]
  },
  {
   "cell_type": "code",
   "execution_count": 14,
   "metadata": {},
   "outputs": [
    {
     "data": {
      "text/plain": [
       "array([0.5, 0.7, 0.4, 0.3, 0.4, 0.1, 0.4, 0.3, 0.2, 0.2, 0.8, 0.8, 0.1,\n",
       "       0.5, 0.8, 0.3, 0.9, 0.2, 0.8, 0.3, 0.9, 0.9, 0.9, 0.3, 0.8, 0.3,\n",
       "       0.1, 0.3, 0.6, 0.6])"
      ]
     },
     "execution_count": 14,
     "metadata": {},
     "output_type": "execute_result"
    }
   ],
   "source": [
    "# crear array vacío unidimensional con 30 elementos\n",
    "array3 = np.empty(30)\n",
    "array3"
   ]
  },
  {
   "cell_type": "code",
   "execution_count": 9,
   "metadata": {},
   "outputs": [],
   "source": [
    "array3_reshape = np.reshape(array3, (30))"
   ]
  },
  {
   "cell_type": "code",
   "execution_count": 16,
   "metadata": {},
   "outputs": [
    {
     "name": "stdout",
     "output_type": "stream",
     "text": [
      "['1' '1' '2' '2' '2' '3' '2' '2' '2' '2' '1' '1' '3' '1' '1' '2' '2' '2'\n",
      " '1' '2' '2' '2' '2' '2' '1' '2' '3' '2' '1' '1']\n"
     ]
    }
   ],
   "source": [
    "# cambiar valores por números\n",
    "for indice in array3_reshape:\n",
    "    if indice == 'A' or indice == 'B':\n",
    "        array3_reshape = np.where(array3_reshape == 'A', 1, array3_reshape)\n",
    "        array3_reshape = np.where(array3_reshape == 'B', 1, array3_reshape)\n",
    "    elif indice == 'C' or indice == 'D':\n",
    "        array3_reshape = np.where(array3_reshape == 'C', 2, array3_reshape)\n",
    "        array3_reshape = np.where(array3_reshape == 'D', 2, array3_reshape)\n",
    "    elif indice == 'E':\n",
    "        array3_reshape = np.where(array3_reshape == 'E', 3, array3_reshape)\n",
    "\n",
    "print(array3_reshape)"
   ]
  },
  {
   "cell_type": "code",
   "execution_count": 63,
   "metadata": {},
   "outputs": [
    {
     "data": {
      "text/plain": [
       "array([[['1', '1', '3', '2', '3'],\n",
       "        ['1', '1', '1', '1', '2'],\n",
       "        ['1', '1', '2', '3', '1']],\n",
       "\n",
       "       [['1', '1', '1', '1', '1'],\n",
       "        ['2', '2', '2', '2', '2'],\n",
       "        ['3', '1', '2', '2', '2']]], dtype='<U3')"
      ]
     },
     "execution_count": 63,
     "metadata": {},
     "output_type": "execute_result"
    }
   ],
   "source": [
    "# cambiar forma a 2 matrices, 3 filas, 5 columnas\n",
    "array4 = np.reshape(array3_reshape, (2,3,5))"
   ]
  }
 ],
 "metadata": {
  "interpreter": {
   "hash": "9df72549cec875d35faaa50875d444b10c11452b268975a17c9dc6870f43870f"
  },
  "kernelspec": {
   "display_name": "Python 3.9.7 ('base')",
   "language": "python",
   "name": "python3"
  },
  "language_info": {
   "codemirror_mode": {
    "name": "ipython",
    "version": 3
   },
   "file_extension": ".py",
   "mimetype": "text/x-python",
   "name": "python",
   "nbconvert_exporter": "python",
   "pygments_lexer": "ipython3",
   "version": "3.9.7"
  },
  "orig_nbformat": 4
 },
 "nbformat": 4,
 "nbformat_minor": 2
}
