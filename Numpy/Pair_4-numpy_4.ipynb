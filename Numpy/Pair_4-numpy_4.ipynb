{
 "cells": [
  {
   "cell_type": "code",
   "execution_count": 2,
   "metadata": {},
   "outputs": [],
   "source": [
    "import numpy as np\n"
   ]
  },
  {
   "cell_type": "code",
   "execution_count": 3,
   "metadata": {},
   "outputs": [],
   "source": [
    "# crear dos array con random_sample y que tengan los mismos valores\n",
    "array_1 = np.random.rand(5)\n",
    "array_2 = np.random.rand(5)\n"
   ]
  },
  {
   "cell_type": "code",
   "execution_count": 4,
   "metadata": {},
   "outputs": [],
   "source": [
    "np.random.seed(12)\n",
    "array_1_seed = np.random.rand(5)"
   ]
  },
  {
   "cell_type": "code",
   "execution_count": 5,
   "metadata": {},
   "outputs": [
    {
     "data": {
      "text/plain": [
       "array([0.15416284, 0.7400497 , 0.26331502, 0.53373939, 0.01457496])"
      ]
     },
     "execution_count": 5,
     "metadata": {},
     "output_type": "execute_result"
    }
   ],
   "source": [
    "array_1_seed"
   ]
  },
  {
   "cell_type": "code",
   "execution_count": 6,
   "metadata": {},
   "outputs": [],
   "source": [
    "np.random.seed(12)\n",
    "array_2_seed = np.random.rand(5)"
   ]
  },
  {
   "cell_type": "code",
   "execution_count": 7,
   "metadata": {},
   "outputs": [
    {
     "data": {
      "text/plain": [
       "array([0.15416284, 0.7400497 , 0.26331502, 0.53373939, 0.01457496])"
      ]
     },
     "execution_count": 7,
     "metadata": {},
     "output_type": "execute_result"
    }
   ],
   "source": [
    "array_2_seed"
   ]
  },
  {
   "cell_type": "code",
   "execution_count": 8,
   "metadata": {},
   "outputs": [
    {
     "data": {
      "text/plain": [
       "array([[[ 9.,  9.,  0., 10.,  1.],\n",
       "        [ 3.,  6.,  9.,  9.,  0.],\n",
       "        [ 5.,  6.,  5.,  8.,  2.]],\n",
       "\n",
       "       [[ 8.,  0.,  1.,  1.,  3.],\n",
       "        [ 7.,  5.,  8.,  3.,  7.],\n",
       "        [ 7.,  3.,  3., 10.,  6.]]])"
      ]
     },
     "execution_count": 8,
     "metadata": {},
     "output_type": "execute_result"
    }
   ],
   "source": [
    "# crear array de 3 dimensiones, 2x3x5, sin decimales y entre 0-10; extrae sus valores únicos guardándolo en una variable\n",
    "array_uniform = np.random.uniform(0,10, (2,3,5)).round(0)\n",
    "array_uniform"
   ]
  },
  {
   "cell_type": "code",
   "execution_count": 9,
   "metadata": {},
   "outputs": [
    {
     "data": {
      "text/plain": [
       "array([ 0.,  1.,  2.,  3.,  5.,  6.,  7.,  8.,  9., 10.])"
      ]
     },
     "execution_count": 9,
     "metadata": {},
     "output_type": "execute_result"
    }
   ],
   "source": [
    "valores_unicos = np.unique(array_uniform)\n",
    "valores_unicos"
   ]
  },
  {
   "cell_type": "code",
   "execution_count": 10,
   "metadata": {},
   "outputs": [
    {
     "data": {
      "text/plain": [
       "array([[[5, 4, 4, 3, 3],\n",
       "        [3, 7, 2, 6, 3],\n",
       "        [3, 3, 2, 3, 1]],\n",
       "\n",
       "       [[1, 4, 3, 0, 2],\n",
       "        [2, 1, 3, 3, 1],\n",
       "        [3, 4, 1, 2, 3]]])"
      ]
     },
     "execution_count": 10,
     "metadata": {},
     "output_type": "execute_result"
    }
   ],
   "source": [
    "# crear array de 3 dimensiones, 2x3x5, con probabilidad 0.3 y nº pruebas = 10; guarda los valores únicos en una variable\n",
    "array_binomial = np.random.binomial(10, 0.3, (2,3,5))\n",
    "array_binomial"
   ]
  },
  {
   "cell_type": "code",
   "execution_count": 11,
   "metadata": {},
   "outputs": [
    {
     "data": {
      "text/plain": [
       "array([ 0.,  1.,  2.,  3.,  5.,  6.,  7.,  8.,  9., 10.])"
      ]
     },
     "execution_count": 11,
     "metadata": {},
     "output_type": "execute_result"
    }
   ],
   "source": [
    "valores_unicos_2 = np.unique(array_binomial)\n",
    "valores_unicos"
   ]
  },
  {
   "cell_type": "code",
   "execution_count": 12,
   "metadata": {},
   "outputs": [
    {
     "name": "stdout",
     "output_type": "stream",
     "text": [
      "[0. 1. 2. 3. 5. 6. 7.]\n"
     ]
    }
   ],
   "source": [
    "# elementos comunes entre valores únicos de array3 y array4\n",
    "elementos_comunes = np.intersect1d(valores_unicos, valores_unicos_2)\n",
    "print(elementos_comunes)"
   ]
  },
  {
   "cell_type": "code",
   "execution_count": 13,
   "metadata": {},
   "outputs": [
    {
     "name": "stdout",
     "output_type": "stream",
     "text": [
      "[ 0.  1.  2.  3.  4.  5.  6.  7.  8.  9. 10.]\n"
     ]
    }
   ],
   "source": [
    "# unión de elementos únicos de array3 y array4\n",
    "union = np.union1d(valores_unicos, valores_unicos_2)\n",
    "print(union)"
   ]
  },
  {
   "cell_type": "code",
   "execution_count": 14,
   "metadata": {},
   "outputs": [
    {
     "name": "stdout",
     "output_type": "stream",
     "text": [
      "[ 8.  9. 10.]\n"
     ]
    }
   ],
   "source": [
    "# ¿Qué elementos están en el array derivado de la distribución uniforme y no en los únicos de la distribución binomial? Extrae los valores númericos\n",
    "diferencia = np.setdiff1d(valores_unicos, valores_unicos_2)\n",
    "print(diferencia)"
   ]
  },
  {
   "cell_type": "code",
   "execution_count": 15,
   "metadata": {},
   "outputs": [
    {
     "name": "stdout",
     "output_type": "stream",
     "text": [
      "[57 54 56 97 68 25 44 22 69  9 59 27 28  2 68 48 44 52 68 35 71 54 30 49\n",
      " 36 46 10 76 83 72 26 72 22 56 78 68 89 79  4 97 28 20 81 26  4 91 19 88\n",
      " 43 93 64 97 68 95 38 37 20 66 90 74 96 95 34 74 50 80 17 20 42 39 30 17\n",
      " 70 81 67 15  0 33 44 45]\n",
      "[20 26 40 72 88  8 15 76 62 47 19 14 30 43 15 14  5 65 15 22 82 19 28 17\n",
      " 89 93 30 19 66 98 47 59  8 41 37 57  1 55 36 61 13 80 46 93 81 36 10 55\n",
      " 66 15 62 94 36 96 88 51  5 98 63 26  4 30 23 93 53 32 27 66 76 68 63 22\n",
      " 29 50 87 50 33 69 83 46]\n"
     ]
    }
   ],
   "source": [
    "# crear dos arrays usando random.rand con 80 elementos, nº entre 1-100\n",
    "array1 = np.random.randint(0,100, (80))\n",
    "print(array1)\n",
    "\n",
    "array2 = np.random.randint(0, 100, (80))\n",
    "print(array2)"
   ]
  },
  {
   "cell_type": "code",
   "execution_count": 16,
   "metadata": {},
   "outputs": [
    {
     "name": "stdout",
     "output_type": "stream",
     "text": [
      "[ 0  2  4  9 10 15 17 19 20 22 25 26 27 28 30 33 34 35 36 37 38 39 42 43\n",
      " 44 45 46 48 49 50 52 54 56 57 59 64 66 67 68 69 70 71 72 74 76 78 79 80\n",
      " 81 83 88 89 90 91 93 95 96 97]\n",
      "[ 1  4  5  8 10 13 14 15 17 19 20 22 23 26 27 28 29 30 32 33 36 37 40 41\n",
      " 43 46 47 50 51 53 55 57 59 61 62 63 65 66 68 69 72 76 80 81 82 83 87 88\n",
      " 89 93 94 96 98]\n"
     ]
    }
   ],
   "source": [
    "# Extraed los valores únicos de cada uno de los arrays y los guardáis en variables en las que se les llame array1 y array2\n",
    "array1 = np.unique(array1)\n",
    "print(array1)\n",
    "\n",
    "array2 = np.unique(array2)\n",
    "print(array2)"
   ]
  },
  {
   "cell_type": "code",
   "execution_count": 17,
   "metadata": {},
   "outputs": [
    {
     "name": "stdout",
     "output_type": "stream",
     "text": [
      "[ 0  2  9 25 34 35 38 39 42 44 45 48 49 52 54 56 64 67 70 71 74 78 79 90\n",
      " 91 95 97]\n"
     ]
    }
   ],
   "source": [
    "# Identificad los elementos presentes en el array1 pero no en el array2 y asiganarlo a una variable que se llame array3\n",
    "array3 = np.setdiff1d(array1, array2)\n",
    "print(array3)"
   ]
  },
  {
   "cell_type": "code",
   "execution_count": 18,
   "metadata": {},
   "outputs": [
    {
     "name": "stdout",
     "output_type": "stream",
     "text": [
      "[ 1  5  8 13 14 23 29 32 40 41 47 51 53 55 61 62 63 65 82 87 94 98]\n"
     ]
    }
   ],
   "source": [
    "# Identificad los elementos presentes en el array2 pero no en el array1 y asiganarlo a una variable que se llame array4\n",
    "array4 = np.setdiff1d(array2, array1)\n",
    "print(array4)"
   ]
  },
  {
   "cell_type": "code",
   "execution_count": 19,
   "metadata": {},
   "outputs": [
    {
     "name": "stdout",
     "output_type": "stream",
     "text": [
      "[ 4 10 15 17 19 20 22 26 27 28 30 33 36 37 43 46 50 57 59 66 68 69 72 76\n",
      " 80 81 83 88 89 93 96]\n"
     ]
    }
   ],
   "source": [
    "# Identificad los elementos presentes en ambos arrays y asiganarlos a una variable que se llame array5\n",
    "array5 = np.intersect1d(array1, array2)\n",
    "print(array5)"
   ]
  },
  {
   "cell_type": "code",
   "execution_count": 20,
   "metadata": {},
   "outputs": [
    {
     "name": "stdout",
     "output_type": "stream",
     "text": [
      "58\n",
      "53\n",
      "27\n",
      "22\n",
      "31\n",
      "True\n"
     ]
    }
   ],
   "source": [
    "# ¿Cuál es la relación que existe entre todos estos arrays?\n",
    "forma_1 = len(array1)\n",
    "print(forma_1)\n",
    "\n",
    "forma_2 = len(array2)\n",
    "print(forma_2)\n",
    "\n",
    "forma_3 = len(array3)\n",
    "print(forma_3)\n",
    "\n",
    "forma_4 = len(array4)\n",
    "print(forma_4)\n",
    "\n",
    "forma_5 = len(array5)\n",
    "print(forma_5)\n",
    "\n",
    "print(len(array1) + len(array4) - len(array5)  == len(array2) + len(array3) - len(array5))"
   ]
  }
 ],
 "metadata": {
  "interpreter": {
   "hash": "9df72549cec875d35faaa50875d444b10c11452b268975a17c9dc6870f43870f"
  },
  "kernelspec": {
   "display_name": "Python 3.9.7 ('base')",
   "language": "python",
   "name": "python3"
  },
  "language_info": {
   "codemirror_mode": {
    "name": "ipython",
    "version": 3
   },
   "file_extension": ".py",
   "mimetype": "text/x-python",
   "name": "python",
   "nbconvert_exporter": "python",
   "pygments_lexer": "ipython3",
   "version": "3.9.7"
  },
  "orig_nbformat": 4
 },
 "nbformat": 4,
 "nbformat_minor": 2
}
