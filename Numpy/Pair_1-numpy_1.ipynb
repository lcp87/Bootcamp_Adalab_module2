{
 "cells": [
  {
   "cell_type": "code",
   "execution_count": 1,
   "metadata": {},
   "outputs": [],
   "source": [
    "import numpy as np"
   ]
  },
  {
   "cell_type": "code",
   "execution_count": 3,
   "metadata": {},
   "outputs": [
    {
     "data": {
      "text/plain": [
       "array([7, 2, 4, 3])"
      ]
     },
     "execution_count": 3,
     "metadata": {},
     "output_type": "execute_result"
    }
   ],
   "source": [
    "#1 crear 3 arrays\n",
    "#unidimensional\n",
    "lista1 = [7,2,4,3]\n",
    "array1 = np.array(lista1)\n",
    "array1"
   ]
  },
  {
   "cell_type": "code",
   "execution_count": 4,
   "metadata": {},
   "outputs": [
    {
     "data": {
      "text/plain": [
       "array([[10, 24,  0],\n",
       "       [28, 24,  0]])"
      ]
     },
     "execution_count": 4,
     "metadata": {},
     "output_type": "execute_result"
    }
   ],
   "source": [
    "#bidimensional\n",
    "array2 = np.random.randint(0,50, (2,3))\n",
    "array2"
   ]
  },
  {
   "cell_type": "code",
   "execution_count": 5,
   "metadata": {},
   "outputs": [
    {
     "data": {
      "text/plain": [
       "array([[[18, 42, 25,  4,  1],\n",
       "        [29, 48,  3, 22, 39],\n",
       "        [32, 11, 18,  4, 11]],\n",
       "\n",
       "       [[33, 44,  4, 25, 29],\n",
       "        [13, 35, 22, 17, 42],\n",
       "        [44, 37, 33, 11, 44]]])"
      ]
     },
     "execution_count": 5,
     "metadata": {},
     "output_type": "execute_result"
    }
   ],
   "source": [
    "#multidimensional\n",
    "array3 = np.random.randint(0,50, (2,3,5))\n",
    "array3"
   ]
  },
  {
   "cell_type": "code",
   "execution_count": 9,
   "metadata": {},
   "outputs": [
    {
     "name": "stdout",
     "output_type": "stream",
     "text": [
      "Este es el tamaño del array 4\n",
      "Esta es la dimensión del array 1\n",
      "Este es el tipo de array int64\n",
      "Esta es la forma del array (4,)\n",
      "Este es el tamaño del array 6\n",
      "Esta es la dimensión del array 2\n",
      "Este es el tipo de array int64\n",
      "Esta es la forma del array (2, 3)\n",
      "Este es el tamaño del array 30\n",
      "Esta es la dimensión del array 3\n",
      "Este es el tipo de array int64\n",
      "Esta es la forma del array (2, 3, 5)\n"
     ]
    }
   ],
   "source": [
    "#2 propiedades básicas en una función\n",
    "def propiedades():\n",
    "    lista_arrays = [array1, array2, array3]\n",
    "    for propiedad in lista_arrays:\n",
    "        print('Este es el tamaño del array',  propiedad.size)\n",
    "        print('Esta es la dimensión del array', propiedad.ndim)\n",
    "        print('Este es el tipo de array',  propiedad.dtype)\n",
    "        print('Esta es la forma del array',  propiedad.shape)\n",
    "        \n",
    "propiedades()"
   ]
  },
  {
   "cell_type": "code",
   "execution_count": 11,
   "metadata": {},
   "outputs": [
    {
     "data": {
      "text/plain": [
       "array([[1., 0., 0.],\n",
       "       [0., 1., 0.],\n",
       "       [0., 0., 1.]])"
      ]
     },
     "execution_count": 11,
     "metadata": {},
     "output_type": "execute_result"
    }
   ],
   "source": [
    "#3 matriz identidad de 3 filas x 3 columnas\n",
    "array4 = np.eye(3,3)\n",
    "array4"
   ]
  },
  {
   "cell_type": "code",
   "execution_count": 10,
   "metadata": {},
   "outputs": [
    {
     "data": {
      "text/plain": [
       "array([[[1, 1, 1, 1, 1],\n",
       "        [1, 1, 1, 1, 1],\n",
       "        [1, 1, 1, 1, 1]],\n",
       "\n",
       "       [[1, 1, 1, 1, 1],\n",
       "        [1, 1, 1, 1, 1],\n",
       "        [1, 1, 1, 1, 1]]])"
      ]
     },
     "execution_count": 10,
     "metadata": {},
     "output_type": "execute_result"
    }
   ],
   "source": [
    "#4 matriz de tres dimensiones de 1 = matriz de 3 dimensiones del 1er ejercicio\n",
    "array5 = np.ones_like(array3)\n",
    "array5"
   ]
  },
  {
   "cell_type": "code",
   "execution_count": 12,
   "metadata": {},
   "outputs": [
    {
     "ename": "ValueError",
     "evalue": "operands could not be broadcast together with shapes (3,3) (2,3) ",
     "output_type": "error",
     "traceback": [
      "\u001b[0;31m---------------------------------------------------------------------------\u001b[0m",
      "\u001b[0;31mValueError\u001b[0m                                Traceback (most recent call last)",
      "\u001b[0;32m/tmp/ipykernel_454/758180154.py\u001b[0m in \u001b[0;36m<module>\u001b[0;34m\u001b[0m\n\u001b[1;32m      1\u001b[0m \u001b[0;31m#5 operaciones\u001b[0m\u001b[0;34m\u001b[0m\u001b[0;34m\u001b[0m\u001b[0m\n\u001b[0;32m----> 2\u001b[0;31m \u001b[0msuma\u001b[0m \u001b[0;34m=\u001b[0m \u001b[0marray4\u001b[0m \u001b[0;34m+\u001b[0m \u001b[0marray2\u001b[0m\u001b[0;34m\u001b[0m\u001b[0;34m\u001b[0m\u001b[0m\n\u001b[0m\u001b[1;32m      3\u001b[0m \u001b[0mprint\u001b[0m\u001b[0;34m(\u001b[0m\u001b[0msuma\u001b[0m\u001b[0;34m)\u001b[0m\u001b[0;34m\u001b[0m\u001b[0;34m\u001b[0m\u001b[0m\n\u001b[1;32m      4\u001b[0m \u001b[0;31m#No se puede sumar porque no tienen el mismo nº de filas\u001b[0m\u001b[0;34m\u001b[0m\u001b[0;34m\u001b[0m\u001b[0m\n",
      "\u001b[0;31mValueError\u001b[0m: operands could not be broadcast together with shapes (3,3) (2,3) "
     ]
    }
   ],
   "source": [
    "#5 operaciones\n",
    "suma = array4 + array2\n",
    "print(suma)\n",
    "#No se puede sumar porque no tienen el mismo nº de filas"
   ]
  },
  {
   "cell_type": "code",
   "execution_count": 13,
   "metadata": {},
   "outputs": [
    {
     "name": "stdout",
     "output_type": "stream",
     "text": [
      "Esta es la suma de matrices \n",
      " [[2. 0. 0.]\n",
      " [0. 2. 0.]\n",
      " [0. 0. 2.]]\n"
     ]
    }
   ],
   "source": [
    "# suma 2\n",
    "array6 = np.eye(3,3)\n",
    "suma = array6 + array4\n",
    "print('Esta es la suma de matrices \\n',suma)"
   ]
  },
  {
   "cell_type": "code",
   "execution_count": 14,
   "metadata": {},
   "outputs": [
    {
     "name": "stdout",
     "output_type": "stream",
     "text": [
      "Esta es la matriz multiplicada \n",
      " [[1. 0. 0.]\n",
      " [0. 1. 0.]\n",
      " [0. 0. 1.]]\n"
     ]
    }
   ],
   "source": [
    "# multiplicar matriz identidad x matriz del ejercicio anterior\n",
    "multiplicacion = array6 * array4\n",
    "print('Esta es la matriz multiplicada \\n', multiplicacion)"
   ]
  },
  {
   "cell_type": "code",
   "execution_count": 15,
   "metadata": {},
   "outputs": [
    {
     "name": "stdout",
     "output_type": "stream",
     "text": [
      "Esta es la división de las matrices \n",
      " [[ 1. nan nan]\n",
      " [nan  1. nan]\n",
      " [nan nan  1.]]\n"
     ]
    },
    {
     "name": "stderr",
     "output_type": "stream",
     "text": [
      "/tmp/ipykernel_454/3563071699.py:2: RuntimeWarning: invalid value encountered in true_divide\n",
      "  division = array6 / array4\n"
     ]
    }
   ],
   "source": [
    "# división de las matrices\n",
    "division = array6 / array4\n",
    "print('Esta es la división de las matrices \\n', division)"
   ]
  }
 ],
 "metadata": {
  "interpreter": {
   "hash": "9df72549cec875d35faaa50875d444b10c11452b268975a17c9dc6870f43870f"
  },
  "kernelspec": {
   "display_name": "Python 3.9.7 ('base')",
   "language": "python",
   "name": "python3"
  },
  "language_info": {
   "codemirror_mode": {
    "name": "ipython",
    "version": 3
   },
   "file_extension": ".py",
   "mimetype": "text/x-python",
   "name": "python",
   "nbconvert_exporter": "python",
   "pygments_lexer": "ipython3",
   "version": "3.9.7"
  },
  "orig_nbformat": 4
 },
 "nbformat": 4,
 "nbformat_minor": 2
}
