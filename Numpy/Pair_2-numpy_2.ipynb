{
 "cells": [
  {
   "cell_type": "code",
   "execution_count": 2,
   "metadata": {},
   "outputs": [],
   "source": [
    "import numpy as np"
   ]
  },
  {
   "cell_type": "code",
   "execution_count": 3,
   "metadata": {},
   "outputs": [
    {
     "name": "stdout",
     "output_type": "stream",
     "text": [
      "[[0.62978462 0.59924965 0.20848005]\n",
      " [0.86970813 0.94262975 0.94262645]\n",
      " [0.65947394 0.78908841 0.68794864]\n",
      " [0.53360951 0.39900064 0.105938  ]\n",
      " [0.91442091 0.42159753 0.55719865]]\n"
     ]
    }
   ],
   "source": [
    "# crear array bidimensional 5x3\n",
    "array1 = np.random.rand(5,3)\n",
    "print(array1)"
   ]
  },
  {
   "cell_type": "code",
   "execution_count": 5,
   "metadata": {},
   "outputs": [
    {
     "name": "stdout",
     "output_type": "stream",
     "text": [
      "Esto es la primera fila y segunda columna: \n",
      " 0.5992496452595529\n"
     ]
    }
   ],
   "source": [
    "# valor de la primera fila y segunda columna\n",
    "print('Esto es la primera fila y segunda columna: \\n', array1[0,1])"
   ]
  },
  {
   "cell_type": "code",
   "execution_count": 6,
   "metadata": {},
   "outputs": [
    {
     "name": "stdout",
     "output_type": "stream",
     "text": [
      "Esto es la segunda fila y las dos primeras columnas: \n",
      " [0.86970813 0.94262975]\n"
     ]
    }
   ],
   "source": [
    "# segunda fila y dos primeras columnas\n",
    "print('Esto es la segunda fila y las dos primeras columnas: \\n', array1[1,0:2])"
   ]
  },
  {
   "cell_type": "code",
   "execution_count": 7,
   "metadata": {},
   "outputs": [
    {
     "name": "stdout",
     "output_type": "stream",
     "text": [
      "Esto son las filas pares (incluyendo 0) y todas las columnas: \n",
      " [[0.62978462 0.59924965 0.20848005]\n",
      " [0.65947394 0.78908841 0.68794864]\n",
      " [0.91442091 0.42159753 0.55719865]]\n"
     ]
    }
   ],
   "source": [
    "# extraer filas pares y todas las columnas \n",
    "print('Esto son las filas pares (incluyendo 0) y todas las columnas: \\n', array1[0:6:2,:])"
   ]
  },
  {
   "cell_type": "code",
   "execution_count": 12,
   "metadata": {},
   "outputs": [
    {
     "name": "stdout",
     "output_type": "stream",
     "text": [
      "Estos son los valores mayores que 0.5: \n",
      " [0.62978462 0.59924965 0.86970813 0.94262975 0.94262645 0.65947394\n",
      " 0.78908841 0.68794864 0.53360951 0.91442091 0.55719865]\n"
     ]
    }
   ],
   "source": [
    "# valores > 0.5\n",
    "print('Estos son los valores mayores que 0.5: \\n', array1[array1 > 0.5])"
   ]
  },
  {
   "cell_type": "code",
   "execution_count": 14,
   "metadata": {},
   "outputs": [
    {
     "name": "stdout",
     "output_type": "stream",
     "text": [
      "Estos son los valores menores 0.2 y mayores que 0.5: \n",
      " [0.62978462 0.59924965 0.86970813 0.94262975 0.94262645 0.65947394\n",
      " 0.78908841 0.68794864 0.53360951 0.105938   0.91442091 0.55719865]\n"
     ]
    }
   ],
   "source": [
    "# valores < 0.2 y > 0.5\n",
    "print('Estos son los valores menores 0.2 y mayores que 0.5: \\n', array1[(array1 < 0.2) | (array1 > 0.5)])"
   ]
  },
  {
   "cell_type": "code",
   "execution_count": 17,
   "metadata": {},
   "outputs": [],
   "source": [
    "# crear dos array de 3 dimensiones\n",
    "array2 = np.random.rand(2,3,5)\n",
    "array3 = np.random.rand(3,2,5)"
   ]
  },
  {
   "cell_type": "code",
   "execution_count": 18,
   "metadata": {},
   "outputs": [
    {
     "name": "stdout",
     "output_type": "stream",
     "text": [
      "(2, 3, 5)\n",
      "30\n",
      "3\n",
      "float64\n",
      "(3, 2, 5)\n",
      "30\n",
      "3\n",
      "float64\n"
     ]
    }
   ],
   "source": [
    "# análisis exploratorio de los arrays creados\n",
    "def analisis():\n",
    "    lista_array = [array2, array3]\n",
    "    for propiedad in lista_array:\n",
    "        print(propiedad.shape)\n",
    "        print(propiedad.size)\n",
    "        print(propiedad.ndim)\n",
    "        print(propiedad.dtype)\n",
    "\n",
    "analisis()"
   ]
  },
  {
   "cell_type": "code",
   "execution_count": 19,
   "metadata": {},
   "outputs": [
    {
     "ename": "ValueError",
     "evalue": "operands could not be broadcast together with shapes (2,3,5) (3,2,5) ",
     "output_type": "error",
     "traceback": [
      "\u001b[0;31m---------------------------------------------------------------------------\u001b[0m",
      "\u001b[0;31mValueError\u001b[0m                                Traceback (most recent call last)",
      "\u001b[0;32m/tmp/ipykernel_979/3969293259.py\u001b[0m in \u001b[0;36m<module>\u001b[0;34m\u001b[0m\n\u001b[1;32m      1\u001b[0m \u001b[0;31m#suma dos arrays\u001b[0m\u001b[0;34m\u001b[0m\u001b[0;34m\u001b[0m\u001b[0m\n\u001b[0;32m----> 2\u001b[0;31m \u001b[0msuma\u001b[0m \u001b[0;34m=\u001b[0m \u001b[0marray2\u001b[0m \u001b[0;34m+\u001b[0m \u001b[0marray3\u001b[0m\u001b[0;34m\u001b[0m\u001b[0;34m\u001b[0m\u001b[0m\n\u001b[0m\u001b[1;32m      3\u001b[0m \u001b[0;31m#no se puede porque no tienen la misma forma\u001b[0m\u001b[0;34m\u001b[0m\u001b[0;34m\u001b[0m\u001b[0m\n",
      "\u001b[0;31mValueError\u001b[0m: operands could not be broadcast together with shapes (2,3,5) (3,2,5) "
     ]
    }
   ],
   "source": [
    "#suma dos arrays\n",
    "suma = array2 + array3 \n",
    "#no se puede porque no tienen la misma forma"
   ]
  },
  {
   "cell_type": "code",
   "execution_count": 23,
   "metadata": {},
   "outputs": [
    {
     "data": {
      "text/plain": [
       "array([[[0.94886221, 0.64000471, 0.55309845, 0.7421356 , 0.12751405],\n",
       "        [0.45870157, 0.32465653, 0.81138041, 0.85037737, 0.4420444 ]],\n",
       "\n",
       "       [[0.12247644, 0.03857659, 0.49705476, 0.37752479, 0.58761515],\n",
       "        [0.73993821, 0.61239881, 0.64654522, 0.41048085, 0.67392986]],\n",
       "\n",
       "       [[0.97131743, 0.23431209, 0.59364752, 0.24958913, 0.29242516],\n",
       "        [0.56385463, 0.32814455, 0.54852726, 0.02930059, 0.50950968]]])"
      ]
     },
     "execution_count": 23,
     "metadata": {},
     "output_type": "execute_result"
    }
   ],
   "source": [
    "array3"
   ]
  },
  {
   "cell_type": "code",
   "execution_count": 24,
   "metadata": {},
   "outputs": [
    {
     "data": {
      "text/plain": [
       "array([[[0.94886221, 0.64000471, 0.55309845, 0.7421356 , 0.12751405],\n",
       "        [0.12247644, 0.03857659, 0.49705476, 0.37752479, 0.58761515],\n",
       "        [0.97131743, 0.23431209, 0.59364752, 0.24958913, 0.29242516]],\n",
       "\n",
       "       [[0.45870157, 0.32465653, 0.81138041, 0.85037737, 0.4420444 ],\n",
       "        [0.73993821, 0.61239881, 0.64654522, 0.41048085, 0.67392986],\n",
       "        [0.56385463, 0.32814455, 0.54852726, 0.02930059, 0.50950968]]])"
      ]
     },
     "execution_count": 24,
     "metadata": {},
     "output_type": "execute_result"
    }
   ],
   "source": [
    "# .reshape() y .transpose()\n",
    "array3_transpose = array3.transpose(1,0,2)\n",
    "array3_transpose"
   ]
  },
  {
   "cell_type": "code",
   "execution_count": 26,
   "metadata": {},
   "outputs": [
    {
     "data": {
      "text/plain": [
       "array([[[0.94886221, 0.64000471, 0.55309845, 0.7421356 , 0.12751405],\n",
       "        [0.45870157, 0.32465653, 0.81138041, 0.85037737, 0.4420444 ],\n",
       "        [0.12247644, 0.03857659, 0.49705476, 0.37752479, 0.58761515]],\n",
       "\n",
       "       [[0.73993821, 0.61239881, 0.64654522, 0.41048085, 0.67392986],\n",
       "        [0.97131743, 0.23431209, 0.59364752, 0.24958913, 0.29242516],\n",
       "        [0.56385463, 0.32814455, 0.54852726, 0.02930059, 0.50950968]]])"
      ]
     },
     "execution_count": 26,
     "metadata": {},
     "output_type": "execute_result"
    }
   ],
   "source": [
    "array3_reshape = array3.reshape(2,3,5)\n",
    "array3_reshape"
   ]
  },
  {
   "cell_type": "code",
   "execution_count": 27,
   "metadata": {},
   "outputs": [
    {
     "name": "stdout",
     "output_type": "stream",
     "text": [
      "[[[0.99887126 0.69256712 0.72329445 0.89404077 0.76842161]\n",
      "  [0.8600985  0.695135   0.80778301 0.92793651 1.35954286]\n",
      "  [1.21833141 0.90860834 1.25417608 0.75656426 0.61961432]]\n",
      "\n",
      " [[1.22518671 1.2308147  1.36062421 1.38573383 0.8286388 ]\n",
      "  [0.93559355 0.99934675 1.39259832 0.67800814 1.58073736]\n",
      "  [1.14799583 0.80431222 1.42005094 0.89589441 1.35992768]]]\n"
     ]
    }
   ],
   "source": [
    "suma = array2 + array3_transpose\n",
    "print(suma)"
   ]
  },
  {
   "cell_type": "code",
   "execution_count": 28,
   "metadata": {},
   "outputs": [
    {
     "name": "stdout",
     "output_type": "stream",
     "text": [
      "[[[-0.89885315 -0.5874423  -0.38290245 -0.59023044  0.51339351]\n",
      "  [ 0.2789205   0.33190187 -0.50065216 -0.29996566  0.32988331]\n",
      "  [ 0.12453755  0.63571966  0.1634738   0.12945034 -0.26042599]]\n",
      "\n",
      " [[ 0.02654693  0.29375937 -0.09730142  0.12487561 -0.28733547]\n",
      "  [-0.77566208  0.15263585  0.15240558  0.01793817  0.61438234]\n",
      "  [ 0.02028657  0.14802312  0.32299641  0.83729323  0.34090832]]]\n"
     ]
    }
   ],
   "source": [
    "resta = array2 - array3_reshape\n",
    "print(resta)"
   ]
  },
  {
   "cell_type": "code",
   "execution_count": 29,
   "metadata": {},
   "outputs": [
    {
     "name": "stdout",
     "output_type": "stream",
     "text": [
      "[[[0.0474517  0.03364019 0.09413514 0.11273423 0.08172472]\n",
      "  [0.09034132 0.02532779 0.15444895 0.20779407 0.45359642]\n",
      "  [0.23992899 0.15799576 0.39212114 0.12653548 0.09567834]]\n",
      "\n",
      " [[0.35158793 0.29419017 0.44564566 0.45525502 0.17089189]\n",
      "  [0.14477286 0.23696646 0.48235707 0.10981483 0.61112465]\n",
      "  [0.32937072 0.15625182 0.4780545  0.02539171 0.4332962 ]]]\n"
     ]
    }
   ],
   "source": [
    "multiplicacion = array2 * array3_transpose\n",
    "print(multiplicacion)"
   ]
  },
  {
   "cell_type": "code",
   "execution_count": 30,
   "metadata": {},
   "outputs": [
    {
     "name": "stdout",
     "output_type": "stream",
     "text": [
      "[[[ 0.05270423  0.08212816  0.30771375  0.20468653  5.02617221]\n",
      "  [ 1.60806528  2.02231696  0.38296247  0.64725583  1.74626735]\n",
      "  [ 2.01682859 17.47941385  1.32888489  1.34289229  0.55680859]]\n",
      "\n",
      " [[ 1.03587723  1.47968638  0.84950562  1.30421787  0.57364188]\n",
      "  [ 0.20143296  1.65142117  1.25672739  1.07187078  3.10099004]\n",
      "  [ 1.03597837  1.45109121  1.58884295 29.57598765  1.66909095]]]\n"
     ]
    }
   ],
   "source": [
    "division = array2 / array3_reshape\n",
    "print(division)"
   ]
  }
 ],
 "metadata": {
  "interpreter": {
   "hash": "9df72549cec875d35faaa50875d444b10c11452b268975a17c9dc6870f43870f"
  },
  "kernelspec": {
   "display_name": "Python 3.9.7 ('base')",
   "language": "python",
   "name": "python3"
  },
  "language_info": {
   "codemirror_mode": {
    "name": "ipython",
    "version": 3
   },
   "file_extension": ".py",
   "mimetype": "text/x-python",
   "name": "python",
   "nbconvert_exporter": "python",
   "pygments_lexer": "ipython3",
   "version": "3.9.7"
  },
  "orig_nbformat": 4
 },
 "nbformat": 4,
 "nbformat_minor": 2
}
